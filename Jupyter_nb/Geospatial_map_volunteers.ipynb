{
 "cells": [
  {
   "cell_type": "markdown",
   "metadata": {},
   "source": [
    "# AIM: Visualize reported availability of volunteers on greographical map"
   ]
  },
  {
   "cell_type": "markdown",
   "metadata": {},
   "source": [
    "Background:\n",
    "- In crisis situation, organizations might require rapid and non-bureaucratic low-level support. This code aims at generating a geographical map with the available volunteers overlayed\n",
    "\n",
    "\n",
    "Requirements:\n",
    "- retrieve data via json API\n",
    "    table of anonymized volunteers with postcode (PLZ, later GPS coord), weekday, type (time range)\n",
    "- PLZ coordinates in .xml downloaded from http://data.geo.admin.ch/ch.swisstopo-vd.ortschaftenverzeichnis_plz/data.zip (generalizeable to other countries??)\n",
    "\n"
   ]
  },
  {
   "cell_type": "markdown",
   "metadata": {},
   "source": [
    "# Initialization\n",
    "(install and import packages)"
   ]
  },
  {
   "cell_type": "markdown",
   "metadata": {},
   "source": []
  },
  {
   "cell_type": "code",
   "execution_count": null,
   "metadata": {},
   "outputs": [],
   "source": [
    "pip install matplotlib"
   ]
  },
  {
   "cell_type": "markdown",
   "metadata": {},
   "source": [
    "plotly_express [https://github.com/plotly/plotly_express/]"
   ]
  },
  {
   "cell_type": "code",
   "execution_count": null,
   "metadata": {},
   "outputs": [],
   "source": [
    "!pip3 install plotly_express"
   ]
  },
  {
   "cell_type": "markdown",
   "metadata": {},
   "source": [
    "separate extension jupyterlab-plotly for jupyter-lab plotly [https://plotly.com/python/getting-started/#jupyterlab-support-python-35] "
   ]
  },
  {
   "cell_type": "code",
   "execution_count": null,
   "metadata": {
    "ExecuteTime": {
     "end_time": "2020-04-04T19:17:37.628896Z",
     "start_time": "2020-04-04T19:17:26.280492Z"
    }
   },
   "outputs": [],
   "source": [
    "!pip3 install jupyterlab==1.2 \"ipywidgets>=7.5\""
   ]
  },
  {
   "cell_type": "markdown",
   "metadata": {},
   "source": [
    "geopandas"
   ]
  },
  {
   "cell_type": "code",
   "execution_count": 4,
   "metadata": {
    "ExecuteTime": {
     "end_time": "2020-04-04T19:33:38.496773Z",
     "start_time": "2020-04-04T19:33:29.057671Z"
    },
    "collapsed": true
   },
   "outputs": [
    {
     "name": "stdout",
     "output_type": "stream",
     "text": [
      "Collecting geopandas\n",
      "\u001b[?25l  Downloading https://files.pythonhosted.org/packages/83/c5/3cf9cdc39a6f2552922f79915f36b45a95b71fd343cfc51170a5b6ddb6e8/geopandas-0.7.0-py2.py3-none-any.whl (928kB)\n",
      "\u001b[K     |████████████████████████████████| 931kB 2.9MB/s eta 0:00:01\n",
      "\u001b[?25hRequirement already satisfied: shapely in /opt/conda/lib/python3.6/site-packages (from geopandas) (1.7.0)\n",
      "Requirement already satisfied: pandas>=0.23.0 in /opt/conda/lib/python3.6/site-packages (from geopandas) (0.25.1)\n",
      "Collecting fiona\n",
      "\u001b[?25l  Downloading https://files.pythonhosted.org/packages/ec/20/4e63bc5c6e62df889297b382c3ccd4a7a488b00946aaaf81a118158c6f09/Fiona-1.8.13.post1-cp36-cp36m-manylinux1_x86_64.whl (14.7MB)\n",
      "\u001b[K     |████████████████████████████████| 14.7MB 4.6MB/s eta 0:00:01    |██████████████████▉             | 8.7MB 3.9MB/s eta 0:00:02\n",
      "\u001b[?25hRequirement already satisfied: pyproj>=2.2.0 in /opt/conda/lib/python3.6/site-packages (from geopandas) (2.6.0)\n",
      "Requirement already satisfied: python-dateutil>=2.6.1 in /opt/conda/lib/python3.6/site-packages (from pandas>=0.23.0->geopandas) (2.8.1)\n",
      "Requirement already satisfied: numpy>=1.13.3 in /opt/conda/lib/python3.6/site-packages (from pandas>=0.23.0->geopandas) (1.18.1)\n",
      "Requirement already satisfied: pytz>=2017.2 in /opt/conda/lib/python3.6/site-packages (from pandas>=0.23.0->geopandas) (2019.3)\n",
      "Requirement already satisfied: attrs>=17 in /opt/conda/lib/python3.6/site-packages (from fiona->geopandas) (19.3.0)\n",
      "Collecting click-plugins>=1.0\n",
      "  Using cached https://files.pythonhosted.org/packages/e9/da/824b92d9942f4e472702488857914bdd50f73021efea15b4cad9aca8ecef/click_plugins-1.1.1-py2.py3-none-any.whl\n",
      "Collecting cligj>=0.5\n",
      "  Downloading https://files.pythonhosted.org/packages/e4/be/30a58b4b0733850280d01f8bd132591b4668ed5c7046761098d665ac2174/cligj-0.5.0-py3-none-any.whl\n",
      "Requirement already satisfied: munch in /opt/conda/lib/python3.6/site-packages (from fiona->geopandas) (2.3.2)\n",
      "Requirement already satisfied: six>=1.7 in /opt/conda/lib/python3.6/site-packages (from fiona->geopandas) (1.12.0)\n",
      "Requirement already satisfied: click<8,>=4.0 in /opt/conda/lib/python3.6/site-packages (from fiona->geopandas) (7.0)\n",
      "Installing collected packages: click-plugins, cligj, fiona, geopandas\n",
      "Successfully installed click-plugins-1.1.1 cligj-0.5.0 fiona-1.8.13.post1 geopandas-0.7.0\n"
     ]
    }
   ],
   "source": [
    "!pip3 install geopandas"
   ]
  },
  {
   "cell_type": "markdown",
   "metadata": {},
   "source": [
    "## list python modules with version"
   ]
  },
  {
   "cell_type": "code",
   "execution_count": 5,
   "metadata": {
    "ExecuteTime": {
     "end_time": "2020-04-04T19:33:54.789148Z",
     "start_time": "2020-04-04T19:33:53.127403Z"
    },
    "collapsed": true
   },
   "outputs": [
    {
     "name": "stdout",
     "output_type": "stream",
     "text": [
      "absl-py==0.8.1\r\n",
      "adabound==0.0.5\r\n",
      "adanet==0.7.0\r\n",
      "agate==1.6.1\r\n",
      "agate-dbf==0.2.1\r\n",
      "agate-excel==0.2.3\r\n",
      "agate-sql==0.5.4\r\n",
      "aiohttp==3.6.0\r\n",
      "alabaster==0.7.12\r\n",
      "alembic==1.1.0\r\n",
      "alibi==0.2.3\r\n",
      "altair==3.2.0\r\n",
      "aniso8601==7.0.0\r\n",
      "annoy==1.16.0\r\n",
      "ansiwrap==0.8.4\r\n",
      "apache-libcloud==2.6.0\r\n",
      "appdirs==1.4.3\r\n",
      "arrow==0.15.2\r\n",
      "asn1crypto==1.2.0\r\n",
      "astetik==1.9.9\r\n",
      "astor==0.8.0\r\n",
      "astroid==2.2.5\r\n",
      "astropy==3.2.1\r\n",
      "async-generator==1.10\r\n",
      "async-timeout==3.0.1\r\n",
      "atomicwrites==1.3.0\r\n",
      "attrs==19.3.0\r\n",
      "audioread==2.1.8\r\n",
      "Augmentor==0.2.6\r\n",
      "Automat==0.7.0\r\n",
      "autopep8==1.4.4\r\n",
      "Babel==2.7.0\r\n",
      "backcall==0.1.0\r\n",
      "bandit==1.6.2\r\n",
      "bayesian-optimization==1.0.1\r\n",
      "bcrypt==3.1.7\r\n",
      "beautifulsoup4==4.8.1\r\n",
      "black==19.3b0\r\n",
      "blaze==0.10.1\r\n",
      "bleach==3.1.0\r\n",
      "blis==0.2.4\r\n",
      "blosc==1.8.1\r\n",
      "bokeh==1.3.4\r\n",
      "boltons==19.1.0\r\n",
      "boto==2.49.0\r\n",
      "boto3==1.9.228\r\n",
      "botocore==1.12.228\r\n",
      "bottle==0.12.17\r\n",
      "Bottleneck==1.2.1\r\n",
      "bpemb==0.3.0\r\n",
      "bqplot==0.11.8\r\n",
      "branca==0.3.1\r\n",
      "bs4==0.0.1\r\n",
      "bz2file==0.98\r\n",
      "cachetools==3.1.1\r\n",
      "Cartopy==0.17.0\r\n",
      "category-encoders==2.0.0\r\n",
      "certifi==2019.11.28\r\n",
      "certipy==0.1.3\r\n",
      "cffi==1.13.2\r\n",
      "chainer==6.3.0\r\n",
      "chances==0.1.6\r\n",
      "chardet==3.0.4\r\n",
      "chartify==2.6.1\r\n",
      "Click==7.0\r\n",
      "click-plugins==1.1.1\r\n",
      "cliff==2.16.0\r\n",
      "cligj==0.5.0\r\n",
      "cloudant==2.12.0\r\n",
      "cloudpickle==1.2.2\r\n",
      "cma==2.7.0\r\n",
      "cmd2==0.8.9\r\n",
      "colorama==0.4.1\r\n",
      "colorlog==4.0.2\r\n",
      "colour==0.1.5\r\n",
      "conda==4.7.12\r\n",
      "conda-build==3.18.9\r\n",
      "conda-package-handling==1.6.0\r\n",
      "configparser==4.0.2\r\n",
      "ConfigSpace==0.4.10\r\n",
      "confuse==1.0.0\r\n",
      "constantly==15.1.0\r\n",
      "contextlib2==0.5.5\r\n",
      "coverage==4.5.4\r\n",
      "cryptography==2.8\r\n",
      "cssselect==1.1.0\r\n",
      "csvkit==1.0.4\r\n",
      "cx-Oracle==7.2.2\r\n",
      "cycler==0.10.0\r\n",
      "cymem==2.0.2\r\n",
      "cysignals==1.10.2\r\n",
      "Cython==0.29.13\r\n",
      "cytoolz==0.10.0\r\n",
      "dash==1.2.0\r\n",
      "dash-core-components==1.1.2\r\n",
      "dash-html-components==1.0.1\r\n",
      "dash-renderer==1.0.1\r\n",
      "dash-table==4.2.0\r\n",
      "dask==2.4.0\r\n",
      "dask-glm==0.2.0\r\n",
      "dask-ml==1.0.0\r\n",
      "databricks-cli==0.9.0\r\n",
      "dataclasses==0.6\r\n",
      "dataset==1.1.2\r\n",
      "datashape==0.5.2\r\n",
      "db.py==0.5.3\r\n",
      "dbfread==2.0.7\r\n",
      "deap==1.3.0\r\n",
      "decorator==4.4.1\r\n",
      "deepTools==3.3.2\r\n",
      "deeptoolsintervals==0.1.9\r\n",
      "defusedxml==0.6.0\r\n",
      "Delorean==1.0.0\r\n",
      "Deprecated==1.2.6\r\n",
      "dgl==0.3.1\r\n",
      "dill==0.3.0\r\n",
      "distributed==2.4.0\r\n",
      "dm-sonnet==1.35\r\n",
      "docker==4.0.2\r\n",
      "docopt==0.6.2\r\n",
      "docutils==0.15.2\r\n",
      "dopamine-rl==2.0.5\r\n",
      "dparse==0.4.1\r\n",
      "dragonfly-opt==0.1.4\r\n",
      "easydict==1.9\r\n",
      "elasticsearch==7.0.4\r\n",
      "eli5==0.10.1\r\n",
      "en-core-web-sm==2.1.0\r\n",
      "entrypoints==0.3\r\n",
      "enum34==1.1.6\r\n",
      "et-xmlfile==1.0.1\r\n",
      "fabric==2.5.0\r\n",
      "facets-overview==1.0.0\r\n",
      "fairseq==0.8.0\r\n",
      "faiss==1.5.2\r\n",
      "fast-bert==1.3.5\r\n",
      "fastai==1.0.57\r\n",
      "fastapi==0.38.1\r\n",
      "fastBPE==0.1.0\r\n",
      "fastcache==1.1.0\r\n",
      "fastprogress==0.1.21\r\n",
      "fasttext==0.9.1\r\n",
      "featuretools==0.10.1\r\n",
      "feedfinder2==0.0.4\r\n",
      "feedparser==5.2.1\r\n",
      "filedepot==0.7.0\r\n",
      "filelock==3.0.12\r\n",
      "finetune==0.8.3\r\n",
      "Fiona==1.8.13.post1\r\n",
      "fire==0.2.1\r\n",
      "flair==0.4.3\r\n",
      "flake8==3.7.8\r\n",
      "flasgger==0.9.3\r\n",
      "flashtext==2.7\r\n",
      "Flask==1.1.1\r\n",
      "Flask-Compress==1.4.0\r\n",
      "Flask-Cors==3.0.8\r\n",
      "folium==0.10.0\r\n",
      "fs==2.4.11\r\n",
      "fsspec==0.4.4\r\n",
      "ftfy==5.6\r\n",
      "funcy==1.13\r\n",
      "future==0.17.1\r\n",
      "fuzzywuzzy==0.17.0\r\n",
      "gast==0.3.2\r\n",
      "gensim==3.8.0\r\n",
      "geographiclib==1.49\r\n",
      "geojson==2.5.0\r\n",
      "geonamescache==1.1.0\r\n",
      "geopandas==0.7.0\r\n",
      "geopy==1.20.0\r\n",
      "gevent==1.4.0\r\n",
      "gin-config==0.2.1\r\n",
      "gitdb2==2.0.5\r\n",
      "GitPython==3.0.2\r\n",
      "Glances==3.1.2\r\n",
      "glob2==0.7\r\n",
      "google-api-core==1.14.2\r\n",
      "google-api-python-client==1.7.11\r\n",
      "google-auth==1.6.3\r\n",
      "google-auth-httplib2==0.0.3\r\n",
      "google-cloud-core==1.0.3\r\n",
      "google-cloud-storage==1.19.0\r\n",
      "google-pasta==0.1.8\r\n",
      "google-resumable-media==0.4.0\r\n",
      "googleapis-common-protos==1.6.0\r\n",
      "googledrivedownloader==0.4\r\n",
      "gorilla==0.3.0\r\n",
      "gpytorch==0.3.5\r\n",
      "graph-nets==1.0.4\r\n",
      "graphene==2.1.8\r\n",
      "graphql-core==2.2.1\r\n",
      "graphql-relay==2.0.0\r\n",
      "graphviz==0.13\r\n",
      "greenlet==0.4.15\r\n",
      "grpcio==1.16.1\r\n",
      "gunicorn==19.9.0\r\n",
      "gym==0.14.0\r\n",
      "h11==0.8.1\r\n",
      "h5py==2.10.0\r\n",
      "handout==1.1.1\r\n",
      "HeapDict==1.0.1\r\n",
      "holoviews==1.12.5\r\n",
      "horovod==0.18.1\r\n",
      "hpbandster==0.7.4\r\n",
      "htmlmin==0.1.12\r\n",
      "httpie==1.0.3\r\n",
      "httplib2==0.13.1\r\n",
      "httptools==0.0.13\r\n",
      "humanize==0.5.1\r\n",
      "hyperlink==19.0.0\r\n",
      "hyperopt==0.1.2\r\n",
      "idna==2.8\r\n",
      "idna-ssl==1.1.0\r\n",
      "imageai==2.1.5\r\n",
      "ImageHash==4.0\r\n",
      "imageio==2.5.0\r\n",
      "imagesize==1.1.0\r\n",
      "imbalanced-learn==0.5.0\r\n",
      "imblearn==0.0\r\n",
      "imgaug==0.2.9\r\n",
      "implicit==0.4.0\r\n",
      "importlib-metadata==1.1.0\r\n",
      "incremental==17.5.0\r\n",
      "inflect==2.1.0\r\n",
      "influxdb==5.2.3\r\n",
      "intermine==1.11.0\r\n",
      "invoke==1.3.0\r\n",
      "ipyaggrid==0.2.0\r\n",
      "ipyexperiments==0.1.16\r\n",
      "ipykernel==5.1.2\r\n",
      "ipympl==0.3.3\r\n",
      "ipyparallel==6.2.4\r\n",
      "ipysheet==0.4.3\r\n",
      "ipython==7.6.1\r\n",
      "ipython-genutils==0.2.0\r\n",
      "ipython-sql==0.3.9\r\n",
      "ipywidgets==7.5.1\r\n",
      "isodate==0.6.0\r\n",
      "isort==4.3.21\r\n",
      "itsdangerous==1.1.0\r\n",
      "jax==0.1.45\r\n",
      "jaxlib==0.1.28\r\n",
      "jdcal==1.4.1\r\n",
      "jedi==0.14.1\r\n",
      "jeepney==0.4.1\r\n",
      "jellyfish==0.7.2\r\n",
      "jieba3k==0.35.1\r\n",
      "Jinja2==2.10.3\r\n",
      "jmespath==0.9.4\r\n",
      "joblib==0.13.2\r\n",
      "json5==0.8.5\r\n",
      "jsonpatch==1.24\r\n",
      "jsonpickle==1.2\r\n",
      "jsonpointer==2.0\r\n",
      "jsonschema==3.2.0\r\n",
      "jupyter==1.0.0\r\n",
      "jupyter-client==5.3.4\r\n",
      "jupyter-console==6.0.0\r\n",
      "jupyter-contrib-core==0.3.3\r\n",
      "jupyter-contrib-nbextensions==0.5.1\r\n",
      "jupyter-core==4.6.1\r\n",
      "jupyter-highlight-selected-word==0.2.0\r\n",
      "jupyter-http-over-ws==0.0.6\r\n",
      "jupyter-kernel-gateway==2.4.0\r\n",
      "jupyter-latex-envs==1.4.6\r\n",
      "jupyter-nbextensions-configurator==0.4.1\r\n",
      "jupyter-server-proxy==1.1.0\r\n",
      "jupyter-tensorboard==0.1.10\r\n",
      "Jupyter-Tooling-Extension==0.1\r\n",
      "jupyterhub==1.0.0\r\n",
      "jupyterlab==1.2.0\r\n",
      "jupyterlab-code-formatter==0.5.1\r\n",
      "jupyterlab-git==0.8.1\r\n",
      "jupyterlab-iframe==0.2.1\r\n",
      "jupyterlab-server==1.0.6\r\n",
      "jupytext==1.2.3\r\n",
      "kafka-python==1.4.6\r\n",
      "kaggle==1.5.5\r\n",
      "keract==2.7.2\r\n",
      "Keras==2.2.5\r\n",
      "Keras-Applications==1.0.8\r\n",
      "Keras-Preprocessing==1.1.0\r\n",
      "kerasplotlib==0.1.4\r\n",
      "kernda==0.3.0\r\n",
      "keyring==19.2.0\r\n",
      "kfac==0.2.0\r\n",
      "kiwisolver==1.1.0\r\n",
      "kmodes==0.10.1\r\n",
      "knockknock==0.1.3\r\n",
      "langdetect==1.0.7\r\n",
      "langid==1.1.6\r\n",
      "lazy-import==0.2.2\r\n",
      "lazy-object-proxy==1.4.2\r\n",
      "lazycluster==0.1.1\r\n",
      "lazydata==1.0.19\r\n",
      "leather==0.3.3\r\n",
      "librosa==0.7.0\r\n",
      "lief==0.9.0\r\n",
      "lightfm==1.15\r\n",
      "lightgbm==2.2.3\r\n",
      "lime==0.1.1.36\r\n",
      "llvmlite==0.29.0\r\n",
      "lxml==4.4.1\r\n",
      "Mako==1.1.0\r\n",
      "marisa-trie==0.7.5\r\n",
      "Markdown==3.1.1\r\n",
      "MarkupSafe==1.1.1\r\n",
      "marshmallow==3.1.0\r\n",
      "matplotlib==3.1.3\r\n",
      "matplotlib-venn==0.11.5\r\n",
      "mccabe==0.6.1\r\n",
      "meld3==1.0.2\r\n",
      "memory-profiler==0.55.0\r\n",
      "mesh-tensorflow==0.0.5\r\n",
      "minio==5.0.0\r\n",
      "missingno==0.4.2\r\n",
      "mistune==0.8.4\r\n",
      "mkl-fft==1.0.15\r\n",
      "mkl-random==1.1.0\r\n",
      "mkl-service==2.3.0\r\n",
      "mlens==0.2.3\r\n",
      "mlflow==1.2.0\r\n",
      "mmdnn==0.2.5\r\n",
      "mock==3.0.5\r\n",
      "more-itertools==7.2.0\r\n",
      "mpi4py==3.0.2\r\n",
      "mpld3==0.3\r\n",
      "mpmath==1.1.0\r\n",
      "msgpack==0.6.1\r\n",
      "msgpack-numpy==0.4.4.3\r\n",
      "multidict==4.5.2\r\n",
      "multipledispatch==0.6.0\r\n",
      "munch==2.3.2\r\n",
      "murmurhash==1.0.2\r\n",
      "nbconvert==5.6.1\r\n",
      "nbdime==1.1.0\r\n",
      "nbformat==4.4.0\r\n",
      "nbinteract==0.2.4\r\n",
      "nbresuse==0.3.2\r\n",
      "neo4j-driver==1.7.4\r\n",
      "neobolt==1.7.13\r\n",
      "neotime==1.7.4\r\n",
      "netifaces==0.10.9\r\n",
      "networkx==2.3\r\n",
      "nevergrad==0.2.3\r\n",
      "newspaper3k==0.2.8\r\n",
      "nltk==3.4.5\r\n",
      "nose==1.3.7\r\n",
      "nose2==0.9.1\r\n",
      "notebook==5.7.8\r\n",
      "numba==0.45.1\r\n",
      "numexpr==2.7.0\r\n",
      "numpy==1.18.1\r\n",
      "numpydoc==0.9.2\r\n",
      "nvidia-ml-py3==7.352.0\r\n",
      "nx-altair==0.1.4\r\n",
      "oauth2client==4.1.3\r\n",
      "oauthlib==3.1.0\r\n",
      "odo==0.5.0\r\n",
      "olefile==0.46\r\n",
      "onnx==1.5.0\r\n",
      "onnxruntime==0.5.0\r\n",
      "opencv-python==4.1.1.26\r\n",
      "openpyxl==2.6.3\r\n",
      "opt-einsum==3.0.1\r\n",
      "optuna==0.16.0\r\n",
      "OWSLib==0.19.2\r\n",
      "packaging==19.1\r\n",
      "pamela==1.0.0\r\n",
      "pandas==0.25.1\r\n",
      "pandas-datareader==0.7.4\r\n",
      "pandas-profiling==2.3.0\r\n",
      "pandasql==0.7.3\r\n",
      "pandocfilters==1.4.2\r\n",
      "papermill==1.1.0\r\n",
      "param==1.9.1\r\n",
      "paramiko==2.6.0\r\n",
      "parsedatetime==2.4\r\n",
      "parsel==1.5.2\r\n",
      "parso==0.5.1\r\n",
      "passlib==1.7.1\r\n",
      "patool==1.12\r\n",
      "patsy==0.5.1\r\n",
      "pbr==5.4.3\r\n",
      "pdvega==0.1\r\n",
      "peewee==3.10.0\r\n",
      "pexpect==4.7.0\r\n",
      "phik==0.9.8\r\n",
      "pickleshare==0.7.5\r\n",
      "Pillow==6.1.0\r\n",
      "pipdeptree==0.13.2\r\n",
      "pivottablejs==0.9.0\r\n",
      "pkginfo==1.5.0.1\r\n",
      "plac==0.9.6\r\n",
      "plotly==4.3.0\r\n",
      "plotly-express==0.4.1\r\n",
      "pluggy==0.13.0\r\n",
      "plyfile==0.7\r\n",
      "portalocker==1.5.1\r\n",
      "preshed==2.0.1\r\n",
      "prettytable==0.7.2\r\n",
      "prometheus-client==0.7.1\r\n",
      "promise==2.2.1\r\n",
      "prompt-toolkit==2.0.9\r\n",
      "protobuf==3.7.1\r\n",
      "psutil==5.6.3\r\n",
      "ptyprocess==0.6.0\r\n",
      "py==1.8.0\r\n",
      "py-cpuinfo==5.0.0\r\n",
      "py2bit==0.3.0\r\n",
      "pyahocorasick==1.4.0\r\n",
      "pyasn1==0.4.7\r\n",
      "pyasn1-modules==0.2.6\r\n",
      "pybars3==0.9.6\r\n",
      "pyBigWig==0.3.17\r\n",
      "pybind11==2.3.0\r\n",
      "pycodestyle==2.5.0\r\n",
      "pycosat==0.6.3\r\n",
      "pycparser==2.19\r\n",
      "pydantic==0.32.2\r\n",
      "PyDispatcher==2.0.5\r\n",
      "pydocstyle==4.0.1\r\n",
      "pydot-ng==2.0.0\r\n",
      "pyemd==0.5.1\r\n",
      "pyepsg==0.4.0\r\n",
      "pyfasttext==0.4.6\r\n",
      "pyflakes==2.1.1\r\n",
      "pyglet==1.3.2\r\n",
      "Pygments==2.5.2\r\n",
      "PyHamcrest==1.9.0\r\n",
      "pyhdb==0.3.4\r\n",
      "pykdtree==1.3.1\r\n",
      "pylama==7.7.1\r\n",
      "pyLDAvis==2.1.2\r\n",
      "pylint==2.3.1\r\n",
      "pymdstat==0.4.2\r\n",
      "PyMeta3==0.5.1\r\n",
      "pymongo==3.9.0\r\n",
      "PyMySQL==0.9.3\r\n",
      "PyNaCl==1.3.0\r\n",
      "pyodbc==4.0.27\r\n",
      "pyOpenSSL==19.1.0\r\n",
      "pyparsing==2.4.5\r\n",
      "pyperclip==1.7.0\r\n",
      "Pyphen==0.9.5\r\n",
      "pypng==0.0.20\r\n",
      "pyproj==2.6.0\r\n",
      "pyro-ppl==0.4.1\r\n",
      "Pyro4==4.76\r\n",
      "pyrsistent==0.15.6\r\n",
      "pysam==0.15.4\r\n",
      "pyshp==2.1.0\r\n",
      "PySocks==1.7.1\r\n",
      "pyte==0.8.0\r\n",
      "pytest==5.1.2\r\n",
      "pytest-pylint==0.14.1\r\n",
      "python-crontab==2.3.8\r\n",
      "python-dateutil==2.8.1\r\n",
      "python-editor==1.0.4\r\n",
      "python-jsonrpc-server==0.2.0\r\n",
      "python-language-server==0.28.3\r\n",
      "python-slugify==3.0.3\r\n",
      "python-telegram-bot==12.1.0\r\n",
      "pytimeparse==1.1.8\r\n",
      "pytorch-ignite==0.2.0\r\n",
      "pytorch-lamb==1.0.0\r\n",
      "pytorch-lightning==0.4.8\r\n",
      "pytorch-nlp==0.4.1\r\n",
      "pytorch-pretrained-bert==0.6.2\r\n",
      "pytorch-transformers==1.2.0\r\n",
      "pytz==2019.3\r\n",
      "PyUniProt==0.0.10\r\n",
      "pyviz-comms==0.7.2\r\n",
      "PyWavelets==1.0.3\r\n",
      "PyYAML==5.1.2\r\n",
      "pyzmq==18.1.0\r\n",
      "qgrid==1.1.1\r\n",
      "qtconsole==4.5.5\r\n",
      "querystring-parser==1.2.4\r\n",
      "queuelib==1.5.0\r\n",
      "rdflib==4.2.2\r\n",
      "redis==3.3.8\r\n",
      "rednose==1.3.0\r\n",
      "regex==2019.8.19\r\n",
      "remote-ikernel==0.4.6\r\n",
      "requests==2.22.0\r\n",
      "requests-file==1.4.3\r\n",
      "resampy==0.2.2\r\n",
      "retrying==1.3.3\r\n",
      "rope==0.14.0\r\n",
      "rsa==4.0\r\n",
      "ruamel-yaml==0.15.46\r\n",
      "Rx==1.6.1\r\n",
      "s3fs==0.3.4\r\n",
      "s3transfer==0.2.1\r\n",
      "sacrebleu==1.4.1\r\n",
      "sacred==0.7.5\r\n",
      "sacremoses==0.0.33\r\n",
      "safety==1.8.5\r\n",
      "scattertext==0.0.2.52\r\n",
      "scikit-image==0.15.0\r\n",
      "scikit-learn==0.21.3\r\n",
      "scikit-multilearn==0.2.0\r\n",
      "scikit-optimize==0.5.2\r\n",
      "scikit-plot==0.3.7\r\n",
      "scikit-surprise==1.1.0\r\n",
      "scipy==1.3.1\r\n",
      "Scrapy==1.7.3\r\n",
      "seaborn==0.9.0\r\n",
      "SecretStorage==3.1.1\r\n",
      "segtok==1.5.7\r\n",
      "selenium==3.8.0\r\n",
      "semantic-version==2.8.2\r\n",
      "Send2Trash==1.5.0\r\n",
      "sentencepiece==0.1.83\r\n",
      "serpent==1.28\r\n",
      "service-identity==18.1.0\r\n",
      "shap==0.30.1\r\n",
      "Shapely==1.7.0\r\n",
      "simpervisor==0.3\r\n",
      "simplejson==3.16.0\r\n",
      "six==1.12.0\r\n",
      "sk-dist==0.1.0\r\n",
      "sklearn==0.0\r\n",
      "sklearn-contrib-lightning==0.5.0\r\n",
      "sklearn-pandas==1.8.0\r\n",
      "skorch==0.6.0\r\n",
      "smart-open==1.8.4\r\n",
      "smmap2==2.0.5\r\n",
      "snowballstemmer==1.9.1\r\n",
      "sortedcontainers==2.1.0\r\n",
      "SoundFile==0.10.2\r\n",
      "soupsieve==1.9.5\r\n",
      "spacy==2.1.8\r\n",
      "spacy-pytorch-transformers==0.4.0\r\n",
      "SpeedTorch==0.1.0\r\n",
      "Sphinx==2.2.0\r\n",
      "sphinxcontrib-applehelp==1.0.1\r\n",
      "sphinxcontrib-devhelp==1.0.1\r\n",
      "sphinxcontrib-htmlhelp==1.0.2\r\n",
      "sphinxcontrib-jsmath==1.0.1\r\n",
      "sphinxcontrib-qthelp==1.0.2\r\n",
      "sphinxcontrib-serializinghtml==1.1.3\r\n",
      "SQLAlchemy==1.3.8\r\n",
      "sqlitedict==1.6.0\r\n",
      "sqlparse==0.3.0\r\n",
      "srsly==0.1.0\r\n",
      "stanfordnlp==0.2.0\r\n",
      "starlette==0.12.8\r\n",
      "statsmodels==0.10.1\r\n",
      "steppy==0.1.16\r\n",
      "stevedore==1.31.0\r\n",
      "stop-words==2018.7.23\r\n",
      "stormssh==0.7.0\r\n",
      "supervisor==4.0.4\r\n",
      "supervisor-stdout==0.1.1\r\n",
      "swifter==0.295\r\n",
      "sympy==1.4\r\n",
      "tabulate==0.8.3\r\n",
      "talos==0.6.3\r\n",
      "tb-nightly==1.15.0a20190708\r\n",
      "tblib==1.4.0\r\n",
      "tenacity==5.1.1\r\n",
      "tensor2tensor==1.14.0\r\n",
      "tensorboard==1.14.0\r\n",
      "tensorboard-logger==0.1.0\r\n",
      "tensorboardX==1.8\r\n",
      "tensorflow==1.14.0\r\n",
      "tensorflow-datasets==1.2.0\r\n",
      "tensorflow-estimator==1.14.0\r\n",
      "tensorflow-gan==1.0.0.dev0\r\n",
      "tensorflow-graphics==1.0.0\r\n",
      "tensorflow-hub==0.6.0\r\n",
      "tensorflow-metadata==0.14.0\r\n",
      "tensorflow-probability==0.7.0\r\n",
      "Tensorforce==0.5.1\r\n",
      "tensorly==0.4.4\r\n",
      "tensorpack==0.9.8\r\n",
      "tensorrec==0.26.2\r\n",
      "tensorwatch==0.8.5\r\n",
      "termcolor==1.1.0\r\n",
      "terminado==0.8.3\r\n",
      "termstyle==0.1.11\r\n",
      "test-tube==0.7.1\r\n",
      "testpath==0.4.4\r\n",
      "text-unidecode==1.2\r\n",
      "textacy==0.9.1\r\n",
      "textblob==0.15.3\r\n",
      "textwrap3==0.9.2\r\n",
      "tf-encrypted==0.5.8\r\n",
      "tflearn==0.3.2\r\n",
      "Theano==1.0.4\r\n",
      "thefuck==3.29\r\n",
      "thinc==7.0.8\r\n",
      "tinydb==3.14.1\r\n",
      "tinysegmenter==0.3\r\n",
      "tldextract==2.2.1\r\n",
      "toml==0.10.0\r\n",
      "toolz==0.10.0\r\n",
      "torch==1.2.0\r\n",
      "torch-cluster==1.4.4\r\n",
      "torch-geometric==1.3.1\r\n",
      "torch-scatter==1.3.1\r\n",
      "torch-sparse==0.4.0\r\n",
      "torchbiggraph==1.dev1\r\n",
      "torchcontrib==0.0.2\r\n",
      "torchfile==0.1.0\r\n",
      "torchstat==0.0.7\r\n",
      "torchtext==0.4.0\r\n",
      "torchvision==0.4.0a0+9232c4a\r\n",
      "tornado==6.0.3\r\n",
      "tqdm==4.40.0\r\n",
      "traitlets==4.3.3\r\n",
      "traittypes==0.2.1\r\n",
      "trfl==1.0.1\r\n",
      "tsfresh==0.12.0\r\n",
      "Twisted==19.7.0\r\n",
      "typed-ast==1.4.0\r\n",
      "typing==3.7.4.1\r\n",
      "typing-extensions==3.6.6\r\n",
      "tzlocal==2.0.0\r\n",
      "umap-learn==0.3.10\r\n",
      "Unidecode==1.1.1\r\n",
      "uritemplate==3.0.0\r\n",
      "urllib3==1.24.2\r\n",
      "uvicorn==0.9.0\r\n",
      "uvloop==0.13.0\r\n",
      "vecstack==0.4.0\r\n",
      "vega==2.6.0\r\n",
      "vega-datasets==0.7.0\r\n",
      "vega3==0.13.0\r\n",
      "virtualenv==16.7.5\r\n",
      "visdom==0.1.8.9\r\n",
      "visualdl==1.3.0\r\n",
      "vowpalwabbit==8.7.0.post1\r\n",
      "w3lib==1.21.0\r\n",
      "wasabi==0.2.2\r\n",
      "wcwidth==0.1.7\r\n",
      "webencodings==0.5.1\r\n",
      "websocket-client==0.56.0\r\n",
      "websockets==8.0.2\r\n",
      "Werkzeug==0.16.0\r\n",
      "widgetsnbextension==3.5.1\r\n",
      "wordcloud==1.5.0\r\n",
      "wrangle==0.6.7\r\n",
      "wrapt==1.11.2\r\n",
      "WTForms==2.2.1\r\n",
      "xgboost==0.90\r\n",
      "xlrd==1.2.0\r\n",
      "yagmail==0.11.220\r\n",
      "yapf==0.28.0\r\n",
      "yarl==1.3.0\r\n",
      "yellowbrick==1.0.post1\r\n",
      "zict==1.0.0\r\n",
      "zipp==0.6.0\r\n",
      "zope.interface==4.6.0\r\n"
     ]
    }
   ],
   "source": [
    "!pip3 freeze"
   ]
  },
  {
   "cell_type": "markdown",
   "metadata": {},
   "source": [
    "# code"
   ]
  },
  {
   "cell_type": "markdown",
   "metadata": {},
   "source": [
    "## read volunteer data via API .json"
   ]
  },
  {
   "cell_type": "code",
   "execution_count": 11,
   "metadata": {
    "ExecuteTime": {
     "end_time": "2020-04-05T06:00:15.573048Z",
     "start_time": "2020-04-05T06:00:15.192239Z"
    }
   },
   "outputs": [
    {
     "name": "stdout",
     "output_type": "stream",
     "text": [
      "[{'postcode': 7754, 'latitude': 85.094616, 'longitude': 41.236094, 'capacities': [{'key': 'MONDAY_FORENOON', 'weekday': 'MONDAY', 'type': 'FORENOON'}, {'key': 'MONDAY_AFTERNOON', 'weekday': 'MONDAY', 'type': 'AFTERNOON'}, {'key': 'MONDAY_EVENING', 'weekday': 'MONDAY', 'type': 'EVENING'}, {'key': 'TUESDAY_FORENOON', 'weekday': 'TUESDAY', 'type': 'FORENOON'}, {'key': 'TUESDAY_NIGHT', 'weekday': 'TUESDAY', 'type': 'NIGHT'}, {'key': 'WEDNESDAY_FORENOON', 'weekday': 'WEDNESDAY', 'type': 'FORENOON'}, {'key': 'WEDNESDAY_AFTERNOON', 'weekday': 'WEDNESDAY', 'type': 'AFTERNOON'}, {'key': 'WEDNESDAY_EVENING', 'weekday': 'WEDNESDAY', 'type': 'EVENING'}, {'key': 'THURSDAY_FORENOON', 'weekday': 'THURSDAY', 'type': 'FORENOON'}, {'key': 'THURSDAY_AFTERNOON', 'weekday': 'THURSDAY', 'type': 'AFTERNOON'}, {'key': 'THURSDAY_EVENING', 'weekday': 'THURSDAY', 'type': 'EVENING'}, {'key': 'THURSDAY_NIGHT', 'weekday': 'THURSDAY', 'type': 'NIGHT'}, {'key': 'FRIDAY_FORENOON', 'weekday': 'FRIDAY', 'type': 'FORENOON'}, {'key': 'FRIDAY_AFTERNOON', 'weekday': 'FRIDAY', 'type': 'AFTERNOON'}, {'key': 'FRIDAY_EVENING', 'weekday': 'FRIDAY', 'type': 'EVENING'}, {'key': 'FRIDAY_NIGHT', 'weekday': 'FRIDAY', 'type': 'NIGHT'}, {'key': 'SATURDAY_FORENOON', 'weekday': 'SATURDAY', 'type': 'FORENOON'}, {'key': 'SATURDAY_AFTERNOON', 'weekday': 'SATURDAY', 'type': 'AFTERNOON'}, {'key': 'SATURDAY_NIGHT', 'weekday': 'SATURDAY', 'type': 'NIGHT'}, {'key': 'SUNDAY_AFTERNOON', 'weekday': 'SUNDAY', 'type': 'AFTERNOON'}, {'key': 'SUNDAY_EVENING', 'weekday': 'SUNDAY', 'type': 'EVENING'}, {'key': 'SUNDAY_NIGHT', 'weekday': 'SUNDAY', 'type': 'NIGHT'}]}, {'postcode': 1302, 'latitude': 46.577, 'longitude': 6.539, 'capacities': [{'key': 'TUESDAY_FORENOON', 'weekday': 'TUESDAY', 'type': 'FORENOON'}, {'key': 'WEDNESDAY_FORENOON', 'weekday': 'WEDNESDAY', 'type': 'FORENOON'}, {'key': 'SATURDAY_AFTERNOON', 'weekday': 'SATURDAY', 'type': 'AFTERNOON'}, {'key': 'SATURDAY_EVENING', 'weekday': 'SATURDAY', 'type': 'EVENING'}]}, {'postcode': 2068, 'latitude': 47.014, 'longitude': 6.972, 'capacities': [{'key': 'MONDAY_EVENING', 'weekday': 'MONDAY', 'type': 'EVENING'}, {'key': 'MONDAY_NIGHT', 'weekday': 'MONDAY', 'type': 'NIGHT'}, {'key': 'TUESDAY_NIGHT', 'weekday': 'TUESDAY', 'type': 'NIGHT'}, {'key': 'WEDNESDAY_EVENING', 'weekday': 'WEDNESDAY', 'type': 'EVENING'}, {'key': 'THURSDAY_EVENING', 'weekday': 'THURSDAY', 'type': 'EVENING'}, {'key': 'FRIDAY_FORENOON', 'weekday': 'FRIDAY', 'type': 'FORENOON'}, {'key': 'FRIDAY_AFTERNOON', 'weekday': 'FRIDAY', 'type': 'AFTERNOON'}, {'key': 'SATURDAY_EVENING', 'weekday': 'SATURDAY', 'type': 'EVENING'}, {'key': 'SATURDAY_NIGHT', 'weekday': 'SATURDAY', 'type': 'NIGHT'}, {'key': 'SUNDAY_FORENOON', 'weekday': 'SUNDAY', 'type': 'FORENOON'}, {'key': 'SUNDAY_AFTERNOON', 'weekday': 'SUNDAY', 'type': 'AFTERNOON'}, {'key': 'SUNDAY_EVENING', 'weekday': 'SUNDAY', 'type': 'EVENING'}, {'key': 'SUNDAY_NIGHT', 'weekday': 'SUNDAY', 'type': 'NIGHT'}]}, {'postcode': 8154, 'latitude': 47.477, 'longitude': 8.521, 'capacities': [{'key': 'MONDAY_NIGHT', 'weekday': 'MONDAY', 'type': 'NIGHT'}, {'key': 'FRIDAY_FORENOON', 'weekday': 'FRIDAY', 'type': 'FORENOON'}, {'key': 'SATURDAY_FORENOON', 'weekday': 'SATURDAY', 'type': 'FORENOON'}, {'key': 'SATURDAY_AFTERNOON', 'weekday': 'SATURDAY', 'type': 'AFTERNOON'}, {'key': 'SATURDAY_NIGHT', 'weekday': 'SATURDAY', 'type': 'NIGHT'}, {'key': 'SUNDAY_FORENOON', 'weekday': 'SUNDAY', 'type': 'FORENOON'}]}, {'postcode': 7849, 'latitude': 70.701631, 'longitude': 20.585604, 'capacities': [{'key': 'MONDAY_AFTERNOON', 'weekday': 'MONDAY', 'type': 'AFTERNOON'}, {'key': 'TUESDAY_FORENOON', 'weekday': 'TUESDAY', 'type': 'FORENOON'}, {'key': 'TUESDAY_AFTERNOON', 'weekday': 'TUESDAY', 'type': 'AFTERNOON'}, {'key': 'TUESDAY_EVENING', 'weekday': 'TUESDAY', 'type': 'EVENING'}, {'key': 'TUESDAY_NIGHT', 'weekday': 'TUESDAY', 'type': 'NIGHT'}, {'key': 'WEDNESDAY_FORENOON', 'weekday': 'WEDNESDAY', 'type': 'FORENOON'}, {'key': 'WEDNESDAY_AFTERNOON', 'weekday': 'WEDNESDAY', 'type': 'AFTERNOON'}, {'key': 'WEDNESDAY_NIGHT', 'weekday': 'WEDNESDAY', 'type': 'NIGHT'}, {'key': 'THURSDAY_FORENOON', 'weekday': 'THURSDAY', 'type': 'FORENOON'}, {'key': 'THURSDAY_AFTERNOON', 'weekday': 'THURSDAY', 'type': 'AFTERNOON'}, {'key': 'THURSDAY_EVENING', 'weekday': 'THURSDAY', 'type': 'EVENING'}, {'key': 'FRIDAY_FORENOON', 'weekday': 'FRIDAY', 'type': 'FORENOON'}, {'key': 'FRIDAY_AFTERNOON', 'weekday': 'FRIDAY', 'type': 'AFTERNOON'}, {'key': 'FRIDAY_EVENING', 'weekday': 'FRIDAY', 'type': 'EVENING'}, {'key': 'FRIDAY_NIGHT', 'weekday': 'FRIDAY', 'type': 'NIGHT'}, {'key': 'SATURDAY_FORENOON', 'weekday': 'SATURDAY', 'type': 'FORENOON'}, {'key': 'SATURDAY_EVENING', 'weekday': 'SATURDAY', 'type': 'EVENING'}, {'key': 'SATURDAY_NIGHT', 'weekday': 'SATURDAY', 'type': 'NIGHT'}, {'key': 'SUNDAY_AFTERNOON', 'weekday': 'SUNDAY', 'type': 'AFTERNOON'}, {'key': 'SUNDAY_NIGHT', 'weekday': 'SUNDAY', 'type': 'NIGHT'}]}, {'postcode': 1018, 'latitude': 46.539, 'longitude': 6.629, 'capacities': [{'key': 'MONDAY_FORENOON', 'weekday': 'MONDAY', 'type': 'FORENOON'}, {'key': 'MONDAY_AFTERNOON', 'weekday': 'MONDAY', 'type': 'AFTERNOON'}, {'key': 'MONDAY_EVENING', 'weekday': 'MONDAY', 'type': 'EVENING'}, {'key': 'MONDAY_NIGHT', 'weekday': 'MONDAY', 'type': 'NIGHT'}, {'key': 'TUESDAY_AFTERNOON', 'weekday': 'TUESDAY', 'type': 'AFTERNOON'}, {'key': 'TUESDAY_EVENING', 'weekday': 'TUESDAY', 'type': 'EVENING'}, {'key': 'WEDNESDAY_FORENOON', 'weekday': 'WEDNESDAY', 'type': 'FORENOON'}, {'key': 'WEDNESDAY_AFTERNOON', 'weekday': 'WEDNESDAY', 'type': 'AFTERNOON'}, {'key': 'WEDNESDAY_NIGHT', 'weekday': 'WEDNESDAY', 'type': 'NIGHT'}, {'key': 'THURSDAY_AFTERNOON', 'weekday': 'THURSDAY', 'type': 'AFTERNOON'}, {'key': 'THURSDAY_EVENING', 'weekday': 'THURSDAY', 'type': 'EVENING'}, {'key': 'FRIDAY_FORENOON', 'weekday': 'FRIDAY', 'type': 'FORENOON'}, {'key': 'FRIDAY_AFTERNOON', 'weekday': 'FRIDAY', 'type': 'AFTERNOON'}, {'key': 'FRIDAY_EVENING', 'weekday': 'FRIDAY', 'type': 'EVENING'}, {'key': 'SATURDAY_FORENOON', 'weekday': 'SATURDAY', 'type': 'FORENOON'}, {'key': 'SATURDAY_EVENING', 'weekday': 'SATURDAY', 'type': 'EVENING'}, {'key': 'SUNDAY_FORENOON', 'weekday': 'SUNDAY', 'type': 'FORENOON'}, {'key': 'SUNDAY_AFTERNOON', 'weekday': 'SUNDAY', 'type': 'AFTERNOON'}, {'key': 'SUNDAY_NIGHT', 'weekday': 'SUNDAY', 'type': 'NIGHT'}]}, {'postcode': 1247, 'latitude': 46.276, 'longitude': 6.223, 'capacities': [{'key': 'MONDAY_FORENOON', 'weekday': 'MONDAY', 'type': 'FORENOON'}, {'key': 'MONDAY_AFTERNOON', 'weekday': 'MONDAY', 'type': 'AFTERNOON'}, {'key': 'MONDAY_NIGHT', 'weekday': 'MONDAY', 'type': 'NIGHT'}, {'key': 'TUESDAY_FORENOON', 'weekday': 'TUESDAY', 'type': 'FORENOON'}, {'key': 'TUESDAY_AFTERNOON', 'weekday': 'TUESDAY', 'type': 'AFTERNOON'}, {'key': 'TUESDAY_EVENING', 'weekday': 'TUESDAY', 'type': 'EVENING'}, {'key': 'TUESDAY_NIGHT', 'weekday': 'TUESDAY', 'type': 'NIGHT'}, {'key': 'WEDNESDAY_AFTERNOON', 'weekday': 'WEDNESDAY', 'type': 'AFTERNOON'}, {'key': 'WEDNESDAY_EVENING', 'weekday': 'WEDNESDAY', 'type': 'EVENING'}, {'key': 'WEDNESDAY_NIGHT', 'weekday': 'WEDNESDAY', 'type': 'NIGHT'}, {'key': 'THURSDAY_EVENING', 'weekday': 'THURSDAY', 'type': 'EVENING'}, {'key': 'FRIDAY_EVENING', 'weekday': 'FRIDAY', 'type': 'EVENING'}, {'key': 'FRIDAY_NIGHT', 'weekday': 'FRIDAY', 'type': 'NIGHT'}, {'key': 'SATURDAY_AFTERNOON', 'weekday': 'SATURDAY', 'type': 'AFTERNOON'}, {'key': 'SATURDAY_EVENING', 'weekday': 'SATURDAY', 'type': 'EVENING'}, {'key': 'SATURDAY_NIGHT', 'weekday': 'SATURDAY', 'type': 'NIGHT'}, {'key': 'SUNDAY_FORENOON', 'weekday': 'SUNDAY', 'type': 'FORENOON'}, {'key': 'SUNDAY_NIGHT', 'weekday': 'SUNDAY', 'type': 'NIGHT'}]}, {'postcode': 5030, 'latitude': 11.879975, 'longitude': 14.14383, 'capacities': [{'key': 'MONDAY_FORENOON', 'weekday': 'MONDAY', 'type': 'FORENOON'}, {'key': 'MONDAY_AFTERNOON', 'weekday': 'MONDAY', 'type': 'AFTERNOON'}, {'key': 'MONDAY_NIGHT', 'weekday': 'MONDAY', 'type': 'NIGHT'}, {'key': 'TUESDAY_FORENOON', 'weekday': 'TUESDAY', 'type': 'FORENOON'}, {'key': 'TUESDAY_AFTERNOON', 'weekday': 'TUESDAY', 'type': 'AFTERNOON'}, {'key': 'TUESDAY_EVENING', 'weekday': 'TUESDAY', 'type': 'EVENING'}, {'key': 'WEDNESDAY_NIGHT', 'weekday': 'WEDNESDAY', 'type': 'NIGHT'}, {'key': 'THURSDAY_FORENOON', 'weekday': 'THURSDAY', 'type': 'FORENOON'}, {'key': 'THURSDAY_NIGHT', 'weekday': 'THURSDAY', 'type': 'NIGHT'}, {'key': 'FRIDAY_AFTERNOON', 'weekday': 'FRIDAY', 'type': 'AFTERNOON'}, {'key': 'SATURDAY_NIGHT', 'weekday': 'SATURDAY', 'type': 'NIGHT'}, {'key': 'SUNDAY_AFTERNOON', 'weekday': 'SUNDAY', 'type': 'AFTERNOON'}]}, {'postcode': 9763, 'latitude': -12.673244, 'longitude': 100.532762, 'capacities': [{'key': 'MONDAY_FORENOON', 'weekday': 'MONDAY', 'type': 'FORENOON'}, {'key': 'MONDAY_AFTERNOON', 'weekday': 'MONDAY', 'type': 'AFTERNOON'}, {'key': 'MONDAY_EVENING', 'weekday': 'MONDAY', 'type': 'EVENING'}, {'key': 'MONDAY_NIGHT', 'weekday': 'MONDAY', 'type': 'NIGHT'}, {'key': 'TUESDAY_FORENOON', 'weekday': 'TUESDAY', 'type': 'FORENOON'}, {'key': 'TUESDAY_AFTERNOON', 'weekday': 'TUESDAY', 'type': 'AFTERNOON'}, {'key': 'TUESDAY_EVENING', 'weekday': 'TUESDAY', 'type': 'EVENING'}, {'key': 'TUESDAY_NIGHT', 'weekday': 'TUESDAY', 'type': 'NIGHT'}, {'key': 'WEDNESDAY_FORENOON', 'weekday': 'WEDNESDAY', 'type': 'FORENOON'}, {'key': 'WEDNESDAY_AFTERNOON', 'weekday': 'WEDNESDAY', 'type': 'AFTERNOON'}, {'key': 'WEDNESDAY_EVENING', 'weekday': 'WEDNESDAY', 'type': 'EVENING'}, {'key': 'WEDNESDAY_NIGHT', 'weekday': 'WEDNESDAY', 'type': 'NIGHT'}, {'key': 'THURSDAY_FORENOON', 'weekday': 'THURSDAY', 'type': 'FORENOON'}, {'key': 'THURSDAY_AFTERNOON', 'weekday': 'THURSDAY', 'type': 'AFTERNOON'}, {'key': 'THURSDAY_EVENING', 'weekday': 'THURSDAY', 'type': 'EVENING'}, {'key': 'THURSDAY_NIGHT', 'weekday': 'THURSDAY', 'type': 'NIGHT'}, {'key': 'FRIDAY_AFTERNOON', 'weekday': 'FRIDAY', 'type': 'AFTERNOON'}, {'key': 'FRIDAY_EVENING', 'weekday': 'FRIDAY', 'type': 'EVENING'}, {'key': 'FRIDAY_NIGHT', 'weekday': 'FRIDAY', 'type': 'NIGHT'}, {'key': 'SATURDAY_FORENOON', 'weekday': 'SATURDAY', 'type': 'FORENOON'}, {'key': 'SATURDAY_AFTERNOON', 'weekday': 'SATURDAY', 'type': 'AFTERNOON'}, {'key': 'SATURDAY_EVENING', 'weekday': 'SATURDAY', 'type': 'EVENING'}, {'key': 'SATURDAY_NIGHT', 'weekday': 'SATURDAY', 'type': 'NIGHT'}, {'key': 'SUNDAY_FORENOON', 'weekday': 'SUNDAY', 'type': 'FORENOON'}, {'key': 'SUNDAY_AFTERNOON', 'weekday': 'SUNDAY', 'type': 'AFTERNOON'}, {'key': 'SUNDAY_EVENING', 'weekday': 'SUNDAY', 'type': 'EVENING'}, {'key': 'SUNDAY_NIGHT', 'weekday': 'SUNDAY', 'type': 'NIGHT'}]}, {'postcode': 8480, 'latitude': -54.534339, 'longitude': -35.443489, 'capacities': [{'key': 'MONDAY_FORENOON', 'weekday': 'MONDAY', 'type': 'FORENOON'}, {'key': 'MONDAY_AFTERNOON', 'weekday': 'MONDAY', 'type': 'AFTERNOON'}, {'key': 'MONDAY_EVENING', 'weekday': 'MONDAY', 'type': 'EVENING'}, {'key': 'MONDAY_NIGHT', 'weekday': 'MONDAY', 'type': 'NIGHT'}, {'key': 'TUESDAY_FORENOON', 'weekday': 'TUESDAY', 'type': 'FORENOON'}, {'key': 'TUESDAY_AFTERNOON', 'weekday': 'TUESDAY', 'type': 'AFTERNOON'}, {'key': 'TUESDAY_NIGHT', 'weekday': 'TUESDAY', 'type': 'NIGHT'}, {'key': 'WEDNESDAY_FORENOON', 'weekday': 'WEDNESDAY', 'type': 'FORENOON'}, {'key': 'WEDNESDAY_AFTERNOON', 'weekday': 'WEDNESDAY', 'type': 'AFTERNOON'}, {'key': 'WEDNESDAY_EVENING', 'weekday': 'WEDNESDAY', 'type': 'EVENING'}, {'key': 'WEDNESDAY_NIGHT', 'weekday': 'WEDNESDAY', 'type': 'NIGHT'}, {'key': 'THURSDAY_FORENOON', 'weekday': 'THURSDAY', 'type': 'FORENOON'}, {'key': 'THURSDAY_EVENING', 'weekday': 'THURSDAY', 'type': 'EVENING'}, {'key': 'THURSDAY_NIGHT', 'weekday': 'THURSDAY', 'type': 'NIGHT'}, {'key': 'FRIDAY_FORENOON', 'weekday': 'FRIDAY', 'type': 'FORENOON'}, {'key': 'FRIDAY_EVENING', 'weekday': 'FRIDAY', 'type': 'EVENING'}, {'key': 'FRIDAY_NIGHT', 'weekday': 'FRIDAY', 'type': 'NIGHT'}, {'key': 'SATURDAY_FORENOON', 'weekday': 'SATURDAY', 'type': 'FORENOON'}, {'key': 'SATURDAY_AFTERNOON', 'weekday': 'SATURDAY', 'type': 'AFTERNOON'}, {'key': 'SATURDAY_EVENING', 'weekday': 'SATURDAY', 'type': 'EVENING'}, {'key': 'SATURDAY_NIGHT', 'weekday': 'SATURDAY', 'type': 'NIGHT'}, {'key': 'SUNDAY_FORENOON', 'weekday': 'SUNDAY', 'type': 'FORENOON'}, {'key': 'SUNDAY_AFTERNOON', 'weekday': 'SUNDAY', 'type': 'AFTERNOON'}, {'key': 'SUNDAY_EVENING', 'weekday': 'SUNDAY', 'type': 'EVENING'}]}, {'postcode': 7156, 'latitude': 46.809, 'longitude': 9.117, 'capacities': [{'key': 'MONDAY_FORENOON', 'weekday': 'MONDAY', 'type': 'FORENOON'}, {'key': 'MONDAY_AFTERNOON', 'weekday': 'MONDAY', 'type': 'AFTERNOON'}, {'key': 'TUESDAY_FORENOON', 'weekday': 'TUESDAY', 'type': 'FORENOON'}, {'key': 'TUESDAY_AFTERNOON', 'weekday': 'TUESDAY', 'type': 'AFTERNOON'}, {'key': 'TUESDAY_EVENING', 'weekday': 'TUESDAY', 'type': 'EVENING'}, {'key': 'WEDNESDAY_AFTERNOON', 'weekday': 'WEDNESDAY', 'type': 'AFTERNOON'}, {'key': 'WEDNESDAY_EVENING', 'weekday': 'WEDNESDAY', 'type': 'EVENING'}, {'key': 'WEDNESDAY_NIGHT', 'weekday': 'WEDNESDAY', 'type': 'NIGHT'}, {'key': 'THURSDAY_EVENING', 'weekday': 'THURSDAY', 'type': 'EVENING'}, {'key': 'THURSDAY_NIGHT', 'weekday': 'THURSDAY', 'type': 'NIGHT'}, {'key': 'SATURDAY_FORENOON', 'weekday': 'SATURDAY', 'type': 'FORENOON'}, {'key': 'SATURDAY_AFTERNOON', 'weekday': 'SATURDAY', 'type': 'AFTERNOON'}, {'key': 'SATURDAY_NIGHT', 'weekday': 'SATURDAY', 'type': 'NIGHT'}, {'key': 'SUNDAY_NIGHT', 'weekday': 'SUNDAY', 'type': 'NIGHT'}]}, {'postcode': 2005, 'latitude': 52.291561, 'longitude': 155.434605, 'capacities': [{'key': 'WEDNESDAY_AFTERNOON', 'weekday': 'WEDNESDAY', 'type': 'AFTERNOON'}, {'key': 'WEDNESDAY_NIGHT', 'weekday': 'WEDNESDAY', 'type': 'NIGHT'}, {'key': 'THURSDAY_EVENING', 'weekday': 'THURSDAY', 'type': 'EVENING'}, {'key': 'SATURDAY_FORENOON', 'weekday': 'SATURDAY', 'type': 'FORENOON'}, {'key': 'SATURDAY_NIGHT', 'weekday': 'SATURDAY', 'type': 'NIGHT'}, {'key': 'SUNDAY_FORENOON', 'weekday': 'SUNDAY', 'type': 'FORENOON'}, {'key': 'SUNDAY_NIGHT', 'weekday': 'SUNDAY', 'type': 'NIGHT'}]}, {'postcode': 5972, 'latitude': -14.54296, 'longitude': -84.359244, 'capacities': [{'key': 'MONDAY_AFTERNOON', 'weekday': 'MONDAY', 'type': 'AFTERNOON'}, {'key': 'MONDAY_EVENING', 'weekday': 'MONDAY', 'type': 'EVENING'}, {'key': 'MONDAY_NIGHT', 'weekday': 'MONDAY', 'type': 'NIGHT'}, {'key': 'TUESDAY_FORENOON', 'weekday': 'TUESDAY', 'type': 'FORENOON'}, {'key': 'TUESDAY_AFTERNOON', 'weekday': 'TUESDAY', 'type': 'AFTERNOON'}, {'key': 'TUESDAY_NIGHT', 'weekday': 'TUESDAY', 'type': 'NIGHT'}, {'key': 'THURSDAY_AFTERNOON', 'weekday': 'THURSDAY', 'type': 'AFTERNOON'}, {'key': 'THURSDAY_NIGHT', 'weekday': 'THURSDAY', 'type': 'NIGHT'}, {'key': 'FRIDAY_AFTERNOON', 'weekday': 'FRIDAY', 'type': 'AFTERNOON'}, {'key': 'FRIDAY_NIGHT', 'weekday': 'FRIDAY', 'type': 'NIGHT'}, {'key': 'SATURDAY_EVENING', 'weekday': 'SATURDAY', 'type': 'EVENING'}, {'key': 'SATURDAY_NIGHT', 'weekday': 'SATURDAY', 'type': 'NIGHT'}, {'key': 'SUNDAY_AFTERNOON', 'weekday': 'SUNDAY', 'type': 'AFTERNOON'}]}, {'postcode': 2526, 'latitude': -87.714189, 'longitude': -149.282318, 'capacities': [{'key': 'MONDAY_FORENOON', 'weekday': 'MONDAY', 'type': 'FORENOON'}, {'key': 'MONDAY_EVENING', 'weekday': 'MONDAY', 'type': 'EVENING'}, {'key': 'MONDAY_NIGHT', 'weekday': 'MONDAY', 'type': 'NIGHT'}, {'key': 'TUESDAY_FORENOON', 'weekday': 'TUESDAY', 'type': 'FORENOON'}, {'key': 'TUESDAY_AFTERNOON', 'weekday': 'TUESDAY', 'type': 'AFTERNOON'}, {'key': 'TUESDAY_EVENING', 'weekday': 'TUESDAY', 'type': 'EVENING'}, {'key': 'TUESDAY_NIGHT', 'weekday': 'TUESDAY', 'type': 'NIGHT'}, {'key': 'WEDNESDAY_FORENOON', 'weekday': 'WEDNESDAY', 'type': 'FORENOON'}, {'key': 'WEDNESDAY_EVENING', 'weekday': 'WEDNESDAY', 'type': 'EVENING'}, {'key': 'WEDNESDAY_NIGHT', 'weekday': 'WEDNESDAY', 'type': 'NIGHT'}, {'key': 'THURSDAY_FORENOON', 'weekday': 'THURSDAY', 'type': 'FORENOON'}, {'key': 'THURSDAY_AFTERNOON', 'weekday': 'THURSDAY', 'type': 'AFTERNOON'}, {'key': 'THURSDAY_EVENING', 'weekday': 'THURSDAY', 'type': 'EVENING'}, {'key': 'THURSDAY_NIGHT', 'weekday': 'THURSDAY', 'type': 'NIGHT'}, {'key': 'FRIDAY_FORENOON', 'weekday': 'FRIDAY', 'type': 'FORENOON'}, {'key': 'FRIDAY_AFTERNOON', 'weekday': 'FRIDAY', 'type': 'AFTERNOON'}, {'key': 'FRIDAY_EVENING', 'weekday': 'FRIDAY', 'type': 'EVENING'}, {'key': 'SATURDAY_FORENOON', 'weekday': 'SATURDAY', 'type': 'FORENOON'}, {'key': 'SATURDAY_AFTERNOON', 'weekday': 'SATURDAY', 'type': 'AFTERNOON'}, {'key': 'SATURDAY_EVENING', 'weekday': 'SATURDAY', 'type': 'EVENING'}, {'key': 'SATURDAY_NIGHT', 'weekday': 'SATURDAY', 'type': 'NIGHT'}, {'key': 'SUNDAY_FORENOON', 'weekday': 'SUNDAY', 'type': 'FORENOON'}, {'key': 'SUNDAY_EVENING', 'weekday': 'SUNDAY', 'type': 'EVENING'}, {'key': 'SUNDAY_NIGHT', 'weekday': 'SUNDAY', 'type': 'NIGHT'}]}, {'postcode': 1393, 'latitude': 79.983104, 'longitude': 95.050325, 'capacities': [{'key': 'TUESDAY_NIGHT', 'weekday': 'TUESDAY', 'type': 'NIGHT'}, {'key': 'WEDNESDAY_NIGHT', 'weekday': 'WEDNESDAY', 'type': 'NIGHT'}, {'key': 'THURSDAY_AFTERNOON', 'weekday': 'THURSDAY', 'type': 'AFTERNOON'}]}, {'postcode': 881, 'latitude': 25.366018, 'longitude': -119.658361, 'capacities': [{'key': 'MONDAY_FORENOON', 'weekday': 'MONDAY', 'type': 'FORENOON'}, {'key': 'MONDAY_AFTERNOON', 'weekday': 'MONDAY', 'type': 'AFTERNOON'}, {'key': 'MONDAY_EVENING', 'weekday': 'MONDAY', 'type': 'EVENING'}, {'key': 'MONDAY_NIGHT', 'weekday': 'MONDAY', 'type': 'NIGHT'}, {'key': 'TUESDAY_FORENOON', 'weekday': 'TUESDAY', 'type': 'FORENOON'}, {'key': 'TUESDAY_AFTERNOON', 'weekday': 'TUESDAY', 'type': 'AFTERNOON'}, {'key': 'TUESDAY_EVENING', 'weekday': 'TUESDAY', 'type': 'EVENING'}, {'key': 'TUESDAY_NIGHT', 'weekday': 'TUESDAY', 'type': 'NIGHT'}, {'key': 'WEDNESDAY_FORENOON', 'weekday': 'WEDNESDAY', 'type': 'FORENOON'}, {'key': 'WEDNESDAY_AFTERNOON', 'weekday': 'WEDNESDAY', 'type': 'AFTERNOON'}, {'key': 'WEDNESDAY_EVENING', 'weekday': 'WEDNESDAY', 'type': 'EVENING'}, {'key': 'WEDNESDAY_NIGHT', 'weekday': 'WEDNESDAY', 'type': 'NIGHT'}, {'key': 'THURSDAY_FORENOON', 'weekday': 'THURSDAY', 'type': 'FORENOON'}, {'key': 'THURSDAY_AFTERNOON', 'weekday': 'THURSDAY', 'type': 'AFTERNOON'}, {'key': 'THURSDAY_EVENING', 'weekday': 'THURSDAY', 'type': 'EVENING'}, {'key': 'THURSDAY_NIGHT', 'weekday': 'THURSDAY', 'type': 'NIGHT'}, {'key': 'FRIDAY_FORENOON', 'weekday': 'FRIDAY', 'type': 'FORENOON'}, {'key': 'FRIDAY_AFTERNOON', 'weekday': 'FRIDAY', 'type': 'AFTERNOON'}, {'key': 'FRIDAY_EVENING', 'weekday': 'FRIDAY', 'type': 'EVENING'}, {'key': 'FRIDAY_NIGHT', 'weekday': 'FRIDAY', 'type': 'NIGHT'}, {'key': 'SATURDAY_EVENING', 'weekday': 'SATURDAY', 'type': 'EVENING'}, {'key': 'SATURDAY_NIGHT', 'weekday': 'SATURDAY', 'type': 'NIGHT'}, {'key': 'SUNDAY_FORENOON', 'weekday': 'SUNDAY', 'type': 'FORENOON'}, {'key': 'SUNDAY_AFTERNOON', 'weekday': 'SUNDAY', 'type': 'AFTERNOON'}, {'key': 'SUNDAY_EVENING', 'weekday': 'SUNDAY', 'type': 'EVENING'}, {'key': 'SUNDAY_NIGHT', 'weekday': 'SUNDAY', 'type': 'NIGHT'}]}, {'postcode': 3815, 'latitude': 46.634, 'longitude': 7.912, 'capacities': [{'key': 'THURSDAY_FORENOON', 'weekday': 'THURSDAY', 'type': 'FORENOON'}, {'key': 'THURSDAY_EVENING', 'weekday': 'THURSDAY', 'type': 'EVENING'}, {'key': 'SUNDAY_AFTERNOON', 'weekday': 'SUNDAY', 'type': 'AFTERNOON'}]}, {'postcode': 2388, 'latitude': 89.550834, 'longitude': 135.142923, 'capacities': [{'key': 'MONDAY_FORENOON', 'weekday': 'MONDAY', 'type': 'FORENOON'}, {'key': 'MONDAY_AFTERNOON', 'weekday': 'MONDAY', 'type': 'AFTERNOON'}, {'key': 'MONDAY_NIGHT', 'weekday': 'MONDAY', 'type': 'NIGHT'}, {'key': 'TUESDAY_FORENOON', 'weekday': 'TUESDAY', 'type': 'FORENOON'}, {'key': 'TUESDAY_EVENING', 'weekday': 'TUESDAY', 'type': 'EVENING'}, {'key': 'TUESDAY_NIGHT', 'weekday': 'TUESDAY', 'type': 'NIGHT'}, {'key': 'WEDNESDAY_AFTERNOON', 'weekday': 'WEDNESDAY', 'type': 'AFTERNOON'}, {'key': 'WEDNESDAY_EVENING', 'weekday': 'WEDNESDAY', 'type': 'EVENING'}, {'key': 'WEDNESDAY_NIGHT', 'weekday': 'WEDNESDAY', 'type': 'NIGHT'}, {'key': 'THURSDAY_FORENOON', 'weekday': 'THURSDAY', 'type': 'FORENOON'}, {'key': 'THURSDAY_AFTERNOON', 'weekday': 'THURSDAY', 'type': 'AFTERNOON'}, {'key': 'THURSDAY_NIGHT', 'weekday': 'THURSDAY', 'type': 'NIGHT'}, {'key': 'FRIDAY_AFTERNOON', 'weekday': 'FRIDAY', 'type': 'AFTERNOON'}, {'key': 'FRIDAY_EVENING', 'weekday': 'FRIDAY', 'type': 'EVENING'}, {'key': 'FRIDAY_NIGHT', 'weekday': 'FRIDAY', 'type': 'NIGHT'}, {'key': 'SATURDAY_FORENOON', 'weekday': 'SATURDAY', 'type': 'FORENOON'}, {'key': 'SUNDAY_FORENOON', 'weekday': 'SUNDAY', 'type': 'FORENOON'}, {'key': 'SUNDAY_NIGHT', 'weekday': 'SUNDAY', 'type': 'NIGHT'}]}, {'postcode': 2383, 'latitude': 78.961034, 'longitude': 44.341181, 'capacities': [{'key': 'MONDAY_FORENOON', 'weekday': 'MONDAY', 'type': 'FORENOON'}, {'key': 'MONDAY_EVENING', 'weekday': 'MONDAY', 'type': 'EVENING'}, {'key': 'MONDAY_NIGHT', 'weekday': 'MONDAY', 'type': 'NIGHT'}, {'key': 'TUESDAY_FORENOON', 'weekday': 'TUESDAY', 'type': 'FORENOON'}, {'key': 'TUESDAY_EVENING', 'weekday': 'TUESDAY', 'type': 'EVENING'}, {'key': 'TUESDAY_NIGHT', 'weekday': 'TUESDAY', 'type': 'NIGHT'}, {'key': 'WEDNESDAY_EVENING', 'weekday': 'WEDNESDAY', 'type': 'EVENING'}, {'key': 'WEDNESDAY_NIGHT', 'weekday': 'WEDNESDAY', 'type': 'NIGHT'}, {'key': 'THURSDAY_NIGHT', 'weekday': 'THURSDAY', 'type': 'NIGHT'}, {'key': 'FRIDAY_EVENING', 'weekday': 'FRIDAY', 'type': 'EVENING'}, {'key': 'FRIDAY_NIGHT', 'weekday': 'FRIDAY', 'type': 'NIGHT'}, {'key': 'SATURDAY_FORENOON', 'weekday': 'SATURDAY', 'type': 'FORENOON'}, {'key': 'SATURDAY_AFTERNOON', 'weekday': 'SATURDAY', 'type': 'AFTERNOON'}, {'key': 'SATURDAY_NIGHT', 'weekday': 'SATURDAY', 'type': 'NIGHT'}, {'key': 'SUNDAY_FORENOON', 'weekday': 'SUNDAY', 'type': 'FORENOON'}, {'key': 'SUNDAY_AFTERNOON', 'weekday': 'SUNDAY', 'type': 'AFTERNOON'}, {'key': 'SUNDAY_EVENING', 'weekday': 'SUNDAY', 'type': 'EVENING'}]}, {'postcode': 3810, 'latitude': 70.048142, 'longitude': 94.436112, 'capacities': [{'key': 'MONDAY_FORENOON', 'weekday': 'MONDAY', 'type': 'FORENOON'}, {'key': 'MONDAY_EVENING', 'weekday': 'MONDAY', 'type': 'EVENING'}, {'key': 'TUESDAY_AFTERNOON', 'weekday': 'TUESDAY', 'type': 'AFTERNOON'}, {'key': 'TUESDAY_NIGHT', 'weekday': 'TUESDAY', 'type': 'NIGHT'}, {'key': 'WEDNESDAY_AFTERNOON', 'weekday': 'WEDNESDAY', 'type': 'AFTERNOON'}, {'key': 'WEDNESDAY_NIGHT', 'weekday': 'WEDNESDAY', 'type': 'NIGHT'}, {'key': 'FRIDAY_EVENING', 'weekday': 'FRIDAY', 'type': 'EVENING'}, {'key': 'FRIDAY_NIGHT', 'weekday': 'FRIDAY', 'type': 'NIGHT'}, {'key': 'SUNDAY_FORENOON', 'weekday': 'SUNDAY', 'type': 'FORENOON'}, {'key': 'SUNDAY_NIGHT', 'weekday': 'SUNDAY', 'type': 'NIGHT'}]}, {'postcode': 2945, 'latitude': 18.850525, 'longitude': -76.632786, 'capacities': [{'key': 'MONDAY_EVENING', 'weekday': 'MONDAY', 'type': 'EVENING'}, {'key': 'TUESDAY_FORENOON', 'weekday': 'TUESDAY', 'type': 'FORENOON'}, {'key': 'TUESDAY_EVENING', 'weekday': 'TUESDAY', 'type': 'EVENING'}, {'key': 'WEDNESDAY_FORENOON', 'weekday': 'WEDNESDAY', 'type': 'FORENOON'}, {'key': 'WEDNESDAY_AFTERNOON', 'weekday': 'WEDNESDAY', 'type': 'AFTERNOON'}, {'key': 'THURSDAY_AFTERNOON', 'weekday': 'THURSDAY', 'type': 'AFTERNOON'}, {'key': 'FRIDAY_FORENOON', 'weekday': 'FRIDAY', 'type': 'FORENOON'}, {'key': 'SUNDAY_AFTERNOON', 'weekday': 'SUNDAY', 'type': 'AFTERNOON'}, {'key': 'SUNDAY_NIGHT', 'weekday': 'SUNDAY', 'type': 'NIGHT'}]}, {'postcode': 1061, 'latitude': 46.647, 'longitude': 6.729, 'capacities': [{'key': 'MONDAY_AFTERNOON', 'weekday': 'MONDAY', 'type': 'AFTERNOON'}, {'key': 'TUESDAY_AFTERNOON', 'weekday': 'TUESDAY', 'type': 'AFTERNOON'}, {'key': 'TUESDAY_NIGHT', 'weekday': 'TUESDAY', 'type': 'NIGHT'}, {'key': 'WEDNESDAY_FORENOON', 'weekday': 'WEDNESDAY', 'type': 'FORENOON'}, {'key': 'WEDNESDAY_NIGHT', 'weekday': 'WEDNESDAY', 'type': 'NIGHT'}, {'key': 'FRIDAY_NIGHT', 'weekday': 'FRIDAY', 'type': 'NIGHT'}, {'key': 'SATURDAY_NIGHT', 'weekday': 'SATURDAY', 'type': 'NIGHT'}, {'key': 'SUNDAY_FORENOON', 'weekday': 'SUNDAY', 'type': 'FORENOON'}, {'key': 'SUNDAY_AFTERNOON', 'weekday': 'SUNDAY', 'type': 'AFTERNOON'}, {'key': 'SUNDAY_EVENING', 'weekday': 'SUNDAY', 'type': 'EVENING'}]}, {'postcode': 7659, 'latitude': 13.313448, 'longitude': 0.74198, 'capacities': [{'key': 'MONDAY_AFTERNOON', 'weekday': 'MONDAY', 'type': 'AFTERNOON'}, {'key': 'MONDAY_NIGHT', 'weekday': 'MONDAY', 'type': 'NIGHT'}, {'key': 'TUESDAY_AFTERNOON', 'weekday': 'TUESDAY', 'type': 'AFTERNOON'}, {'key': 'TUESDAY_NIGHT', 'weekday': 'TUESDAY', 'type': 'NIGHT'}, {'key': 'THURSDAY_NIGHT', 'weekday': 'THURSDAY', 'type': 'NIGHT'}, {'key': 'FRIDAY_FORENOON', 'weekday': 'FRIDAY', 'type': 'FORENOON'}, {'key': 'FRIDAY_NIGHT', 'weekday': 'FRIDAY', 'type': 'NIGHT'}, {'key': 'SATURDAY_FORENOON', 'weekday': 'SATURDAY', 'type': 'FORENOON'}, {'key': 'SUNDAY_FORENOON', 'weekday': 'SUNDAY', 'type': 'FORENOON'}, {'key': 'SUNDAY_AFTERNOON', 'weekday': 'SUNDAY', 'type': 'AFTERNOON'}, {'key': 'SUNDAY_EVENING', 'weekday': 'SUNDAY', 'type': 'EVENING'}, {'key': 'SUNDAY_NIGHT', 'weekday': 'SUNDAY', 'type': 'NIGHT'}]}, {'postcode': 8063, 'latitude': 0, 'longitude': 0, 'capacities': [{'key': 'WEDNESDAY_AFTERNOON', 'weekday': 'WEDNESDAY', 'type': 'AFTERNOON'}, {'key': 'SUNDAY_FORENOON', 'weekday': 'SUNDAY', 'type': 'FORENOON'}]}, {'postcode': 776, 'latitude': -43.100161, 'longitude': -1.584395, 'capacities': [{'key': 'MONDAY_FORENOON', 'weekday': 'MONDAY', 'type': 'FORENOON'}, {'key': 'MONDAY_EVENING', 'weekday': 'MONDAY', 'type': 'EVENING'}, {'key': 'MONDAY_NIGHT', 'weekday': 'MONDAY', 'type': 'NIGHT'}, {'key': 'TUESDAY_AFTERNOON', 'weekday': 'TUESDAY', 'type': 'AFTERNOON'}, {'key': 'TUESDAY_EVENING', 'weekday': 'TUESDAY', 'type': 'EVENING'}, {'key': 'WEDNESDAY_AFTERNOON', 'weekday': 'WEDNESDAY', 'type': 'AFTERNOON'}, {'key': 'WEDNESDAY_EVENING', 'weekday': 'WEDNESDAY', 'type': 'EVENING'}, {'key': 'WEDNESDAY_NIGHT', 'weekday': 'WEDNESDAY', 'type': 'NIGHT'}, {'key': 'THURSDAY_FORENOON', 'weekday': 'THURSDAY', 'type': 'FORENOON'}, {'key': 'THURSDAY_AFTERNOON', 'weekday': 'THURSDAY', 'type': 'AFTERNOON'}, {'key': 'THURSDAY_EVENING', 'weekday': 'THURSDAY', 'type': 'EVENING'}, {'key': 'THURSDAY_NIGHT', 'weekday': 'THURSDAY', 'type': 'NIGHT'}, {'key': 'FRIDAY_FORENOON', 'weekday': 'FRIDAY', 'type': 'FORENOON'}, {'key': 'FRIDAY_AFTERNOON', 'weekday': 'FRIDAY', 'type': 'AFTERNOON'}, {'key': 'FRIDAY_EVENING', 'weekday': 'FRIDAY', 'type': 'EVENING'}, {'key': 'SATURDAY_AFTERNOON', 'weekday': 'SATURDAY', 'type': 'AFTERNOON'}, {'key': 'SATURDAY_EVENING', 'weekday': 'SATURDAY', 'type': 'EVENING'}, {'key': 'SUNDAY_FORENOON', 'weekday': 'SUNDAY', 'type': 'FORENOON'}]}, {'postcode': 3196, 'latitude': -82.952168, 'longitude': 173.939064, 'capacities': [{'key': 'MONDAY_FORENOON', 'weekday': 'MONDAY', 'type': 'FORENOON'}, {'key': 'MONDAY_AFTERNOON', 'weekday': 'MONDAY', 'type': 'AFTERNOON'}, {'key': 'MONDAY_NIGHT', 'weekday': 'MONDAY', 'type': 'NIGHT'}, {'key': 'TUESDAY_AFTERNOON', 'weekday': 'TUESDAY', 'type': 'AFTERNOON'}, {'key': 'TUESDAY_EVENING', 'weekday': 'TUESDAY', 'type': 'EVENING'}, {'key': 'WEDNESDAY_FORENOON', 'weekday': 'WEDNESDAY', 'type': 'FORENOON'}, {'key': 'WEDNESDAY_AFTERNOON', 'weekday': 'WEDNESDAY', 'type': 'AFTERNOON'}, {'key': 'WEDNESDAY_EVENING', 'weekday': 'WEDNESDAY', 'type': 'EVENING'}, {'key': 'THURSDAY_FORENOON', 'weekday': 'THURSDAY', 'type': 'FORENOON'}, {'key': 'THURSDAY_EVENING', 'weekday': 'THURSDAY', 'type': 'EVENING'}, {'key': 'THURSDAY_NIGHT', 'weekday': 'THURSDAY', 'type': 'NIGHT'}, {'key': 'FRIDAY_AFTERNOON', 'weekday': 'FRIDAY', 'type': 'AFTERNOON'}, {'key': 'FRIDAY_EVENING', 'weekday': 'FRIDAY', 'type': 'EVENING'}, {'key': 'FRIDAY_NIGHT', 'weekday': 'FRIDAY', 'type': 'NIGHT'}, {'key': 'SATURDAY_FORENOON', 'weekday': 'SATURDAY', 'type': 'FORENOON'}, {'key': 'SATURDAY_AFTERNOON', 'weekday': 'SATURDAY', 'type': 'AFTERNOON'}, {'key': 'SUNDAY_FORENOON', 'weekday': 'SUNDAY', 'type': 'FORENOON'}, {'key': 'SUNDAY_AFTERNOON', 'weekday': 'SUNDAY', 'type': 'AFTERNOON'}, {'key': 'SUNDAY_EVENING', 'weekday': 'SUNDAY', 'type': 'EVENING'}, {'key': 'SUNDAY_NIGHT', 'weekday': 'SUNDAY', 'type': 'NIGHT'}]}, {'postcode': 764, 'latitude': 23.029676, 'longitude': -127.976899, 'capacities': [{'key': 'MONDAY_FORENOON', 'weekday': 'MONDAY', 'type': 'FORENOON'}, {'key': 'MONDAY_EVENING', 'weekday': 'MONDAY', 'type': 'EVENING'}, {'key': 'TUESDAY_FORENOON', 'weekday': 'TUESDAY', 'type': 'FORENOON'}, {'key': 'TUESDAY_AFTERNOON', 'weekday': 'TUESDAY', 'type': 'AFTERNOON'}, {'key': 'TUESDAY_EVENING', 'weekday': 'TUESDAY', 'type': 'EVENING'}, {'key': 'TUESDAY_NIGHT', 'weekday': 'TUESDAY', 'type': 'NIGHT'}, {'key': 'WEDNESDAY_FORENOON', 'weekday': 'WEDNESDAY', 'type': 'FORENOON'}, {'key': 'WEDNESDAY_AFTERNOON', 'weekday': 'WEDNESDAY', 'type': 'AFTERNOON'}, {'key': 'WEDNESDAY_NIGHT', 'weekday': 'WEDNESDAY', 'type': 'NIGHT'}, {'key': 'THURSDAY_FORENOON', 'weekday': 'THURSDAY', 'type': 'FORENOON'}, {'key': 'THURSDAY_AFTERNOON', 'weekday': 'THURSDAY', 'type': 'AFTERNOON'}, {'key': 'THURSDAY_EVENING', 'weekday': 'THURSDAY', 'type': 'EVENING'}, {'key': 'FRIDAY_FORENOON', 'weekday': 'FRIDAY', 'type': 'FORENOON'}, {'key': 'FRIDAY_AFTERNOON', 'weekday': 'FRIDAY', 'type': 'AFTERNOON'}, {'key': 'FRIDAY_EVENING', 'weekday': 'FRIDAY', 'type': 'EVENING'}, {'key': 'FRIDAY_NIGHT', 'weekday': 'FRIDAY', 'type': 'NIGHT'}, {'key': 'SATURDAY_FORENOON', 'weekday': 'SATURDAY', 'type': 'FORENOON'}, {'key': 'SATURDAY_AFTERNOON', 'weekday': 'SATURDAY', 'type': 'AFTERNOON'}, {'key': 'SATURDAY_EVENING', 'weekday': 'SATURDAY', 'type': 'EVENING'}, {'key': 'SUNDAY_FORENOON', 'weekday': 'SUNDAY', 'type': 'FORENOON'}, {'key': 'SUNDAY_AFTERNOON', 'weekday': 'SUNDAY', 'type': 'AFTERNOON'}, {'key': 'SUNDAY_EVENING', 'weekday': 'SUNDAY', 'type': 'EVENING'}, {'key': 'SUNDAY_NIGHT', 'weekday': 'SUNDAY', 'type': 'NIGHT'}]}, {'postcode': 2479, 'latitude': -81.488463, 'longitude': 110.732916, 'capacities': [{'key': 'TUESDAY_FORENOON', 'weekday': 'TUESDAY', 'type': 'FORENOON'}, {'key': 'TUESDAY_AFTERNOON', 'weekday': 'TUESDAY', 'type': 'AFTERNOON'}, {'key': 'SATURDAY_AFTERNOON', 'weekday': 'SATURDAY', 'type': 'AFTERNOON'}]}]\n"
     ]
    }
   ],
   "source": [
    "import requests\n",
    "import json\n",
    "import pandas as pd\n",
    "from pandas.io.json import json_normalize\n",
    "from collections import Counter\n",
    "import numpy as np\n",
    "\n",
    "url = \"https://staging.medicalinformatics.ch/api/v1/helpers\"\n",
    "\n",
    "payload = \"{\\n\\t\\\"hash\\\": \\\"4a9cmGzA\\\"\\n}\"\n",
    "headers = {\n",
    "  'Accept': 'application/json',\n",
    "  'Content-Type': 'application/json'\n",
    "}\n",
    "\n",
    "indf = json.loads(requests.request(\"POST\", url, headers=headers, data = payload).text.encode('utf8'))\n",
    "#df = json_normalize(json.loads(response))\n",
    " \n",
    "print(indf)"
   ]
  },
  {
   "cell_type": "markdown",
   "metadata": {},
   "source": [
    "## post-processing  to get count table"
   ]
  },
  {
   "cell_type": "code",
   "execution_count": 102,
   "metadata": {
    "ExecuteTime": {
     "end_time": "2020-04-05T10:19:27.247595Z",
     "start_time": "2020-04-05T10:19:26.932927Z"
    }
   },
   "outputs": [
    {
     "name": "stdout",
     "output_type": "stream",
     "text": [
      "     PLZ        lat         lon  cou\n",
      "0   7754  85.094616   41.236094   22\n",
      "1   1302  46.577000    6.539000    4\n",
      "2   2068  47.014000    6.972000   13\n",
      "3   8154  47.477000    8.521000    6\n",
      "4   7849  70.701631   20.585604   20\n",
      "5   1018  46.539000    6.629000   19\n",
      "6   1247  46.276000    6.223000   18\n",
      "7   5030  11.879975   14.143830   12\n",
      "8   9763 -12.673244  100.532762   27\n",
      "9   8480 -54.534339  -35.443489   24\n",
      "10  7156  46.809000    9.117000   14\n",
      "11  2005  52.291561  155.434605    7\n",
      "12  5972 -14.542960  -84.359244   13\n",
      "13  2526 -87.714189 -149.282318   24\n",
      "14  1393  79.983104   95.050325    3\n",
      "15   881  25.366018 -119.658361   26\n",
      "16  3815  46.634000    7.912000    3\n",
      "17  2388  89.550834  135.142923   18\n",
      "18  2383  78.961034   44.341181   17\n",
      "19  3810  70.048142   94.436112   10\n",
      "20  2945  18.850525  -76.632786    9\n",
      "21  1061  46.647000    6.729000   10\n",
      "22  7659  13.313448    0.741980   12\n",
      "23  8063   0.000000    0.000000    2\n",
      "24   776 -43.100161   -1.584395   18\n",
      "25  3196 -82.952168  173.939064   20\n",
      "26   764  23.029676 -127.976899   23\n",
      "27  2479 -81.488463  110.732916    3\n"
     ]
    }
   ],
   "source": [
    "# list of available time blocks\n",
    "def list_of_blocks(ld):\n",
    "    return list(list(json_normalize(d)['key']) for d in ld)\n",
    "\n",
    "#def list_of_counts(ld):\n",
    "#    return list(Counter(json_normalize(d)['key']) for d in ld)\n",
    "#    return list(pd.Series(json_normalize(json_normalize(df)['capacities'][0])['key']) for d in ld)  \n",
    "#   Create a mapping of the tuples formed after converting json strings of list to a python list\n",
    "\n",
    "def occurDict(items):\n",
    "    l = []\n",
    "    for j in range(items.shape[0]):\n",
    "        d = Counter([item for sublist in cou.values[j] for item in sublist])\n",
    "        l.append(d)\n",
    "    return l\n",
    "\n",
    "#def list_of_dicts(ld):\n",
    "#    return dict([(list(d.values())[1], list(d.values())[0]) for d in ld])\n",
    "\n",
    "# eventually to extract from table and/or user selection via UI\n",
    "a = [\"MONDAY\", \"TUESDAY\",\"WEDNESDAY\", \"THURSDAY\", \"FRIDAY\", \"SATURDAY\", \"SUNDAY\"]\n",
    "b = [\"FORENOON\", \"AFTERNOON\", \"EVENING\", \"NIGHT\"]\n",
    "blocks = ['_'.join([x,y]) for x in a for y in b]\n",
    "\n",
    "# fill a dataframe\n",
    "'''\n",
    "If you plan to do things inside a big loop (say 10M‌ records or so), you are better off\n",
    "using a mixture of these two; fill a dataframe with iloc until the size gets around 1000,\n",
    "then append it to the original dataframe, and empty the temp dataframe. This would boost\n",
    "your performance by around 10 times.\n",
    "\n",
    "''' \n",
    "df = pd.DataFrame(columns=['PLZ', 'lat', 'lon', 'cou'], dtype=float)\n",
    "\n",
    "df['PLZ'] = json_normalize(indf)['postcode'].values\n",
    "df['lat'] = json_normalize(indf)['latitude'].values\n",
    "df['lon'] = json_normalize(indf)['longitude'].values             \n",
    "\n",
    "cou = json_normalize(indf)['capacities'].apply(list_of_blocks)\n",
    "#print(cou.values)\n",
    "dic = occurDict(cou.values)\n",
    "#print(dic[0]['MONDAY_FORENOON'])\n",
    "# sum over the selected time blocks\n",
    "su = []\n",
    "for cl in dic:\n",
    "    s = []\n",
    "    for b in blocks:\n",
    "        s.append(cl[b])\n",
    "    su.append(sum(s))\n",
    "    \n",
    "#print(len(dic))\n",
    "df['cou'] = su\n",
    "\n",
    "# data frame from list of dictionaries \n",
    "#data = [{'a': 1, 'b': 2},{'a': 5, 'b': 10, 'c': 20}]\n",
    "#df = pd.DataFrame(data)\n",
    "\n",
    "print(df)\n"
   ]
  },
  {
   "cell_type": "code",
   "execution_count": 83,
   "metadata": {
    "ExecuteTime": {
     "end_time": "2020-04-05T09:48:12.372556Z",
     "start_time": "2020-04-05T09:48:12.365631Z"
    }
   },
   "outputs": [
    {
     "name": "stdout",
     "output_type": "stream",
     "text": [
      "['TUESDAY_FORENOON', 'TUESDAY_AFTERNOON', 'SATURDAY_AFTERNOON']\n"
     ]
    }
   ],
   "source": [
    "print([item for sublist in cou.values[27] for item in sublist])"
   ]
  },
  {
   "cell_type": "code",
   "execution_count": 10,
   "metadata": {
    "ExecuteTime": {
     "end_time": "2020-04-04T19:56:58.049641Z",
     "start_time": "2020-04-04T19:56:58.038028Z"
    }
   },
   "outputs": [
    {
     "name": "stdout",
     "output_type": "stream",
     "text": [
      "[{'postcode': 2282, 'latitude': 57.254013, 'longitude': -13.846746, 'capacities': [{'key': 'MONDAY_NIGHT', 'weekday': 'MONDAY', 'type': 'NIGHT'}, {'key': 'TUESDAY_FORENOON', 'weekday': 'TUESDAY', 'type': 'FORENOON'}, {'key': 'WEDNESDAY_AFTERNOON', 'weekday': 'WEDNESDAY', 'type': 'AFTERNOON'}, {'key': 'WEDNESDAY_NIGHT', 'weekday': 'WEDNESDAY', 'type': 'NIGHT'}, {'key': 'FRIDAY_FORENOON', 'weekday': 'FRIDAY', 'type': 'FORENOON'}, {'key': 'SATURDAY_AFTERNOON', 'weekday': 'SATURDAY', 'type': 'AFTERNOON'}]}, {'postcode': 46, 'latitude': 67.857323, 'longitude': 94.643538, 'capacities': [{'key': 'MONDAY_AFTERNOON', 'weekday': 'MONDAY', 'type': 'AFTERNOON'}, {'key': 'MONDAY_EVENING', 'weekday': 'MONDAY', 'type': 'EVENING'}, {'key': 'MONDAY_NIGHT', 'weekday': 'MONDAY', 'type': 'NIGHT'}, {'key': 'TUESDAY_FORENOON', 'weekday': 'TUESDAY', 'type': 'FORENOON'}, {'key': 'TUESDAY_AFTERNOON', 'weekday': 'TUESDAY', 'type': 'AFTERNOON'}, {'key': 'TUESDAY_EVENING', 'weekday': 'TUESDAY', 'type': 'EVENING'}, {'key': 'TUESDAY_NIGHT', 'weekday': 'TUESDAY', 'type': 'NIGHT'}, {'key': 'WEDNESDAY_FORENOON', 'weekday': 'WEDNESDAY', 'type': 'FORENOON'}, {'key': 'WEDNESDAY_AFTERNOON', 'weekday': 'WEDNESDAY', 'type': 'AFTERNOON'}, {'key': 'WEDNESDAY_EVENING', 'weekday': 'WEDNESDAY', 'type': 'EVENING'}, {'key': 'WEDNESDAY_NIGHT', 'weekday': 'WEDNESDAY', 'type': 'NIGHT'}, {'key': 'THURSDAY_FORENOON', 'weekday': 'THURSDAY', 'type': 'FORENOON'}, {'key': 'THURSDAY_AFTERNOON', 'weekday': 'THURSDAY', 'type': 'AFTERNOON'}, {'key': 'THURSDAY_EVENING', 'weekday': 'THURSDAY', 'type': 'EVENING'}, {'key': 'THURSDAY_NIGHT', 'weekday': 'THURSDAY', 'type': 'NIGHT'}, {'key': 'FRIDAY_FORENOON', 'weekday': 'FRIDAY', 'type': 'FORENOON'}, {'key': 'FRIDAY_AFTERNOON', 'weekday': 'FRIDAY', 'type': 'AFTERNOON'}, {'key': 'FRIDAY_EVENING', 'weekday': 'FRIDAY', 'type': 'EVENING'}, {'key': 'FRIDAY_NIGHT', 'weekday': 'FRIDAY', 'type': 'NIGHT'}, {'key': 'SATURDAY_FORENOON', 'weekday': 'SATURDAY', 'type': 'FORENOON'}, {'key': 'SATURDAY_EVENING', 'weekday': 'SATURDAY', 'type': 'EVENING'}, {'key': 'SATURDAY_NIGHT', 'weekday': 'SATURDAY', 'type': 'NIGHT'}, {'key': 'SUNDAY_FORENOON', 'weekday': 'SUNDAY', 'type': 'FORENOON'}, {'key': 'SUNDAY_EVENING', 'weekday': 'SUNDAY', 'type': 'EVENING'}]}, {'postcode': 8828, 'latitude': -86.629925, 'longitude': 15.794876, 'capacities': [{'key': 'MONDAY_AFTERNOON', 'weekday': 'MONDAY', 'type': 'AFTERNOON'}, {'key': 'MONDAY_EVENING', 'weekday': 'MONDAY', 'type': 'EVENING'}, {'key': 'TUESDAY_FORENOON', 'weekday': 'TUESDAY', 'type': 'FORENOON'}, {'key': 'TUESDAY_AFTERNOON', 'weekday': 'TUESDAY', 'type': 'AFTERNOON'}, {'key': 'TUESDAY_EVENING', 'weekday': 'TUESDAY', 'type': 'EVENING'}, {'key': 'THURSDAY_AFTERNOON', 'weekday': 'THURSDAY', 'type': 'AFTERNOON'}, {'key': 'THURSDAY_NIGHT', 'weekday': 'THURSDAY', 'type': 'NIGHT'}, {'key': 'FRIDAY_FORENOON', 'weekday': 'FRIDAY', 'type': 'FORENOON'}, {'key': 'FRIDAY_EVENING', 'weekday': 'FRIDAY', 'type': 'EVENING'}, {'key': 'FRIDAY_NIGHT', 'weekday': 'FRIDAY', 'type': 'NIGHT'}, {'key': 'SATURDAY_AFTERNOON', 'weekday': 'SATURDAY', 'type': 'AFTERNOON'}, {'key': 'SATURDAY_NIGHT', 'weekday': 'SATURDAY', 'type': 'NIGHT'}, {'key': 'SUNDAY_AFTERNOON', 'weekday': 'SUNDAY', 'type': 'AFTERNOON'}, {'key': 'SUNDAY_NIGHT', 'weekday': 'SUNDAY', 'type': 'NIGHT'}]}, {'postcode': 8892, 'latitude': 47.105, 'longitude': 9.347, 'capacities': [{'key': 'TUESDAY_NIGHT', 'weekday': 'TUESDAY', 'type': 'NIGHT'}, {'key': 'WEDNESDAY_FORENOON', 'weekday': 'WEDNESDAY', 'type': 'FORENOON'}, {'key': 'WEDNESDAY_EVENING', 'weekday': 'WEDNESDAY', 'type': 'EVENING'}, {'key': 'WEDNESDAY_NIGHT', 'weekday': 'WEDNESDAY', 'type': 'NIGHT'}, {'key': 'THURSDAY_FORENOON', 'weekday': 'THURSDAY', 'type': 'FORENOON'}, {'key': 'FRIDAY_EVENING', 'weekday': 'FRIDAY', 'type': 'EVENING'}, {'key': 'SATURDAY_AFTERNOON', 'weekday': 'SATURDAY', 'type': 'AFTERNOON'}, {'key': 'SUNDAY_AFTERNOON', 'weekday': 'SUNDAY', 'type': 'AFTERNOON'}, {'key': 'SUNDAY_EVENING', 'weekday': 'SUNDAY', 'type': 'EVENING'}, {'key': 'SUNDAY_NIGHT', 'weekday': 'SUNDAY', 'type': 'NIGHT'}]}, {'postcode': 7059, 'latitude': -7.279339, 'longitude': -15.62861, 'capacities': [{'key': 'MONDAY_AFTERNOON', 'weekday': 'MONDAY', 'type': 'AFTERNOON'}, {'key': 'MONDAY_EVENING', 'weekday': 'MONDAY', 'type': 'EVENING'}, {'key': 'MONDAY_NIGHT', 'weekday': 'MONDAY', 'type': 'NIGHT'}, {'key': 'TUESDAY_FORENOON', 'weekday': 'TUESDAY', 'type': 'FORENOON'}, {'key': 'TUESDAY_AFTERNOON', 'weekday': 'TUESDAY', 'type': 'AFTERNOON'}, {'key': 'TUESDAY_EVENING', 'weekday': 'TUESDAY', 'type': 'EVENING'}, {'key': 'TUESDAY_NIGHT', 'weekday': 'TUESDAY', 'type': 'NIGHT'}, {'key': 'WEDNESDAY_FORENOON', 'weekday': 'WEDNESDAY', 'type': 'FORENOON'}, {'key': 'WEDNESDAY_AFTERNOON', 'weekday': 'WEDNESDAY', 'type': 'AFTERNOON'}, {'key': 'WEDNESDAY_EVENING', 'weekday': 'WEDNESDAY', 'type': 'EVENING'}, {'key': 'THURSDAY_FORENOON', 'weekday': 'THURSDAY', 'type': 'FORENOON'}, {'key': 'FRIDAY_NIGHT', 'weekday': 'FRIDAY', 'type': 'NIGHT'}, {'key': 'SATURDAY_FORENOON', 'weekday': 'SATURDAY', 'type': 'FORENOON'}, {'key': 'SATURDAY_EVENING', 'weekday': 'SATURDAY', 'type': 'EVENING'}, {'key': 'SUNDAY_FORENOON', 'weekday': 'SUNDAY', 'type': 'FORENOON'}, {'key': 'SUNDAY_EVENING', 'weekday': 'SUNDAY', 'type': 'EVENING'}, {'key': 'SUNDAY_NIGHT', 'weekday': 'SUNDAY', 'type': 'NIGHT'}]}, {'postcode': 547, 'latitude': -61.458959, 'longitude': 67.60954, 'capacities': [{'key': 'TUESDAY_FORENOON', 'weekday': 'TUESDAY', 'type': 'FORENOON'}, {'key': 'WEDNESDAY_NIGHT', 'weekday': 'WEDNESDAY', 'type': 'NIGHT'}, {'key': 'THURSDAY_EVENING', 'weekday': 'THURSDAY', 'type': 'EVENING'}, {'key': 'SUNDAY_NIGHT', 'weekday': 'SUNDAY', 'type': 'NIGHT'}]}, {'postcode': 1975, 'latitude': 46.239, 'longitude': 7.303, 'capacities': [{'key': 'THURSDAY_EVENING', 'weekday': 'THURSDAY', 'type': 'EVENING'}]}, {'postcode': 5044, 'latitude': 47.293, 'longitude': 8.089, 'capacities': [{'key': 'MONDAY_FORENOON', 'weekday': 'MONDAY', 'type': 'FORENOON'}, {'key': 'MONDAY_AFTERNOON', 'weekday': 'MONDAY', 'type': 'AFTERNOON'}, {'key': 'MONDAY_EVENING', 'weekday': 'MONDAY', 'type': 'EVENING'}, {'key': 'TUESDAY_FORENOON', 'weekday': 'TUESDAY', 'type': 'FORENOON'}, {'key': 'TUESDAY_AFTERNOON', 'weekday': 'TUESDAY', 'type': 'AFTERNOON'}, {'key': 'TUESDAY_EVENING', 'weekday': 'TUESDAY', 'type': 'EVENING'}, {'key': 'WEDNESDAY_FORENOON', 'weekday': 'WEDNESDAY', 'type': 'FORENOON'}, {'key': 'WEDNESDAY_AFTERNOON', 'weekday': 'WEDNESDAY', 'type': 'AFTERNOON'}, {'key': 'WEDNESDAY_EVENING', 'weekday': 'WEDNESDAY', 'type': 'EVENING'}, {'key': 'WEDNESDAY_NIGHT', 'weekday': 'WEDNESDAY', 'type': 'NIGHT'}, {'key': 'THURSDAY_FORENOON', 'weekday': 'THURSDAY', 'type': 'FORENOON'}, {'key': 'THURSDAY_EVENING', 'weekday': 'THURSDAY', 'type': 'EVENING'}, {'key': 'THURSDAY_NIGHT', 'weekday': 'THURSDAY', 'type': 'NIGHT'}, {'key': 'FRIDAY_FORENOON', 'weekday': 'FRIDAY', 'type': 'FORENOON'}, {'key': 'FRIDAY_EVENING', 'weekday': 'FRIDAY', 'type': 'EVENING'}, {'key': 'FRIDAY_NIGHT', 'weekday': 'FRIDAY', 'type': 'NIGHT'}, {'key': 'SATURDAY_FORENOON', 'weekday': 'SATURDAY', 'type': 'FORENOON'}, {'key': 'SATURDAY_AFTERNOON', 'weekday': 'SATURDAY', 'type': 'AFTERNOON'}, {'key': 'SATURDAY_EVENING', 'weekday': 'SATURDAY', 'type': 'EVENING'}, {'key': 'SUNDAY_FORENOON', 'weekday': 'SUNDAY', 'type': 'FORENOON'}, {'key': 'SUNDAY_EVENING', 'weekday': 'SUNDAY', 'type': 'EVENING'}, {'key': 'SUNDAY_NIGHT', 'weekday': 'SUNDAY', 'type': 'NIGHT'}]}, {'postcode': 6683, 'latitude': 46.306, 'longitude': 8.548, 'capacities': [{'key': 'MONDAY_FORENOON', 'weekday': 'MONDAY', 'type': 'FORENOON'}, {'key': 'MONDAY_AFTERNOON', 'weekday': 'MONDAY', 'type': 'AFTERNOON'}, {'key': 'MONDAY_EVENING', 'weekday': 'MONDAY', 'type': 'EVENING'}, {'key': 'TUESDAY_FORENOON', 'weekday': 'TUESDAY', 'type': 'FORENOON'}, {'key': 'TUESDAY_AFTERNOON', 'weekday': 'TUESDAY', 'type': 'AFTERNOON'}, {'key': 'TUESDAY_EVENING', 'weekday': 'TUESDAY', 'type': 'EVENING'}, {'key': 'WEDNESDAY_FORENOON', 'weekday': 'WEDNESDAY', 'type': 'FORENOON'}, {'key': 'WEDNESDAY_NIGHT', 'weekday': 'WEDNESDAY', 'type': 'NIGHT'}, {'key': 'THURSDAY_FORENOON', 'weekday': 'THURSDAY', 'type': 'FORENOON'}, {'key': 'THURSDAY_AFTERNOON', 'weekday': 'THURSDAY', 'type': 'AFTERNOON'}, {'key': 'THURSDAY_EVENING', 'weekday': 'THURSDAY', 'type': 'EVENING'}, {'key': 'THURSDAY_NIGHT', 'weekday': 'THURSDAY', 'type': 'NIGHT'}, {'key': 'FRIDAY_FORENOON', 'weekday': 'FRIDAY', 'type': 'FORENOON'}, {'key': 'FRIDAY_AFTERNOON', 'weekday': 'FRIDAY', 'type': 'AFTERNOON'}, {'key': 'FRIDAY_NIGHT', 'weekday': 'FRIDAY', 'type': 'NIGHT'}, {'key': 'SATURDAY_AFTERNOON', 'weekday': 'SATURDAY', 'type': 'AFTERNOON'}, {'key': 'SATURDAY_EVENING', 'weekday': 'SATURDAY', 'type': 'EVENING'}, {'key': 'SATURDAY_NIGHT', 'weekday': 'SATURDAY', 'type': 'NIGHT'}, {'key': 'SUNDAY_FORENOON', 'weekday': 'SUNDAY', 'type': 'FORENOON'}, {'key': 'SUNDAY_AFTERNOON', 'weekday': 'SUNDAY', 'type': 'AFTERNOON'}, {'key': 'SUNDAY_EVENING', 'weekday': 'SUNDAY', 'type': 'EVENING'}, {'key': 'SUNDAY_NIGHT', 'weekday': 'SUNDAY', 'type': 'NIGHT'}]}, {'postcode': 5387, 'latitude': -89.544934, 'longitude': -33.062889, 'capacities': [{'key': 'MONDAY_AFTERNOON', 'weekday': 'MONDAY', 'type': 'AFTERNOON'}, {'key': 'TUESDAY_NIGHT', 'weekday': 'TUESDAY', 'type': 'NIGHT'}, {'key': 'WEDNESDAY_FORENOON', 'weekday': 'WEDNESDAY', 'type': 'FORENOON'}, {'key': 'WEDNESDAY_EVENING', 'weekday': 'WEDNESDAY', 'type': 'EVENING'}, {'key': 'THURSDAY_FORENOON', 'weekday': 'THURSDAY', 'type': 'FORENOON'}, {'key': 'THURSDAY_AFTERNOON', 'weekday': 'THURSDAY', 'type': 'AFTERNOON'}, {'key': 'FRIDAY_FORENOON', 'weekday': 'FRIDAY', 'type': 'FORENOON'}, {'key': 'FRIDAY_AFTERNOON', 'weekday': 'FRIDAY', 'type': 'AFTERNOON'}, {'key': 'FRIDAY_EVENING', 'weekday': 'FRIDAY', 'type': 'EVENING'}, {'key': 'SATURDAY_EVENING', 'weekday': 'SATURDAY', 'type': 'EVENING'}, {'key': 'SATURDAY_NIGHT', 'weekday': 'SATURDAY', 'type': 'NIGHT'}, {'key': 'SUNDAY_FORENOON', 'weekday': 'SUNDAY', 'type': 'FORENOON'}, {'key': 'SUNDAY_NIGHT', 'weekday': 'SUNDAY', 'type': 'NIGHT'}]}, {'postcode': 9829, 'latitude': 5.347976, 'longitude': -77.727888, 'capacities': [{'key': 'MONDAY_NIGHT', 'weekday': 'MONDAY', 'type': 'NIGHT'}, {'key': 'TUESDAY_NIGHT', 'weekday': 'TUESDAY', 'type': 'NIGHT'}, {'key': 'THURSDAY_EVENING', 'weekday': 'THURSDAY', 'type': 'EVENING'}, {'key': 'FRIDAY_AFTERNOON', 'weekday': 'FRIDAY', 'type': 'AFTERNOON'}, {'key': 'FRIDAY_EVENING', 'weekday': 'FRIDAY', 'type': 'EVENING'}, {'key': 'SATURDAY_AFTERNOON', 'weekday': 'SATURDAY', 'type': 'AFTERNOON'}, {'key': 'SATURDAY_EVENING', 'weekday': 'SATURDAY', 'type': 'EVENING'}, {'key': 'SUNDAY_FORENOON', 'weekday': 'SUNDAY', 'type': 'FORENOON'}, {'key': 'SUNDAY_AFTERNOON', 'weekday': 'SUNDAY', 'type': 'AFTERNOON'}, {'key': 'SUNDAY_NIGHT', 'weekday': 'SUNDAY', 'type': 'NIGHT'}]}, {'postcode': 2541, 'latitude': 56.010134, 'longitude': -46.198767, 'capacities': [{'key': 'MONDAY_AFTERNOON', 'weekday': 'MONDAY', 'type': 'AFTERNOON'}, {'key': 'TUESDAY_EVENING', 'weekday': 'TUESDAY', 'type': 'EVENING'}, {'key': 'WEDNESDAY_FORENOON', 'weekday': 'WEDNESDAY', 'type': 'FORENOON'}, {'key': 'THURSDAY_AFTERNOON', 'weekday': 'THURSDAY', 'type': 'AFTERNOON'}, {'key': 'SUNDAY_EVENING', 'weekday': 'SUNDAY', 'type': 'EVENING'}, {'key': 'SUNDAY_NIGHT', 'weekday': 'SUNDAY', 'type': 'NIGHT'}]}, {'postcode': 586, 'latitude': 69.89196, 'longitude': -50.386301, 'capacities': [{'key': 'MONDAY_FORENOON', 'weekday': 'MONDAY', 'type': 'FORENOON'}, {'key': 'TUESDAY_FORENOON', 'weekday': 'TUESDAY', 'type': 'FORENOON'}, {'key': 'TUESDAY_NIGHT', 'weekday': 'TUESDAY', 'type': 'NIGHT'}, {'key': 'WEDNESDAY_FORENOON', 'weekday': 'WEDNESDAY', 'type': 'FORENOON'}, {'key': 'WEDNESDAY_AFTERNOON', 'weekday': 'WEDNESDAY', 'type': 'AFTERNOON'}, {'key': 'WEDNESDAY_EVENING', 'weekday': 'WEDNESDAY', 'type': 'EVENING'}, {'key': 'WEDNESDAY_NIGHT', 'weekday': 'WEDNESDAY', 'type': 'NIGHT'}, {'key': 'THURSDAY_EVENING', 'weekday': 'THURSDAY', 'type': 'EVENING'}, {'key': 'THURSDAY_NIGHT', 'weekday': 'THURSDAY', 'type': 'NIGHT'}, {'key': 'FRIDAY_FORENOON', 'weekday': 'FRIDAY', 'type': 'FORENOON'}, {'key': 'FRIDAY_AFTERNOON', 'weekday': 'FRIDAY', 'type': 'AFTERNOON'}, {'key': 'FRIDAY_NIGHT', 'weekday': 'FRIDAY', 'type': 'NIGHT'}, {'key': 'SATURDAY_AFTERNOON', 'weekday': 'SATURDAY', 'type': 'AFTERNOON'}, {'key': 'SUNDAY_FORENOON', 'weekday': 'SUNDAY', 'type': 'FORENOON'}, {'key': 'SUNDAY_AFTERNOON', 'weekday': 'SUNDAY', 'type': 'AFTERNOON'}, {'key': 'SUNDAY_EVENING', 'weekday': 'SUNDAY', 'type': 'EVENING'}, {'key': 'SUNDAY_NIGHT', 'weekday': 'SUNDAY', 'type': 'NIGHT'}]}, {'postcode': 1505, 'latitude': -19.798765, 'longitude': 55.141315, 'capacities': [{'key': 'MONDAY_EVENING', 'weekday': 'MONDAY', 'type': 'EVENING'}, {'key': 'WEDNESDAY_EVENING', 'weekday': 'WEDNESDAY', 'type': 'EVENING'}, {'key': 'WEDNESDAY_NIGHT', 'weekday': 'WEDNESDAY', 'type': 'NIGHT'}, {'key': 'THURSDAY_FORENOON', 'weekday': 'THURSDAY', 'type': 'FORENOON'}, {'key': 'SATURDAY_AFTERNOON', 'weekday': 'SATURDAY', 'type': 'AFTERNOON'}, {'key': 'SATURDAY_EVENING', 'weekday': 'SATURDAY', 'type': 'EVENING'}, {'key': 'SATURDAY_NIGHT', 'weekday': 'SATURDAY', 'type': 'NIGHT'}, {'key': 'SUNDAY_FORENOON', 'weekday': 'SUNDAY', 'type': 'FORENOON'}, {'key': 'SUNDAY_AFTERNOON', 'weekday': 'SUNDAY', 'type': 'AFTERNOON'}]}, {'postcode': 6177, 'latitude': -47.336469, 'longitude': -25.100884, 'capacities': [{'key': 'MONDAY_FORENOON', 'weekday': 'MONDAY', 'type': 'FORENOON'}, {'key': 'MONDAY_EVENING', 'weekday': 'MONDAY', 'type': 'EVENING'}, {'key': 'MONDAY_NIGHT', 'weekday': 'MONDAY', 'type': 'NIGHT'}, {'key': 'TUESDAY_FORENOON', 'weekday': 'TUESDAY', 'type': 'FORENOON'}, {'key': 'TUESDAY_EVENING', 'weekday': 'TUESDAY', 'type': 'EVENING'}, {'key': 'TUESDAY_NIGHT', 'weekday': 'TUESDAY', 'type': 'NIGHT'}, {'key': 'WEDNESDAY_NIGHT', 'weekday': 'WEDNESDAY', 'type': 'NIGHT'}, {'key': 'THURSDAY_EVENING', 'weekday': 'THURSDAY', 'type': 'EVENING'}, {'key': 'THURSDAY_NIGHT', 'weekday': 'THURSDAY', 'type': 'NIGHT'}, {'key': 'FRIDAY_FORENOON', 'weekday': 'FRIDAY', 'type': 'FORENOON'}, {'key': 'FRIDAY_AFTERNOON', 'weekday': 'FRIDAY', 'type': 'AFTERNOON'}, {'key': 'FRIDAY_NIGHT', 'weekday': 'FRIDAY', 'type': 'NIGHT'}, {'key': 'SATURDAY_FORENOON', 'weekday': 'SATURDAY', 'type': 'FORENOON'}, {'key': 'SATURDAY_AFTERNOON', 'weekday': 'SATURDAY', 'type': 'AFTERNOON'}, {'key': 'SATURDAY_EVENING', 'weekday': 'SATURDAY', 'type': 'EVENING'}, {'key': 'SATURDAY_NIGHT', 'weekday': 'SATURDAY', 'type': 'NIGHT'}, {'key': 'SUNDAY_FORENOON', 'weekday': 'SUNDAY', 'type': 'FORENOON'}, {'key': 'SUNDAY_EVENING', 'weekday': 'SUNDAY', 'type': 'EVENING'}]}, {'postcode': 4028, 'latitude': 63.961867, 'longitude': 166.102008, 'capacities': [{'key': 'FRIDAY_AFTERNOON', 'weekday': 'FRIDAY', 'type': 'AFTERNOON'}]}, {'postcode': 5756, 'latitude': -74.962654, 'longitude': -70.306928, 'capacities': [{'key': 'MONDAY_FORENOON', 'weekday': 'MONDAY', 'type': 'FORENOON'}, {'key': 'MONDAY_AFTERNOON', 'weekday': 'MONDAY', 'type': 'AFTERNOON'}, {'key': 'MONDAY_EVENING', 'weekday': 'MONDAY', 'type': 'EVENING'}, {'key': 'MONDAY_NIGHT', 'weekday': 'MONDAY', 'type': 'NIGHT'}, {'key': 'TUESDAY_FORENOON', 'weekday': 'TUESDAY', 'type': 'FORENOON'}, {'key': 'TUESDAY_AFTERNOON', 'weekday': 'TUESDAY', 'type': 'AFTERNOON'}, {'key': 'TUESDAY_NIGHT', 'weekday': 'TUESDAY', 'type': 'NIGHT'}, {'key': 'WEDNESDAY_FORENOON', 'weekday': 'WEDNESDAY', 'type': 'FORENOON'}, {'key': 'WEDNESDAY_AFTERNOON', 'weekday': 'WEDNESDAY', 'type': 'AFTERNOON'}, {'key': 'WEDNESDAY_EVENING', 'weekday': 'WEDNESDAY', 'type': 'EVENING'}, {'key': 'WEDNESDAY_NIGHT', 'weekday': 'WEDNESDAY', 'type': 'NIGHT'}, {'key': 'THURSDAY_FORENOON', 'weekday': 'THURSDAY', 'type': 'FORENOON'}, {'key': 'THURSDAY_AFTERNOON', 'weekday': 'THURSDAY', 'type': 'AFTERNOON'}, {'key': 'THURSDAY_EVENING', 'weekday': 'THURSDAY', 'type': 'EVENING'}, {'key': 'FRIDAY_FORENOON', 'weekday': 'FRIDAY', 'type': 'FORENOON'}, {'key': 'FRIDAY_EVENING', 'weekday': 'FRIDAY', 'type': 'EVENING'}, {'key': 'FRIDAY_NIGHT', 'weekday': 'FRIDAY', 'type': 'NIGHT'}, {'key': 'SATURDAY_FORENOON', 'weekday': 'SATURDAY', 'type': 'FORENOON'}, {'key': 'SUNDAY_FORENOON', 'weekday': 'SUNDAY', 'type': 'FORENOON'}, {'key': 'SUNDAY_AFTERNOON', 'weekday': 'SUNDAY', 'type': 'AFTERNOON'}, {'key': 'SUNDAY_EVENING', 'weekday': 'SUNDAY', 'type': 'EVENING'}, {'key': 'SUNDAY_NIGHT', 'weekday': 'SUNDAY', 'type': 'NIGHT'}]}, {'postcode': 7411, 'latitude': 46.7, 'longitude': 9.454, 'capacities': [{'key': 'MONDAY_FORENOON', 'weekday': 'MONDAY', 'type': 'FORENOON'}, {'key': 'MONDAY_AFTERNOON', 'weekday': 'MONDAY', 'type': 'AFTERNOON'}, {'key': 'MONDAY_EVENING', 'weekday': 'MONDAY', 'type': 'EVENING'}, {'key': 'MONDAY_NIGHT', 'weekday': 'MONDAY', 'type': 'NIGHT'}, {'key': 'TUESDAY_FORENOON', 'weekday': 'TUESDAY', 'type': 'FORENOON'}, {'key': 'TUESDAY_EVENING', 'weekday': 'TUESDAY', 'type': 'EVENING'}, {'key': 'TUESDAY_NIGHT', 'weekday': 'TUESDAY', 'type': 'NIGHT'}, {'key': 'WEDNESDAY_FORENOON', 'weekday': 'WEDNESDAY', 'type': 'FORENOON'}, {'key': 'WEDNESDAY_AFTERNOON', 'weekday': 'WEDNESDAY', 'type': 'AFTERNOON'}, {'key': 'WEDNESDAY_EVENING', 'weekday': 'WEDNESDAY', 'type': 'EVENING'}, {'key': 'WEDNESDAY_NIGHT', 'weekday': 'WEDNESDAY', 'type': 'NIGHT'}, {'key': 'THURSDAY_FORENOON', 'weekday': 'THURSDAY', 'type': 'FORENOON'}, {'key': 'THURSDAY_AFTERNOON', 'weekday': 'THURSDAY', 'type': 'AFTERNOON'}, {'key': 'THURSDAY_EVENING', 'weekday': 'THURSDAY', 'type': 'EVENING'}, {'key': 'THURSDAY_NIGHT', 'weekday': 'THURSDAY', 'type': 'NIGHT'}, {'key': 'FRIDAY_FORENOON', 'weekday': 'FRIDAY', 'type': 'FORENOON'}, {'key': 'FRIDAY_EVENING', 'weekday': 'FRIDAY', 'type': 'EVENING'}, {'key': 'FRIDAY_NIGHT', 'weekday': 'FRIDAY', 'type': 'NIGHT'}, {'key': 'SATURDAY_FORENOON', 'weekday': 'SATURDAY', 'type': 'FORENOON'}, {'key': 'SATURDAY_AFTERNOON', 'weekday': 'SATURDAY', 'type': 'AFTERNOON'}, {'key': 'SATURDAY_EVENING', 'weekday': 'SATURDAY', 'type': 'EVENING'}, {'key': 'SATURDAY_NIGHT', 'weekday': 'SATURDAY', 'type': 'NIGHT'}, {'key': 'SUNDAY_FORENOON', 'weekday': 'SUNDAY', 'type': 'FORENOON'}, {'key': 'SUNDAY_AFTERNOON', 'weekday': 'SUNDAY', 'type': 'AFTERNOON'}, {'key': 'SUNDAY_EVENING', 'weekday': 'SUNDAY', 'type': 'EVENING'}, {'key': 'SUNDAY_NIGHT', 'weekday': 'SUNDAY', 'type': 'NIGHT'}]}, {'postcode': 4289, 'latitude': 41.713063, 'longitude': 125.196795, 'capacities': [{'key': 'MONDAY_FORENOON', 'weekday': 'MONDAY', 'type': 'FORENOON'}, {'key': 'MONDAY_AFTERNOON', 'weekday': 'MONDAY', 'type': 'AFTERNOON'}, {'key': 'MONDAY_EVENING', 'weekday': 'MONDAY', 'type': 'EVENING'}, {'key': 'MONDAY_NIGHT', 'weekday': 'MONDAY', 'type': 'NIGHT'}, {'key': 'TUESDAY_FORENOON', 'weekday': 'TUESDAY', 'type': 'FORENOON'}, {'key': 'TUESDAY_AFTERNOON', 'weekday': 'TUESDAY', 'type': 'AFTERNOON'}, {'key': 'TUESDAY_EVENING', 'weekday': 'TUESDAY', 'type': 'EVENING'}, {'key': 'TUESDAY_NIGHT', 'weekday': 'TUESDAY', 'type': 'NIGHT'}, {'key': 'WEDNESDAY_FORENOON', 'weekday': 'WEDNESDAY', 'type': 'FORENOON'}, {'key': 'WEDNESDAY_EVENING', 'weekday': 'WEDNESDAY', 'type': 'EVENING'}, {'key': 'THURSDAY_FORENOON', 'weekday': 'THURSDAY', 'type': 'FORENOON'}, {'key': 'THURSDAY_AFTERNOON', 'weekday': 'THURSDAY', 'type': 'AFTERNOON'}, {'key': 'THURSDAY_EVENING', 'weekday': 'THURSDAY', 'type': 'EVENING'}, {'key': 'FRIDAY_FORENOON', 'weekday': 'FRIDAY', 'type': 'FORENOON'}, {'key': 'FRIDAY_AFTERNOON', 'weekday': 'FRIDAY', 'type': 'AFTERNOON'}, {'key': 'FRIDAY_EVENING', 'weekday': 'FRIDAY', 'type': 'EVENING'}, {'key': 'SATURDAY_FORENOON', 'weekday': 'SATURDAY', 'type': 'FORENOON'}, {'key': 'SATURDAY_AFTERNOON', 'weekday': 'SATURDAY', 'type': 'AFTERNOON'}, {'key': 'SATURDAY_EVENING', 'weekday': 'SATURDAY', 'type': 'EVENING'}, {'key': 'SATURDAY_NIGHT', 'weekday': 'SATURDAY', 'type': 'NIGHT'}, {'key': 'SUNDAY_AFTERNOON', 'weekday': 'SUNDAY', 'type': 'AFTERNOON'}, {'key': 'SUNDAY_EVENING', 'weekday': 'SUNDAY', 'type': 'EVENING'}, {'key': 'SUNDAY_NIGHT', 'weekday': 'SUNDAY', 'type': 'NIGHT'}]}, {'postcode': 9772, 'latitude': -36.910652, 'longitude': 43.285697, 'capacities': [{'key': 'MONDAY_FORENOON', 'weekday': 'MONDAY', 'type': 'FORENOON'}, {'key': 'MONDAY_AFTERNOON', 'weekday': 'MONDAY', 'type': 'AFTERNOON'}, {'key': 'MONDAY_NIGHT', 'weekday': 'MONDAY', 'type': 'NIGHT'}, {'key': 'TUESDAY_EVENING', 'weekday': 'TUESDAY', 'type': 'EVENING'}, {'key': 'WEDNESDAY_AFTERNOON', 'weekday': 'WEDNESDAY', 'type': 'AFTERNOON'}, {'key': 'WEDNESDAY_NIGHT', 'weekday': 'WEDNESDAY', 'type': 'NIGHT'}, {'key': 'FRIDAY_AFTERNOON', 'weekday': 'FRIDAY', 'type': 'AFTERNOON'}, {'key': 'FRIDAY_NIGHT', 'weekday': 'FRIDAY', 'type': 'NIGHT'}, {'key': 'SATURDAY_FORENOON', 'weekday': 'SATURDAY', 'type': 'FORENOON'}, {'key': 'SATURDAY_AFTERNOON', 'weekday': 'SATURDAY', 'type': 'AFTERNOON'}, {'key': 'SATURDAY_EVENING', 'weekday': 'SATURDAY', 'type': 'EVENING'}, {'key': 'SATURDAY_NIGHT', 'weekday': 'SATURDAY', 'type': 'NIGHT'}, {'key': 'SUNDAY_FORENOON', 'weekday': 'SUNDAY', 'type': 'FORENOON'}, {'key': 'SUNDAY_EVENING', 'weekday': 'SUNDAY', 'type': 'EVENING'}]}, {'postcode': 331, 'latitude': -38.421659, 'longitude': -164.665188, 'capacities': [{'key': 'MONDAY_FORENOON', 'weekday': 'MONDAY', 'type': 'FORENOON'}, {'key': 'MONDAY_AFTERNOON', 'weekday': 'MONDAY', 'type': 'AFTERNOON'}, {'key': 'MONDAY_EVENING', 'weekday': 'MONDAY', 'type': 'EVENING'}, {'key': 'TUESDAY_AFTERNOON', 'weekday': 'TUESDAY', 'type': 'AFTERNOON'}, {'key': 'TUESDAY_EVENING', 'weekday': 'TUESDAY', 'type': 'EVENING'}, {'key': 'THURSDAY_AFTERNOON', 'weekday': 'THURSDAY', 'type': 'AFTERNOON'}, {'key': 'THURSDAY_EVENING', 'weekday': 'THURSDAY', 'type': 'EVENING'}, {'key': 'FRIDAY_FORENOON', 'weekday': 'FRIDAY', 'type': 'FORENOON'}, {'key': 'FRIDAY_AFTERNOON', 'weekday': 'FRIDAY', 'type': 'AFTERNOON'}, {'key': 'FRIDAY_EVENING', 'weekday': 'FRIDAY', 'type': 'EVENING'}, {'key': 'FRIDAY_NIGHT', 'weekday': 'FRIDAY', 'type': 'NIGHT'}, {'key': 'SATURDAY_AFTERNOON', 'weekday': 'SATURDAY', 'type': 'AFTERNOON'}, {'key': 'SATURDAY_EVENING', 'weekday': 'SATURDAY', 'type': 'EVENING'}, {'key': 'SUNDAY_FORENOON', 'weekday': 'SUNDAY', 'type': 'FORENOON'}, {'key': 'SUNDAY_NIGHT', 'weekday': 'SUNDAY', 'type': 'NIGHT'}]}, {'postcode': 3378, 'latitude': -70.076298, 'longitude': -85.202063, 'capacities': [{'key': 'MONDAY_FORENOON', 'weekday': 'MONDAY', 'type': 'FORENOON'}, {'key': 'MONDAY_EVENING', 'weekday': 'MONDAY', 'type': 'EVENING'}, {'key': 'MONDAY_NIGHT', 'weekday': 'MONDAY', 'type': 'NIGHT'}, {'key': 'TUESDAY_FORENOON', 'weekday': 'TUESDAY', 'type': 'FORENOON'}, {'key': 'TUESDAY_AFTERNOON', 'weekday': 'TUESDAY', 'type': 'AFTERNOON'}, {'key': 'TUESDAY_EVENING', 'weekday': 'TUESDAY', 'type': 'EVENING'}, {'key': 'TUESDAY_NIGHT', 'weekday': 'TUESDAY', 'type': 'NIGHT'}, {'key': 'WEDNESDAY_FORENOON', 'weekday': 'WEDNESDAY', 'type': 'FORENOON'}, {'key': 'WEDNESDAY_AFTERNOON', 'weekday': 'WEDNESDAY', 'type': 'AFTERNOON'}, {'key': 'WEDNESDAY_EVENING', 'weekday': 'WEDNESDAY', 'type': 'EVENING'}, {'key': 'WEDNESDAY_NIGHT', 'weekday': 'WEDNESDAY', 'type': 'NIGHT'}, {'key': 'THURSDAY_FORENOON', 'weekday': 'THURSDAY', 'type': 'FORENOON'}, {'key': 'THURSDAY_AFTERNOON', 'weekday': 'THURSDAY', 'type': 'AFTERNOON'}, {'key': 'THURSDAY_EVENING', 'weekday': 'THURSDAY', 'type': 'EVENING'}, {'key': 'THURSDAY_NIGHT', 'weekday': 'THURSDAY', 'type': 'NIGHT'}, {'key': 'FRIDAY_FORENOON', 'weekday': 'FRIDAY', 'type': 'FORENOON'}, {'key': 'FRIDAY_AFTERNOON', 'weekday': 'FRIDAY', 'type': 'AFTERNOON'}, {'key': 'FRIDAY_EVENING', 'weekday': 'FRIDAY', 'type': 'EVENING'}, {'key': 'FRIDAY_NIGHT', 'weekday': 'FRIDAY', 'type': 'NIGHT'}, {'key': 'SATURDAY_FORENOON', 'weekday': 'SATURDAY', 'type': 'FORENOON'}, {'key': 'SATURDAY_NIGHT', 'weekday': 'SATURDAY', 'type': 'NIGHT'}, {'key': 'SUNDAY_FORENOON', 'weekday': 'SUNDAY', 'type': 'FORENOON'}, {'key': 'SUNDAY_AFTERNOON', 'weekday': 'SUNDAY', 'type': 'AFTERNOON'}, {'key': 'SUNDAY_NIGHT', 'weekday': 'SUNDAY', 'type': 'NIGHT'}]}, {'postcode': 945, 'latitude': -28.229461, 'longitude': -142.016039, 'capacities': [{'key': 'MONDAY_FORENOON', 'weekday': 'MONDAY', 'type': 'FORENOON'}, {'key': 'MONDAY_AFTERNOON', 'weekday': 'MONDAY', 'type': 'AFTERNOON'}, {'key': 'MONDAY_EVENING', 'weekday': 'MONDAY', 'type': 'EVENING'}, {'key': 'MONDAY_NIGHT', 'weekday': 'MONDAY', 'type': 'NIGHT'}, {'key': 'TUESDAY_FORENOON', 'weekday': 'TUESDAY', 'type': 'FORENOON'}, {'key': 'TUESDAY_EVENING', 'weekday': 'TUESDAY', 'type': 'EVENING'}, {'key': 'TUESDAY_NIGHT', 'weekday': 'TUESDAY', 'type': 'NIGHT'}, {'key': 'WEDNESDAY_FORENOON', 'weekday': 'WEDNESDAY', 'type': 'FORENOON'}, {'key': 'WEDNESDAY_AFTERNOON', 'weekday': 'WEDNESDAY', 'type': 'AFTERNOON'}, {'key': 'WEDNESDAY_EVENING', 'weekday': 'WEDNESDAY', 'type': 'EVENING'}, {'key': 'THURSDAY_FORENOON', 'weekday': 'THURSDAY', 'type': 'FORENOON'}, {'key': 'THURSDAY_AFTERNOON', 'weekday': 'THURSDAY', 'type': 'AFTERNOON'}, {'key': 'THURSDAY_NIGHT', 'weekday': 'THURSDAY', 'type': 'NIGHT'}, {'key': 'FRIDAY_AFTERNOON', 'weekday': 'FRIDAY', 'type': 'AFTERNOON'}, {'key': 'FRIDAY_EVENING', 'weekday': 'FRIDAY', 'type': 'EVENING'}, {'key': 'FRIDAY_NIGHT', 'weekday': 'FRIDAY', 'type': 'NIGHT'}, {'key': 'SATURDAY_FORENOON', 'weekday': 'SATURDAY', 'type': 'FORENOON'}, {'key': 'SATURDAY_AFTERNOON', 'weekday': 'SATURDAY', 'type': 'AFTERNOON'}, {'key': 'SATURDAY_NIGHT', 'weekday': 'SATURDAY', 'type': 'NIGHT'}, {'key': 'SUNDAY_FORENOON', 'weekday': 'SUNDAY', 'type': 'FORENOON'}, {'key': 'SUNDAY_AFTERNOON', 'weekday': 'SUNDAY', 'type': 'AFTERNOON'}, {'key': 'SUNDAY_EVENING', 'weekday': 'SUNDAY', 'type': 'EVENING'}, {'key': 'SUNDAY_NIGHT', 'weekday': 'SUNDAY', 'type': 'NIGHT'}]}, {'postcode': 2908, 'latitude': 47.392, 'longitude': 6.94, 'capacities': [{'key': 'MONDAY_EVENING', 'weekday': 'MONDAY', 'type': 'EVENING'}, {'key': 'MONDAY_NIGHT', 'weekday': 'MONDAY', 'type': 'NIGHT'}, {'key': 'TUESDAY_FORENOON', 'weekday': 'TUESDAY', 'type': 'FORENOON'}, {'key': 'TUESDAY_EVENING', 'weekday': 'TUESDAY', 'type': 'EVENING'}, {'key': 'TUESDAY_NIGHT', 'weekday': 'TUESDAY', 'type': 'NIGHT'}, {'key': 'WEDNESDAY_FORENOON', 'weekday': 'WEDNESDAY', 'type': 'FORENOON'}, {'key': 'WEDNESDAY_EVENING', 'weekday': 'WEDNESDAY', 'type': 'EVENING'}, {'key': 'WEDNESDAY_NIGHT', 'weekday': 'WEDNESDAY', 'type': 'NIGHT'}, {'key': 'THURSDAY_FORENOON', 'weekday': 'THURSDAY', 'type': 'FORENOON'}, {'key': 'THURSDAY_AFTERNOON', 'weekday': 'THURSDAY', 'type': 'AFTERNOON'}, {'key': 'THURSDAY_EVENING', 'weekday': 'THURSDAY', 'type': 'EVENING'}, {'key': 'THURSDAY_NIGHT', 'weekday': 'THURSDAY', 'type': 'NIGHT'}, {'key': 'FRIDAY_FORENOON', 'weekday': 'FRIDAY', 'type': 'FORENOON'}, {'key': 'FRIDAY_AFTERNOON', 'weekday': 'FRIDAY', 'type': 'AFTERNOON'}, {'key': 'FRIDAY_EVENING', 'weekday': 'FRIDAY', 'type': 'EVENING'}, {'key': 'FRIDAY_NIGHT', 'weekday': 'FRIDAY', 'type': 'NIGHT'}, {'key': 'SATURDAY_FORENOON', 'weekday': 'SATURDAY', 'type': 'FORENOON'}, {'key': 'SATURDAY_AFTERNOON', 'weekday': 'SATURDAY', 'type': 'AFTERNOON'}, {'key': 'SATURDAY_NIGHT', 'weekday': 'SATURDAY', 'type': 'NIGHT'}, {'key': 'SUNDAY_FORENOON', 'weekday': 'SUNDAY', 'type': 'FORENOON'}, {'key': 'SUNDAY_AFTERNOON', 'weekday': 'SUNDAY', 'type': 'AFTERNOON'}, {'key': 'SUNDAY_NIGHT', 'weekday': 'SUNDAY', 'type': 'NIGHT'}]}, {'postcode': 8044, 'latitude': 47.38, 'longitude': 8.573, 'capacities': [{'key': 'MONDAY_AFTERNOON', 'weekday': 'MONDAY', 'type': 'AFTERNOON'}, {'key': 'MONDAY_EVENING', 'weekday': 'MONDAY', 'type': 'EVENING'}, {'key': 'TUESDAY_FORENOON', 'weekday': 'TUESDAY', 'type': 'FORENOON'}, {'key': 'WEDNESDAY_FORENOON', 'weekday': 'WEDNESDAY', 'type': 'FORENOON'}, {'key': 'WEDNESDAY_AFTERNOON', 'weekday': 'WEDNESDAY', 'type': 'AFTERNOON'}, {'key': 'WEDNESDAY_EVENING', 'weekday': 'WEDNESDAY', 'type': 'EVENING'}, {'key': 'WEDNESDAY_NIGHT', 'weekday': 'WEDNESDAY', 'type': 'NIGHT'}, {'key': 'THURSDAY_FORENOON', 'weekday': 'THURSDAY', 'type': 'FORENOON'}, {'key': 'THURSDAY_EVENING', 'weekday': 'THURSDAY', 'type': 'EVENING'}, {'key': 'FRIDAY_AFTERNOON', 'weekday': 'FRIDAY', 'type': 'AFTERNOON'}, {'key': 'FRIDAY_EVENING', 'weekday': 'FRIDAY', 'type': 'EVENING'}, {'key': 'FRIDAY_NIGHT', 'weekday': 'FRIDAY', 'type': 'NIGHT'}, {'key': 'SATURDAY_FORENOON', 'weekday': 'SATURDAY', 'type': 'FORENOON'}, {'key': 'SATURDAY_AFTERNOON', 'weekday': 'SATURDAY', 'type': 'AFTERNOON'}, {'key': 'SATURDAY_NIGHT', 'weekday': 'SATURDAY', 'type': 'NIGHT'}, {'key': 'SUNDAY_FORENOON', 'weekday': 'SUNDAY', 'type': 'FORENOON'}, {'key': 'SUNDAY_EVENING', 'weekday': 'SUNDAY', 'type': 'EVENING'}, {'key': 'SUNDAY_NIGHT', 'weekday': 'SUNDAY', 'type': 'NIGHT'}]}, {'postcode': 387, 'latitude': 28.553265, 'longitude': -72.268292, 'capacities': [{'key': 'MONDAY_AFTERNOON', 'weekday': 'MONDAY', 'type': 'AFTERNOON'}, {'key': 'MONDAY_NIGHT', 'weekday': 'MONDAY', 'type': 'NIGHT'}, {'key': 'TUESDAY_FORENOON', 'weekday': 'TUESDAY', 'type': 'FORENOON'}, {'key': 'TUESDAY_AFTERNOON', 'weekday': 'TUESDAY', 'type': 'AFTERNOON'}, {'key': 'WEDNESDAY_AFTERNOON', 'weekday': 'WEDNESDAY', 'type': 'AFTERNOON'}, {'key': 'THURSDAY_EVENING', 'weekday': 'THURSDAY', 'type': 'EVENING'}, {'key': 'FRIDAY_FORENOON', 'weekday': 'FRIDAY', 'type': 'FORENOON'}, {'key': 'FRIDAY_AFTERNOON', 'weekday': 'FRIDAY', 'type': 'AFTERNOON'}, {'key': 'SATURDAY_FORENOON', 'weekday': 'SATURDAY', 'type': 'FORENOON'}, {'key': 'SATURDAY_AFTERNOON', 'weekday': 'SATURDAY', 'type': 'AFTERNOON'}, {'key': 'SUNDAY_FORENOON', 'weekday': 'SUNDAY', 'type': 'FORENOON'}, {'key': 'SUNDAY_AFTERNOON', 'weekday': 'SUNDAY', 'type': 'AFTERNOON'}]}]\n"
     ]
    }
   ],
   "source": [
    "print(indf)"
   ]
  },
  {
   "cell_type": "markdown",
   "metadata": {},
   "source": [
    "## generate map"
   ]
  },
  {
   "cell_type": "markdown",
   "metadata": {},
   "source": [
    "To plot on Mapbox maps with Plotly you may need a Mapbox account and a public Mapbox Access Token. See our Mapbox Map Layers documentation for more information. ??? [https://plotly.com/python/scattermapbox/]\n",
    "\n",
    "fig = px.scatter_mapbox(df, lat=\"centroid_lat\", lon=\"centroid_lon\",     color=\"peak_hour\", size=\"car_hours\",\n",
    "                  color_continuous_scale=px.colors.cyclical.IceFire, size_max=15, zoom=10)\n",
    "\n"
   ]
  },
  {
   "cell_type": "code",
   "execution_count": 103,
   "metadata": {
    "ExecuteTime": {
     "end_time": "2020-04-05T10:19:52.801387Z",
     "start_time": "2020-04-05T10:19:52.378546Z"
    }
   },
   "outputs": [
    {
     "data": {
      "application/vnd.plotly.v1+json": {
       "config": {
        "plotlyServerURL": "https://plot.ly"
       },
       "data": [
        {
         "hoverlabel": {
          "namelength": 0
         },
         "hovertemplate": "<b>%{hovertext}</b><br><br>cou=%{marker.size}<br>lat=%{lat}<br>lon=%{lon}",
         "hovertext": [
          7754,
          1302,
          2068,
          8154,
          7849,
          1018,
          1247,
          5030,
          9763,
          8480,
          7156,
          2005,
          5972,
          2526,
          1393,
          881,
          3815,
          2388,
          2383,
          3810,
          2945,
          1061,
          7659,
          8063,
          776,
          3196,
          764,
          2479
         ],
         "lat": [
          85.094616,
          46.577,
          47.014,
          47.477,
          70.701631,
          46.539,
          46.276,
          11.879975,
          -12.673244,
          -54.534339,
          46.809,
          52.291561,
          -14.54296,
          -87.714189,
          79.983104,
          25.366018,
          46.634,
          89.550834,
          78.961034,
          70.048142,
          18.850525,
          46.647,
          13.313448,
          0,
          -43.100161,
          -82.952168,
          23.029676,
          -81.488463
         ],
         "legendgroup": "",
         "lon": [
          41.236094,
          6.539,
          6.972,
          8.521,
          20.585604,
          6.629,
          6.223,
          14.14383,
          100.532762,
          -35.443489,
          9.117,
          155.434605,
          -84.359244,
          -149.282318,
          95.050325,
          -119.658361,
          7.912,
          135.142923,
          44.341181,
          94.436112,
          -76.632786,
          6.729,
          0.74198,
          0,
          -1.584395,
          173.939064,
          -127.976899,
          110.732916
         ],
         "marker": {
          "color": "fuchsia",
          "size": [
           22,
           4,
           13,
           6,
           20,
           19,
           18,
           12,
           27,
           24,
           14,
           7,
           13,
           24,
           3,
           26,
           3,
           18,
           17,
           10,
           9,
           10,
           12,
           2,
           18,
           20,
           23,
           3
          ],
          "sizemode": "area",
          "sizeref": 0.12
         },
         "mode": "markers",
         "name": "",
         "showlegend": false,
         "subplot": "mapbox",
         "type": "scattermapbox"
        }
       ],
       "layout": {
        "height": 400,
        "legend": {
         "itemsizing": "constant",
         "tracegroupgap": 0
        },
        "mapbox": {
         "center": {
          "lat": 22.00135857142857,
          "lon": 16.072210857142856
         },
         "domain": {
          "x": [
           0,
           1
          ],
          "y": [
           0,
           1
          ]
         },
         "style": "open-street-map",
         "zoom": 2
        },
        "margin": {
         "b": 0,
         "l": 0,
         "r": 0,
         "t": 0
        },
        "template": {
         "data": {
          "bar": [
           {
            "error_x": {
             "color": "#2a3f5f"
            },
            "error_y": {
             "color": "#2a3f5f"
            },
            "marker": {
             "line": {
              "color": "#E5ECF6",
              "width": 0.5
             }
            },
            "type": "bar"
           }
          ],
          "barpolar": [
           {
            "marker": {
             "line": {
              "color": "#E5ECF6",
              "width": 0.5
             }
            },
            "type": "barpolar"
           }
          ],
          "carpet": [
           {
            "aaxis": {
             "endlinecolor": "#2a3f5f",
             "gridcolor": "white",
             "linecolor": "white",
             "minorgridcolor": "white",
             "startlinecolor": "#2a3f5f"
            },
            "baxis": {
             "endlinecolor": "#2a3f5f",
             "gridcolor": "white",
             "linecolor": "white",
             "minorgridcolor": "white",
             "startlinecolor": "#2a3f5f"
            },
            "type": "carpet"
           }
          ],
          "choropleth": [
           {
            "colorbar": {
             "outlinewidth": 0,
             "ticks": ""
            },
            "type": "choropleth"
           }
          ],
          "contour": [
           {
            "colorbar": {
             "outlinewidth": 0,
             "ticks": ""
            },
            "colorscale": [
             [
              0,
              "#0d0887"
             ],
             [
              0.1111111111111111,
              "#46039f"
             ],
             [
              0.2222222222222222,
              "#7201a8"
             ],
             [
              0.3333333333333333,
              "#9c179e"
             ],
             [
              0.4444444444444444,
              "#bd3786"
             ],
             [
              0.5555555555555556,
              "#d8576b"
             ],
             [
              0.6666666666666666,
              "#ed7953"
             ],
             [
              0.7777777777777778,
              "#fb9f3a"
             ],
             [
              0.8888888888888888,
              "#fdca26"
             ],
             [
              1,
              "#f0f921"
             ]
            ],
            "type": "contour"
           }
          ],
          "contourcarpet": [
           {
            "colorbar": {
             "outlinewidth": 0,
             "ticks": ""
            },
            "type": "contourcarpet"
           }
          ],
          "heatmap": [
           {
            "colorbar": {
             "outlinewidth": 0,
             "ticks": ""
            },
            "colorscale": [
             [
              0,
              "#0d0887"
             ],
             [
              0.1111111111111111,
              "#46039f"
             ],
             [
              0.2222222222222222,
              "#7201a8"
             ],
             [
              0.3333333333333333,
              "#9c179e"
             ],
             [
              0.4444444444444444,
              "#bd3786"
             ],
             [
              0.5555555555555556,
              "#d8576b"
             ],
             [
              0.6666666666666666,
              "#ed7953"
             ],
             [
              0.7777777777777778,
              "#fb9f3a"
             ],
             [
              0.8888888888888888,
              "#fdca26"
             ],
             [
              1,
              "#f0f921"
             ]
            ],
            "type": "heatmap"
           }
          ],
          "heatmapgl": [
           {
            "colorbar": {
             "outlinewidth": 0,
             "ticks": ""
            },
            "colorscale": [
             [
              0,
              "#0d0887"
             ],
             [
              0.1111111111111111,
              "#46039f"
             ],
             [
              0.2222222222222222,
              "#7201a8"
             ],
             [
              0.3333333333333333,
              "#9c179e"
             ],
             [
              0.4444444444444444,
              "#bd3786"
             ],
             [
              0.5555555555555556,
              "#d8576b"
             ],
             [
              0.6666666666666666,
              "#ed7953"
             ],
             [
              0.7777777777777778,
              "#fb9f3a"
             ],
             [
              0.8888888888888888,
              "#fdca26"
             ],
             [
              1,
              "#f0f921"
             ]
            ],
            "type": "heatmapgl"
           }
          ],
          "histogram": [
           {
            "marker": {
             "colorbar": {
              "outlinewidth": 0,
              "ticks": ""
             }
            },
            "type": "histogram"
           }
          ],
          "histogram2d": [
           {
            "colorbar": {
             "outlinewidth": 0,
             "ticks": ""
            },
            "colorscale": [
             [
              0,
              "#0d0887"
             ],
             [
              0.1111111111111111,
              "#46039f"
             ],
             [
              0.2222222222222222,
              "#7201a8"
             ],
             [
              0.3333333333333333,
              "#9c179e"
             ],
             [
              0.4444444444444444,
              "#bd3786"
             ],
             [
              0.5555555555555556,
              "#d8576b"
             ],
             [
              0.6666666666666666,
              "#ed7953"
             ],
             [
              0.7777777777777778,
              "#fb9f3a"
             ],
             [
              0.8888888888888888,
              "#fdca26"
             ],
             [
              1,
              "#f0f921"
             ]
            ],
            "type": "histogram2d"
           }
          ],
          "histogram2dcontour": [
           {
            "colorbar": {
             "outlinewidth": 0,
             "ticks": ""
            },
            "colorscale": [
             [
              0,
              "#0d0887"
             ],
             [
              0.1111111111111111,
              "#46039f"
             ],
             [
              0.2222222222222222,
              "#7201a8"
             ],
             [
              0.3333333333333333,
              "#9c179e"
             ],
             [
              0.4444444444444444,
              "#bd3786"
             ],
             [
              0.5555555555555556,
              "#d8576b"
             ],
             [
              0.6666666666666666,
              "#ed7953"
             ],
             [
              0.7777777777777778,
              "#fb9f3a"
             ],
             [
              0.8888888888888888,
              "#fdca26"
             ],
             [
              1,
              "#f0f921"
             ]
            ],
            "type": "histogram2dcontour"
           }
          ],
          "mesh3d": [
           {
            "colorbar": {
             "outlinewidth": 0,
             "ticks": ""
            },
            "type": "mesh3d"
           }
          ],
          "parcoords": [
           {
            "line": {
             "colorbar": {
              "outlinewidth": 0,
              "ticks": ""
             }
            },
            "type": "parcoords"
           }
          ],
          "pie": [
           {
            "automargin": true,
            "type": "pie"
           }
          ],
          "scatter": [
           {
            "marker": {
             "colorbar": {
              "outlinewidth": 0,
              "ticks": ""
             }
            },
            "type": "scatter"
           }
          ],
          "scatter3d": [
           {
            "line": {
             "colorbar": {
              "outlinewidth": 0,
              "ticks": ""
             }
            },
            "marker": {
             "colorbar": {
              "outlinewidth": 0,
              "ticks": ""
             }
            },
            "type": "scatter3d"
           }
          ],
          "scattercarpet": [
           {
            "marker": {
             "colorbar": {
              "outlinewidth": 0,
              "ticks": ""
             }
            },
            "type": "scattercarpet"
           }
          ],
          "scattergeo": [
           {
            "marker": {
             "colorbar": {
              "outlinewidth": 0,
              "ticks": ""
             }
            },
            "type": "scattergeo"
           }
          ],
          "scattergl": [
           {
            "marker": {
             "colorbar": {
              "outlinewidth": 0,
              "ticks": ""
             }
            },
            "type": "scattergl"
           }
          ],
          "scattermapbox": [
           {
            "marker": {
             "colorbar": {
              "outlinewidth": 0,
              "ticks": ""
             }
            },
            "type": "scattermapbox"
           }
          ],
          "scatterpolar": [
           {
            "marker": {
             "colorbar": {
              "outlinewidth": 0,
              "ticks": ""
             }
            },
            "type": "scatterpolar"
           }
          ],
          "scatterpolargl": [
           {
            "marker": {
             "colorbar": {
              "outlinewidth": 0,
              "ticks": ""
             }
            },
            "type": "scatterpolargl"
           }
          ],
          "scatterternary": [
           {
            "marker": {
             "colorbar": {
              "outlinewidth": 0,
              "ticks": ""
             }
            },
            "type": "scatterternary"
           }
          ],
          "surface": [
           {
            "colorbar": {
             "outlinewidth": 0,
             "ticks": ""
            },
            "colorscale": [
             [
              0,
              "#0d0887"
             ],
             [
              0.1111111111111111,
              "#46039f"
             ],
             [
              0.2222222222222222,
              "#7201a8"
             ],
             [
              0.3333333333333333,
              "#9c179e"
             ],
             [
              0.4444444444444444,
              "#bd3786"
             ],
             [
              0.5555555555555556,
              "#d8576b"
             ],
             [
              0.6666666666666666,
              "#ed7953"
             ],
             [
              0.7777777777777778,
              "#fb9f3a"
             ],
             [
              0.8888888888888888,
              "#fdca26"
             ],
             [
              1,
              "#f0f921"
             ]
            ],
            "type": "surface"
           }
          ],
          "table": [
           {
            "cells": {
             "fill": {
              "color": "#EBF0F8"
             },
             "line": {
              "color": "white"
             }
            },
            "header": {
             "fill": {
              "color": "#C8D4E3"
             },
             "line": {
              "color": "white"
             }
            },
            "type": "table"
           }
          ]
         },
         "layout": {
          "annotationdefaults": {
           "arrowcolor": "#2a3f5f",
           "arrowhead": 0,
           "arrowwidth": 1
          },
          "coloraxis": {
           "colorbar": {
            "outlinewidth": 0,
            "ticks": ""
           }
          },
          "colorscale": {
           "diverging": [
            [
             0,
             "#8e0152"
            ],
            [
             0.1,
             "#c51b7d"
            ],
            [
             0.2,
             "#de77ae"
            ],
            [
             0.3,
             "#f1b6da"
            ],
            [
             0.4,
             "#fde0ef"
            ],
            [
             0.5,
             "#f7f7f7"
            ],
            [
             0.6,
             "#e6f5d0"
            ],
            [
             0.7,
             "#b8e186"
            ],
            [
             0.8,
             "#7fbc41"
            ],
            [
             0.9,
             "#4d9221"
            ],
            [
             1,
             "#276419"
            ]
           ],
           "sequential": [
            [
             0,
             "#0d0887"
            ],
            [
             0.1111111111111111,
             "#46039f"
            ],
            [
             0.2222222222222222,
             "#7201a8"
            ],
            [
             0.3333333333333333,
             "#9c179e"
            ],
            [
             0.4444444444444444,
             "#bd3786"
            ],
            [
             0.5555555555555556,
             "#d8576b"
            ],
            [
             0.6666666666666666,
             "#ed7953"
            ],
            [
             0.7777777777777778,
             "#fb9f3a"
            ],
            [
             0.8888888888888888,
             "#fdca26"
            ],
            [
             1,
             "#f0f921"
            ]
           ],
           "sequentialminus": [
            [
             0,
             "#0d0887"
            ],
            [
             0.1111111111111111,
             "#46039f"
            ],
            [
             0.2222222222222222,
             "#7201a8"
            ],
            [
             0.3333333333333333,
             "#9c179e"
            ],
            [
             0.4444444444444444,
             "#bd3786"
            ],
            [
             0.5555555555555556,
             "#d8576b"
            ],
            [
             0.6666666666666666,
             "#ed7953"
            ],
            [
             0.7777777777777778,
             "#fb9f3a"
            ],
            [
             0.8888888888888888,
             "#fdca26"
            ],
            [
             1,
             "#f0f921"
            ]
           ]
          },
          "colorway": [
           "#636efa",
           "#EF553B",
           "#00cc96",
           "#ab63fa",
           "#FFA15A",
           "#19d3f3",
           "#FF6692",
           "#B6E880",
           "#FF97FF",
           "#FECB52"
          ],
          "font": {
           "color": "#2a3f5f"
          },
          "geo": {
           "bgcolor": "white",
           "lakecolor": "white",
           "landcolor": "#E5ECF6",
           "showlakes": true,
           "showland": true,
           "subunitcolor": "white"
          },
          "hoverlabel": {
           "align": "left"
          },
          "hovermode": "closest",
          "mapbox": {
           "style": "light"
          },
          "paper_bgcolor": "white",
          "plot_bgcolor": "#E5ECF6",
          "polar": {
           "angularaxis": {
            "gridcolor": "white",
            "linecolor": "white",
            "ticks": ""
           },
           "bgcolor": "#E5ECF6",
           "radialaxis": {
            "gridcolor": "white",
            "linecolor": "white",
            "ticks": ""
           }
          },
          "scene": {
           "xaxis": {
            "backgroundcolor": "#E5ECF6",
            "gridcolor": "white",
            "gridwidth": 2,
            "linecolor": "white",
            "showbackground": true,
            "ticks": "",
            "zerolinecolor": "white"
           },
           "yaxis": {
            "backgroundcolor": "#E5ECF6",
            "gridcolor": "white",
            "gridwidth": 2,
            "linecolor": "white",
            "showbackground": true,
            "ticks": "",
            "zerolinecolor": "white"
           },
           "zaxis": {
            "backgroundcolor": "#E5ECF6",
            "gridcolor": "white",
            "gridwidth": 2,
            "linecolor": "white",
            "showbackground": true,
            "ticks": "",
            "zerolinecolor": "white"
           }
          },
          "shapedefaults": {
           "line": {
            "color": "#2a3f5f"
           }
          },
          "ternary": {
           "aaxis": {
            "gridcolor": "white",
            "linecolor": "white",
            "ticks": ""
           },
           "baxis": {
            "gridcolor": "white",
            "linecolor": "white",
            "ticks": ""
           },
           "bgcolor": "#E5ECF6",
           "caxis": {
            "gridcolor": "white",
            "linecolor": "white",
            "ticks": ""
           }
          },
          "title": {
           "x": 0.05
          },
          "xaxis": {
           "automargin": true,
           "gridcolor": "white",
           "linecolor": "white",
           "ticks": "",
           "title": {
            "standoff": 15
           },
           "zerolinecolor": "white",
           "zerolinewidth": 2
          },
          "yaxis": {
           "automargin": true,
           "gridcolor": "white",
           "linecolor": "white",
           "ticks": "",
           "title": {
            "standoff": 15
           },
           "zerolinecolor": "white",
           "zerolinewidth": 2
          }
         }
        }
       }
      },
      "text/html": [
       "<div>\n",
       "        \n",
       "        \n",
       "            <div id=\"0c64e7a5-81a7-4fd3-9e3a-f913b33e2745\" class=\"plotly-graph-div\" style=\"height:400px; width:100%;\"></div>\n",
       "            <script type=\"text/javascript\">\n",
       "                require([\"plotly\"], function(Plotly) {\n",
       "                    window.PLOTLYENV=window.PLOTLYENV || {};\n",
       "                    \n",
       "                if (document.getElementById(\"0c64e7a5-81a7-4fd3-9e3a-f913b33e2745\")) {\n",
       "                    Plotly.newPlot(\n",
       "                        '0c64e7a5-81a7-4fd3-9e3a-f913b33e2745',\n",
       "                        [{\"hoverlabel\": {\"namelength\": 0}, \"hovertemplate\": \"<b>%{hovertext}</b><br><br>cou=%{marker.size}<br>lat=%{lat}<br>lon=%{lon}\", \"hovertext\": [7754.0, 1302.0, 2068.0, 8154.0, 7849.0, 1018.0, 1247.0, 5030.0, 9763.0, 8480.0, 7156.0, 2005.0, 5972.0, 2526.0, 1393.0, 881.0, 3815.0, 2388.0, 2383.0, 3810.0, 2945.0, 1061.0, 7659.0, 8063.0, 776.0, 3196.0, 764.0, 2479.0], \"lat\": [85.094616, 46.577, 47.014, 47.477, 70.701631, 46.539, 46.276, 11.879975, -12.673244, -54.534339, 46.809, 52.291561, -14.54296, -87.714189, 79.983104, 25.366018, 46.634, 89.550834, 78.961034, 70.048142, 18.850525, 46.647, 13.313448, 0.0, -43.100161, -82.952168, 23.029676, -81.488463], \"legendgroup\": \"\", \"lon\": [41.236094, 6.539, 6.972, 8.521, 20.585604, 6.629, 6.223, 14.14383, 100.532762, -35.443489, 9.117, 155.434605, -84.359244, -149.282318, 95.050325, -119.658361, 7.912, 135.142923, 44.341181, 94.436112, -76.632786, 6.729, 0.74198, 0.0, -1.584395, 173.939064, -127.976899, 110.732916], \"marker\": {\"color\": \"fuchsia\", \"size\": [22, 4, 13, 6, 20, 19, 18, 12, 27, 24, 14, 7, 13, 24, 3, 26, 3, 18, 17, 10, 9, 10, 12, 2, 18, 20, 23, 3], \"sizemode\": \"area\", \"sizeref\": 0.12}, \"mode\": \"markers\", \"name\": \"\", \"showlegend\": false, \"subplot\": \"mapbox\", \"type\": \"scattermapbox\"}],\n",
       "                        {\"height\": 400, \"legend\": {\"itemsizing\": \"constant\", \"tracegroupgap\": 0}, \"mapbox\": {\"center\": {\"lat\": 22.00135857142857, \"lon\": 16.072210857142856}, \"domain\": {\"x\": [0.0, 1.0], \"y\": [0.0, 1.0]}, \"style\": \"open-street-map\", \"zoom\": 2}, \"margin\": {\"b\": 0, \"l\": 0, \"r\": 0, \"t\": 0}, \"template\": {\"data\": {\"bar\": [{\"error_x\": {\"color\": \"#2a3f5f\"}, \"error_y\": {\"color\": \"#2a3f5f\"}, \"marker\": {\"line\": {\"color\": \"#E5ECF6\", \"width\": 0.5}}, \"type\": \"bar\"}], \"barpolar\": [{\"marker\": {\"line\": {\"color\": \"#E5ECF6\", \"width\": 0.5}}, \"type\": \"barpolar\"}], \"carpet\": [{\"aaxis\": {\"endlinecolor\": \"#2a3f5f\", \"gridcolor\": \"white\", \"linecolor\": \"white\", \"minorgridcolor\": \"white\", \"startlinecolor\": \"#2a3f5f\"}, \"baxis\": {\"endlinecolor\": \"#2a3f5f\", \"gridcolor\": \"white\", \"linecolor\": \"white\", \"minorgridcolor\": \"white\", \"startlinecolor\": \"#2a3f5f\"}, \"type\": \"carpet\"}], \"choropleth\": [{\"colorbar\": {\"outlinewidth\": 0, \"ticks\": \"\"}, \"type\": \"choropleth\"}], \"contour\": [{\"colorbar\": {\"outlinewidth\": 0, \"ticks\": \"\"}, \"colorscale\": [[0.0, \"#0d0887\"], [0.1111111111111111, \"#46039f\"], [0.2222222222222222, \"#7201a8\"], [0.3333333333333333, \"#9c179e\"], [0.4444444444444444, \"#bd3786\"], [0.5555555555555556, \"#d8576b\"], [0.6666666666666666, \"#ed7953\"], [0.7777777777777778, \"#fb9f3a\"], [0.8888888888888888, \"#fdca26\"], [1.0, \"#f0f921\"]], \"type\": \"contour\"}], \"contourcarpet\": [{\"colorbar\": {\"outlinewidth\": 0, \"ticks\": \"\"}, \"type\": \"contourcarpet\"}], \"heatmap\": [{\"colorbar\": {\"outlinewidth\": 0, \"ticks\": \"\"}, \"colorscale\": [[0.0, \"#0d0887\"], [0.1111111111111111, \"#46039f\"], [0.2222222222222222, \"#7201a8\"], [0.3333333333333333, \"#9c179e\"], [0.4444444444444444, \"#bd3786\"], [0.5555555555555556, \"#d8576b\"], [0.6666666666666666, \"#ed7953\"], [0.7777777777777778, \"#fb9f3a\"], [0.8888888888888888, \"#fdca26\"], [1.0, \"#f0f921\"]], \"type\": \"heatmap\"}], \"heatmapgl\": [{\"colorbar\": {\"outlinewidth\": 0, \"ticks\": \"\"}, \"colorscale\": [[0.0, \"#0d0887\"], [0.1111111111111111, \"#46039f\"], [0.2222222222222222, \"#7201a8\"], [0.3333333333333333, \"#9c179e\"], [0.4444444444444444, \"#bd3786\"], [0.5555555555555556, \"#d8576b\"], [0.6666666666666666, \"#ed7953\"], [0.7777777777777778, \"#fb9f3a\"], [0.8888888888888888, \"#fdca26\"], [1.0, \"#f0f921\"]], \"type\": \"heatmapgl\"}], \"histogram\": [{\"marker\": {\"colorbar\": {\"outlinewidth\": 0, \"ticks\": \"\"}}, \"type\": \"histogram\"}], \"histogram2d\": [{\"colorbar\": {\"outlinewidth\": 0, \"ticks\": \"\"}, \"colorscale\": [[0.0, \"#0d0887\"], [0.1111111111111111, \"#46039f\"], [0.2222222222222222, \"#7201a8\"], [0.3333333333333333, \"#9c179e\"], [0.4444444444444444, \"#bd3786\"], [0.5555555555555556, \"#d8576b\"], [0.6666666666666666, \"#ed7953\"], [0.7777777777777778, \"#fb9f3a\"], [0.8888888888888888, \"#fdca26\"], [1.0, \"#f0f921\"]], \"type\": \"histogram2d\"}], \"histogram2dcontour\": [{\"colorbar\": {\"outlinewidth\": 0, \"ticks\": \"\"}, \"colorscale\": [[0.0, \"#0d0887\"], [0.1111111111111111, \"#46039f\"], [0.2222222222222222, \"#7201a8\"], [0.3333333333333333, \"#9c179e\"], [0.4444444444444444, \"#bd3786\"], [0.5555555555555556, \"#d8576b\"], [0.6666666666666666, \"#ed7953\"], [0.7777777777777778, \"#fb9f3a\"], [0.8888888888888888, \"#fdca26\"], [1.0, \"#f0f921\"]], \"type\": \"histogram2dcontour\"}], \"mesh3d\": [{\"colorbar\": {\"outlinewidth\": 0, \"ticks\": \"\"}, \"type\": \"mesh3d\"}], \"parcoords\": [{\"line\": {\"colorbar\": {\"outlinewidth\": 0, \"ticks\": \"\"}}, \"type\": \"parcoords\"}], \"pie\": [{\"automargin\": true, \"type\": \"pie\"}], \"scatter\": [{\"marker\": {\"colorbar\": {\"outlinewidth\": 0, \"ticks\": \"\"}}, \"type\": \"scatter\"}], \"scatter3d\": [{\"line\": {\"colorbar\": {\"outlinewidth\": 0, \"ticks\": \"\"}}, \"marker\": {\"colorbar\": {\"outlinewidth\": 0, \"ticks\": \"\"}}, \"type\": \"scatter3d\"}], \"scattercarpet\": [{\"marker\": {\"colorbar\": {\"outlinewidth\": 0, \"ticks\": \"\"}}, \"type\": \"scattercarpet\"}], \"scattergeo\": [{\"marker\": {\"colorbar\": {\"outlinewidth\": 0, \"ticks\": \"\"}}, \"type\": \"scattergeo\"}], \"scattergl\": [{\"marker\": {\"colorbar\": {\"outlinewidth\": 0, \"ticks\": \"\"}}, \"type\": \"scattergl\"}], \"scattermapbox\": [{\"marker\": {\"colorbar\": {\"outlinewidth\": 0, \"ticks\": \"\"}}, \"type\": \"scattermapbox\"}], \"scatterpolar\": [{\"marker\": {\"colorbar\": {\"outlinewidth\": 0, \"ticks\": \"\"}}, \"type\": \"scatterpolar\"}], \"scatterpolargl\": [{\"marker\": {\"colorbar\": {\"outlinewidth\": 0, \"ticks\": \"\"}}, \"type\": \"scatterpolargl\"}], \"scatterternary\": [{\"marker\": {\"colorbar\": {\"outlinewidth\": 0, \"ticks\": \"\"}}, \"type\": \"scatterternary\"}], \"surface\": [{\"colorbar\": {\"outlinewidth\": 0, \"ticks\": \"\"}, \"colorscale\": [[0.0, \"#0d0887\"], [0.1111111111111111, \"#46039f\"], [0.2222222222222222, \"#7201a8\"], [0.3333333333333333, \"#9c179e\"], [0.4444444444444444, \"#bd3786\"], [0.5555555555555556, \"#d8576b\"], [0.6666666666666666, \"#ed7953\"], [0.7777777777777778, \"#fb9f3a\"], [0.8888888888888888, \"#fdca26\"], [1.0, \"#f0f921\"]], \"type\": \"surface\"}], \"table\": [{\"cells\": {\"fill\": {\"color\": \"#EBF0F8\"}, \"line\": {\"color\": \"white\"}}, \"header\": {\"fill\": {\"color\": \"#C8D4E3\"}, \"line\": {\"color\": \"white\"}}, \"type\": \"table\"}]}, \"layout\": {\"annotationdefaults\": {\"arrowcolor\": \"#2a3f5f\", \"arrowhead\": 0, \"arrowwidth\": 1}, \"coloraxis\": {\"colorbar\": {\"outlinewidth\": 0, \"ticks\": \"\"}}, \"colorscale\": {\"diverging\": [[0, \"#8e0152\"], [0.1, \"#c51b7d\"], [0.2, \"#de77ae\"], [0.3, \"#f1b6da\"], [0.4, \"#fde0ef\"], [0.5, \"#f7f7f7\"], [0.6, \"#e6f5d0\"], [0.7, \"#b8e186\"], [0.8, \"#7fbc41\"], [0.9, \"#4d9221\"], [1, \"#276419\"]], \"sequential\": [[0.0, \"#0d0887\"], [0.1111111111111111, \"#46039f\"], [0.2222222222222222, \"#7201a8\"], [0.3333333333333333, \"#9c179e\"], [0.4444444444444444, \"#bd3786\"], [0.5555555555555556, \"#d8576b\"], [0.6666666666666666, \"#ed7953\"], [0.7777777777777778, \"#fb9f3a\"], [0.8888888888888888, \"#fdca26\"], [1.0, \"#f0f921\"]], \"sequentialminus\": [[0.0, \"#0d0887\"], [0.1111111111111111, \"#46039f\"], [0.2222222222222222, \"#7201a8\"], [0.3333333333333333, \"#9c179e\"], [0.4444444444444444, \"#bd3786\"], [0.5555555555555556, \"#d8576b\"], [0.6666666666666666, \"#ed7953\"], [0.7777777777777778, \"#fb9f3a\"], [0.8888888888888888, \"#fdca26\"], [1.0, \"#f0f921\"]]}, \"colorway\": [\"#636efa\", \"#EF553B\", \"#00cc96\", \"#ab63fa\", \"#FFA15A\", \"#19d3f3\", \"#FF6692\", \"#B6E880\", \"#FF97FF\", \"#FECB52\"], \"font\": {\"color\": \"#2a3f5f\"}, \"geo\": {\"bgcolor\": \"white\", \"lakecolor\": \"white\", \"landcolor\": \"#E5ECF6\", \"showlakes\": true, \"showland\": true, \"subunitcolor\": \"white\"}, \"hoverlabel\": {\"align\": \"left\"}, \"hovermode\": \"closest\", \"mapbox\": {\"style\": \"light\"}, \"paper_bgcolor\": \"white\", \"plot_bgcolor\": \"#E5ECF6\", \"polar\": {\"angularaxis\": {\"gridcolor\": \"white\", \"linecolor\": \"white\", \"ticks\": \"\"}, \"bgcolor\": \"#E5ECF6\", \"radialaxis\": {\"gridcolor\": \"white\", \"linecolor\": \"white\", \"ticks\": \"\"}}, \"scene\": {\"xaxis\": {\"backgroundcolor\": \"#E5ECF6\", \"gridcolor\": \"white\", \"gridwidth\": 2, \"linecolor\": \"white\", \"showbackground\": true, \"ticks\": \"\", \"zerolinecolor\": \"white\"}, \"yaxis\": {\"backgroundcolor\": \"#E5ECF6\", \"gridcolor\": \"white\", \"gridwidth\": 2, \"linecolor\": \"white\", \"showbackground\": true, \"ticks\": \"\", \"zerolinecolor\": \"white\"}, \"zaxis\": {\"backgroundcolor\": \"#E5ECF6\", \"gridcolor\": \"white\", \"gridwidth\": 2, \"linecolor\": \"white\", \"showbackground\": true, \"ticks\": \"\", \"zerolinecolor\": \"white\"}}, \"shapedefaults\": {\"line\": {\"color\": \"#2a3f5f\"}}, \"ternary\": {\"aaxis\": {\"gridcolor\": \"white\", \"linecolor\": \"white\", \"ticks\": \"\"}, \"baxis\": {\"gridcolor\": \"white\", \"linecolor\": \"white\", \"ticks\": \"\"}, \"bgcolor\": \"#E5ECF6\", \"caxis\": {\"gridcolor\": \"white\", \"linecolor\": \"white\", \"ticks\": \"\"}}, \"title\": {\"x\": 0.05}, \"xaxis\": {\"automargin\": true, \"gridcolor\": \"white\", \"linecolor\": \"white\", \"ticks\": \"\", \"title\": {\"standoff\": 15}, \"zerolinecolor\": \"white\", \"zerolinewidth\": 2}, \"yaxis\": {\"automargin\": true, \"gridcolor\": \"white\", \"linecolor\": \"white\", \"ticks\": \"\", \"title\": {\"standoff\": 15}, \"zerolinecolor\": \"white\", \"zerolinewidth\": 2}}}},\n",
       "                        {\"responsive\": true}\n",
       "                    ).then(function(){\n",
       "                            \n",
       "var gd = document.getElementById('0c64e7a5-81a7-4fd3-9e3a-f913b33e2745');\n",
       "var x = new MutationObserver(function (mutations, observer) {{\n",
       "        var display = window.getComputedStyle(gd).display;\n",
       "        if (!display || display === 'none') {{\n",
       "            console.log([gd, 'removed!']);\n",
       "            Plotly.purge(gd);\n",
       "            observer.disconnect();\n",
       "        }}\n",
       "}});\n",
       "\n",
       "// Listen for the removal of the full notebook cells\n",
       "var notebookContainer = gd.closest('#notebook-container');\n",
       "if (notebookContainer) {{\n",
       "    x.observe(notebookContainer, {childList: true});\n",
       "}}\n",
       "\n",
       "// Listen for the clearing of the current output cell\n",
       "var outputEl = gd.closest('.output');\n",
       "if (outputEl) {{\n",
       "    x.observe(outputEl, {childList: true});\n",
       "}}\n",
       "\n",
       "                        })\n",
       "                };\n",
       "                });\n",
       "            </script>\n",
       "        </div>"
      ]
     },
     "metadata": {},
     "output_type": "display_data"
    }
   ],
   "source": [
    "import plotly.express as px\n",
    "\n",
    "# template: https://plotly.com/python/mapbox-layers/\n",
    "#us_cities = pd.read_csv(\"https://raw.githubusercontent.com/plotly/datasets/master/us-cities-top-1k.csv\")\n",
    "\n",
    "\n",
    "#fig = px.scatter_mapbox(us_cities, lat=\"lat\", lon=\"lon\", hover_name=\"City\", hover_data=[\"State\", \"Population\"],\n",
    "#                        color_discrete_sequence=[\"fuchsia\"], zoom=3, height=300)\n",
    "fig = px.scatter_mapbox(df, lat=\"lat\", lon=\"lon\", hover_name=\"PLZ\",\n",
    "#                        color_discrete_sequence=[\"fuchsia\"], zoom=2, height=400,\n",
    "#                        color=\"PLZ\", \n",
    "                        color_discrete_sequence=[\"fuchsia\"],\n",
    "                        size=\"cou\",\n",
    "                        color_continuous_scale=px.colors.cyclical.IceFire, size_max=15, zoom=2, height=400\n",
    "                       )\n",
    "                       \n",
    "                        \n",
    "fig.update_layout(mapbox_style=\"open-street-map\")\n",
    "fig.update_layout(margin={\"r\":0,\"t\":0,\"l\":0,\"b\":0})\n",
    "fig.show()\n"
   ]
  },
  {
   "cell_type": "code",
   "execution_count": null,
   "metadata": {
    "ExecuteTime": {
     "end_time": "2020-04-04T18:21:35.673067Z",
     "start_time": "2020-04-04T18:21:35.660553Z"
    },
    "scrolled": true
   },
   "outputs": [],
   "source": [
    "print(us_cities[\"lat\"])"
   ]
  },
  {
   "cell_type": "code",
   "execution_count": null,
   "metadata": {
    "ExecuteTime": {
     "end_time": "2020-04-04T18:22:35.222878Z",
     "start_time": "2020-04-04T18:22:35.211454Z"
    }
   },
   "outputs": [],
   "source": [
    "print(df[\"latitude\"])"
   ]
  },
  {
   "cell_type": "code",
   "execution_count": 1,
   "metadata": {
    "ExecuteTime": {
     "end_time": "2020-04-04T19:47:11.328502Z",
     "start_time": "2020-04-04T19:47:08.552201Z"
    }
   },
   "outputs": [
    {
     "name": "stdout",
     "output_type": "stream",
     "text": [
      "pip 19.3.1 from /opt/conda/lib/python3.6/site-packages/pip (python 3.6)\n",
      "pip 19.3.1 from /opt/conda/lib/python3.6/site-packages/pip (python 3.6)\n",
      "Python 3.6.9 :: Anaconda, Inc.\n"
     ]
    }
   ],
   "source": [
    "!pip -V\n",
    "!pip3 -V\n",
    "!python -V"
   ]
  },
  {
   "cell_type": "code",
   "execution_count": null,
   "metadata": {},
   "outputs": [],
   "source": []
  },
  {
   "cell_type": "code",
   "execution_count": null,
   "metadata": {
    "ExecuteTime": {
     "start_time": "2020-04-03T19:10:44.296Z"
    }
   },
   "outputs": [],
   "source": [
    "import matplotlib.pyplot as plt\n",
    "import cartopy.crs as ccrs\n",
    "\n",
    "fig = plt.figure(figsize=(15, 10))\n",
    "ax = fig.add_subplot(1, 1, 1, projection=ccrs.PlateCarree())\n",
    "\n",
    "    # make the map global rather than have it zoom in to\n",
    "    # the extents of any plotted data\n",
    "\n",
    "ax.set_extent((60, 150, 55, -25))\n",
    "\n",
    "ax.stock_img()\n",
    "ax.coastlines()\n",
    "\n",
    "ax.tissot(facecolor='purple', alpha=0.8)\n",
    "\n",
    "plt.show()"
   ]
  }
 ],
 "metadata": {
  "kernelspec": {
   "display_name": "Python 3",
   "language": "python",
   "name": "python3"
  },
  "language_info": {
   "codemirror_mode": {
    "name": "ipython",
    "version": 3
   },
   "file_extension": ".py",
   "mimetype": "text/x-python",
   "name": "python",
   "nbconvert_exporter": "python",
   "pygments_lexer": "ipython3",
   "version": "3.6.9"
  },
  "toc": {
   "base_numbering": 1,
   "nav_menu": {},
   "number_sections": true,
   "sideBar": true,
   "skip_h1_title": false,
   "title_cell": "Table of Contents",
   "title_sidebar": "Contents",
   "toc_cell": false,
   "toc_position": {},
   "toc_section_display": true,
   "toc_window_display": false
  },
  "varInspector": {
   "cols": {
    "lenName": 16,
    "lenType": 16,
    "lenVar": 40
   },
   "kernels_config": {
    "python": {
     "delete_cmd_postfix": "",
     "delete_cmd_prefix": "del ",
     "library": "var_list.py",
     "varRefreshCmd": "print(var_dic_list())"
    },
    "r": {
     "delete_cmd_postfix": ") ",
     "delete_cmd_prefix": "rm(",
     "library": "var_list.r",
     "varRefreshCmd": "cat(var_dic_list()) "
    }
   },
   "types_to_exclude": [
    "module",
    "function",
    "builtin_function_or_method",
    "instance",
    "_Feature"
   ],
   "window_display": false
  }
 },
 "nbformat": 4,
 "nbformat_minor": 2
}
