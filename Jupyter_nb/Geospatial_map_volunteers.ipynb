{
 "cells": [
  {
   "cell_type": "markdown",
   "metadata": {},
   "source": [
    "# AIM: Visualize reported availability of volunteers on greographical map"
   ]
  },
  {
   "cell_type": "markdown",
   "metadata": {},
   "source": [
    "Background:\n",
    "- In crisis situation, organizations might require rapid and non-bureaucratic low-level support. This code aims at generating a geographical map with the available volunteers overlayed\n",
    "\n",
    "\n",
    "Requirements:\n",
    "- retrieve data via json API\n",
    "    table of anonymized volunteers with postcode (PLZ, later GPS coord), weekday, type (time range)\n",
    "- PLZ coordinates in .xml downloaded from http://data.geo.admin.ch/ch.swisstopo-vd.ortschaftenverzeichnis_plz/data.zip (generalizeable to other countries??)\n",
    "\n"
   ]
  },
  {
   "cell_type": "markdown",
   "metadata": {},
   "source": [
    "# Initialization\n",
    "(install and import packages)"
   ]
  },
  {
   "cell_type": "markdown",
   "metadata": {},
   "source": []
  },
  {
   "cell_type": "code",
   "execution_count": null,
   "metadata": {},
   "outputs": [],
   "source": [
    "pip install matplotlib"
   ]
  },
  {
   "cell_type": "markdown",
   "metadata": {},
   "source": [
    "plotly_express [https://github.com/plotly/plotly_express/]"
   ]
  },
  {
   "cell_type": "code",
   "execution_count": null,
   "metadata": {},
   "outputs": [],
   "source": [
    "!pip install plotly_express"
   ]
  },
  {
   "cell_type": "markdown",
   "metadata": {},
   "source": [
    "separate extension jupyterlab-plotly for jupyter-lab plotly [https://plotly.com/python/getting-started/#jupyterlab-support-python-35] "
   ]
  },
  {
   "cell_type": "code",
   "execution_count": 135,
   "metadata": {
    "ExecuteTime": {
     "end_time": "2020-04-04T19:12:36.767227Z",
     "start_time": "2020-04-04T19:12:35.283915Z"
    }
   },
   "outputs": [
    {
     "name": "stdout",
     "output_type": "stream",
     "text": [
      "\u001b[33mDEPRECATION: Python 2.7 will reach the end of its life on January 1st, 2020. Please upgrade your Python as Python 2.7 won't be maintained after that date. A future version of pip will drop support for Python 2.7. More details about Python 2 support in pip, can be found at https://pip.pypa.io/en/latest/development/release-process/#python-2-support\u001b[0m\n",
      "Collecting jupyterlab==1.2\n",
      "\u001b[31m  ERROR: Could not find a version that satisfies the requirement jupyterlab==1.2 (from versions: 0.0.2, 0.0.3, 0.0.4, 0.0.5, 0.0.6, 0.0.7, 0.0.8, 0.0.9, 0.0.10, 0.0.13, 0.1.1, 0.1.2, 0.2.0, 0.3.0, 0.4.0, 0.4.1, 0.5.0, 0.6.0, 0.7.0, 0.8.0, 0.9.0, 0.9.1, 0.10.0, 0.11.0, 0.11.1, 0.11.2, 0.11.3, 0.12.0, 0.12.1, 0.13.0, 0.13.1, 0.13.2, 0.14.0, 0.15.0, 0.15.1, 0.16.0, 0.16.2, 0.17.0, 0.17.1, 0.17.2, 0.17.4, 0.17.5, 0.18.0.dev1, 0.18.0, 0.18.1, 0.19.0, 0.20.0rc1, 0.20.0, 0.20.1, 0.20.2, 0.20.3, 0.20.4, 0.21.0rc1, 0.21.0rc2, 0.21.0rc3, 0.21.0rc4, 0.21.0rc5, 0.21.0, 0.22.0rc0, 0.22.0, 0.22.1, 0.23.0rc0, 0.23.0rc1, 0.23.0, 0.23.1, 0.23.2, 0.24.0rc0, 0.24.0rc1, 0.24.0rc2, 0.24.0, 0.24.1, 0.25.0rc0, 0.25.0rc1, 0.25.0, 0.25.1, 0.25.2rc0, 0.25.2, 0.26.0rc0, 0.26.0rc1, 0.26.0, 0.26.1, 0.26.2, 0.26.3, 0.26.4, 0.26.5, 0.27.0rc0, 0.27.0rc1, 0.27.0rc2, 0.27.0rc3, 0.27.0rc4, 0.27.0rc5, 0.27.0, 0.27.1, 0.27.2, 0.28.0rc0, 0.28.0rc1, 0.28.0rc2, 0.28.0rc3, 0.28.0, 0.28.1, 0.28.2, 0.28.3, 0.28.4, 0.28.5, 0.28.6, 0.28.7, 0.28.8, 0.28.10, 0.28.11, 0.28.12, 0.28.13, 0.28.14, 0.28.15, 0.29.0rc0, 0.29.0, 0.29.1, 0.29.2, 0.30.0rc0, 0.30.0rc1, 0.30.0, 0.30.1, 0.30.2, 0.30.3, 0.30.4, 0.30.5, 0.30.6, 0.31.0rc0, 0.31.0rc1, 0.31.0rc2, 0.31.0, 0.31.1, 0.31.2, 0.31.3, 0.31.4, 0.31.5, 0.31.6, 0.31.7, 0.31.8, 0.31.9, 0.31.10, 0.31.11, 0.31.12, 0.32.0rc0, 0.32.0rc1, 0.32.0, 0.32.1, 0.33.0rc0, 0.33.0rc1, 0.33.0, 0.33.1, 0.33.2, 0.33.3, 0.33.4, 0.33.5, 0.33.6, 0.33.7, 0.33.8, 0.33.9, 0.33.10, 0.33.11, 0.33.12)\u001b[0m\n",
      "\u001b[31mERROR: No matching distribution found for jupyterlab==1.2\u001b[0m\n",
      "\u001b[33mWARNING: You are using pip version 19.2.3, however version 20.0.2 is available.\n",
      "You should consider upgrading via the 'pip install --upgrade pip' command.\u001b[0m\n"
     ]
    }
   ],
   "source": [
    "!pip install jupyterlab==1.2 \"ipywidgets>=7.5\""
   ]
  },
  {
   "cell_type": "markdown",
   "metadata": {},
   "source": [
    "geopandas"
   ]
  },
  {
   "cell_type": "code",
   "execution_count": null,
   "metadata": {},
   "outputs": [],
   "source": [
    "!pip install geopandas"
   ]
  },
  {
   "cell_type": "markdown",
   "metadata": {},
   "source": [
    "## list python modules with version"
   ]
  },
  {
   "cell_type": "code",
   "execution_count": null,
   "metadata": {},
   "outputs": [],
   "source": [
    "!pip3 freeze"
   ]
  },
  {
   "cell_type": "markdown",
   "metadata": {},
   "source": [
    "# code"
   ]
  },
  {
   "cell_type": "markdown",
   "metadata": {},
   "source": [
    "## read volunteer data via API .json to count table"
   ]
  },
  {
   "cell_type": "code",
   "execution_count": 132,
   "metadata": {
    "ExecuteTime": {
     "end_time": "2020-04-04T18:49:42.637824Z",
     "start_time": "2020-04-04T18:49:41.865733Z"
    }
   },
   "outputs": [
    {
     "name": "stdout",
     "output_type": "stream",
     "text": [
      "0     [[MONDAY_NIGHT], [TUESDAY_FORENOON], [WEDNESDA...\n",
      "1     [[MONDAY_AFTERNOON], [MONDAY_EVENING], [MONDAY...\n",
      "2     [[MONDAY_AFTERNOON], [MONDAY_EVENING], [TUESDA...\n",
      "3     [[TUESDAY_NIGHT], [WEDNESDAY_FORENOON], [WEDNE...\n",
      "4     [[MONDAY_AFTERNOON], [MONDAY_EVENING], [MONDAY...\n",
      "5     [[TUESDAY_FORENOON], [WEDNESDAY_NIGHT], [THURS...\n",
      "6                                  [[THURSDAY_EVENING]]\n",
      "7     [[MONDAY_FORENOON], [MONDAY_AFTERNOON], [MONDA...\n",
      "8     [[MONDAY_FORENOON], [MONDAY_AFTERNOON], [MONDA...\n",
      "9     [[MONDAY_AFTERNOON], [TUESDAY_NIGHT], [WEDNESD...\n",
      "10    [[MONDAY_NIGHT], [TUESDAY_NIGHT], [THURSDAY_EV...\n",
      "11    [[MONDAY_AFTERNOON], [TUESDAY_EVENING], [WEDNE...\n",
      "12    [[MONDAY_FORENOON], [TUESDAY_FORENOON], [TUESD...\n",
      "13    [[MONDAY_EVENING], [WEDNESDAY_EVENING], [WEDNE...\n",
      "14    [[MONDAY_FORENOON], [MONDAY_EVENING], [MONDAY_...\n",
      "15                                 [[FRIDAY_AFTERNOON]]\n",
      "16    [[MONDAY_FORENOON], [MONDAY_AFTERNOON], [MONDA...\n",
      "17    [[MONDAY_FORENOON], [MONDAY_AFTERNOON], [MONDA...\n",
      "18    [[MONDAY_FORENOON], [MONDAY_AFTERNOON], [MONDA...\n",
      "19    [[MONDAY_FORENOON], [MONDAY_AFTERNOON], [MONDA...\n",
      "20    [[MONDAY_FORENOON], [MONDAY_AFTERNOON], [MONDA...\n",
      "21    [[MONDAY_FORENOON], [MONDAY_EVENING], [MONDAY_...\n",
      "22    [[MONDAY_FORENOON], [MONDAY_AFTERNOON], [MONDA...\n",
      "23    [[MONDAY_EVENING], [MONDAY_NIGHT], [TUESDAY_FO...\n",
      "24    [[MONDAY_AFTERNOON], [MONDAY_EVENING], [TUESDA...\n",
      "25    [[MONDAY_AFTERNOON], [MONDAY_NIGHT], [TUESDAY_...\n",
      "Name: capacities, dtype: object\n"
     ]
    }
   ],
   "source": [
    "import requests\n",
    "import json\n",
    "from pandas.io.json import json_normalize\n",
    "from collections import Counter\n",
    "import numpy as np\n",
    "\n",
    "# list of available time blocks\n",
    "def list_of_blocks(ld):\n",
    "    return list(json_normalize(d)['key'] for d in ld)\n",
    "\n",
    "#def list_of_counts(ld):\n",
    "#    return list(Counter(json_normalize(d)['key']) for d in ld)\n",
    "#    return list(pd.Series(json_normalize(json_normalize(df)['capacities'][0])['key']) for d in ld)  \n",
    "#   Create a mapping of the tuples formed after converting json strings of list to a python list\n",
    "\n",
    "def occurDict(items):\n",
    "    l = {}\n",
    "    for j in items.index:\n",
    "        d = {}\n",
    "        for i in items[j]:\n",
    "            if i in d:\n",
    "                d[i] = d[i]+1\n",
    "            else:\n",
    "                d[i] = 1\n",
    "        l.append(d)\n",
    "    return l\n",
    "\n",
    "#def list_of_dicts(ld):\n",
    "#    return dict([(list(d.values())[1], list(d.values())[0]) for d in ld])\n",
    "\n",
    "\n",
    "url = \"https://staging.medicalinformatics.ch/api/v1/helpers\"\n",
    "\n",
    "payload = \"{\\n\\t\\\"hash\\\": \\\"4a9cmGzA\\\"\\n}\"\n",
    "headers = {\n",
    "  'Accept': 'application/json',\n",
    "  'Content-Type': 'application/json'\n",
    "}\n",
    "\n",
    "indf = json.loads(requests.request(\"POST\", url, headers=headers, data = payload).text.encode('utf8'))\n",
    "#df = json_normalize(json.loads(response))\n",
    " \n",
    "PLZ = json_normalize(indf)['postcode']\n",
    "lat = json_normalize(indf)['latitude']\n",
    "lon = json_normalize(indf)['longitude']\n",
    "# eventually to extract from table\n",
    "a = [\"MONDAY\", \"TUESDAY\",\"WEDNESDAY\", \"THURSDAY\", \"FRIDAY\", \"SATURDAY\", \"SUNDAY\"]\n",
    "b = [\"FORENOON\", \"AFTERNOON\", \"EVENING\", \"NIGHT\"]\n",
    "blocks = ['_'.join([x,y]) for x in a for y in b]\n",
    "cou = json_normalize(indf)['capacities'].apply(list_of_blocks)\n",
    "\n",
    "\n",
    "# fill a dataframe\n",
    "df = pd.DataFrame({'PLZ':PLZ,\n",
    "                   'lat':lat,\n",
    "                   'lon':lon               \n",
    "                   }, dtype=float\n",
    "                 )\n",
    "\n",
    "# data frame from list of dictionaries \n",
    "#data = [{'a': 1, 'b': 2},{'a': 5, 'b': 10, 'c': 20}]\n",
    "#df = pd.DataFrame(data)\n",
    "\n",
    "\n",
    "print(cou)"
   ]
  },
  {
   "cell_type": "code",
   "execution_count": 133,
   "metadata": {
    "ExecuteTime": {
     "end_time": "2020-04-04T18:49:47.631691Z",
     "start_time": "2020-04-04T18:49:47.612584Z"
    }
   },
   "outputs": [
    {
     "name": "stdout",
     "output_type": "stream",
     "text": [
      "       PLZ        lat         lon\n",
      "0   2282.0  57.254013  -13.846746\n",
      "1     46.0  67.857323   94.643538\n",
      "2   8828.0 -86.629925   15.794876\n",
      "3   8892.0  47.105000    9.347000\n",
      "4   7059.0  -7.279339  -15.628610\n",
      "5    547.0 -61.458959   67.609540\n",
      "6   1975.0  46.239000    7.303000\n",
      "7   5044.0  47.293000    8.089000\n",
      "8   6683.0  46.306000    8.548000\n",
      "9   5387.0 -89.544934  -33.062889\n",
      "10  9829.0   5.347976  -77.727888\n",
      "11  2541.0  56.010134  -46.198767\n",
      "12   586.0  69.891960  -50.386301\n",
      "13  1505.0 -19.798765   55.141315\n",
      "14  6177.0 -47.336469  -25.100884\n",
      "15  4028.0  63.961867  166.102008\n",
      "16  5756.0 -74.962654  -70.306928\n",
      "17  7411.0  46.700000    9.454000\n",
      "18  4289.0  41.713063  125.196795\n",
      "19  9772.0 -36.910652   43.285697\n",
      "20   331.0 -38.421659 -164.665188\n",
      "21  3378.0 -70.076298  -85.202063\n",
      "22   945.0 -28.229461 -142.016039\n",
      "23  2908.0  47.392000    6.940000\n",
      "24  8044.0  47.380000    8.573000\n",
      "25   387.0  28.553265  -72.268292\n"
     ]
    }
   ],
   "source": [
    "print(df)\n"
   ]
  },
  {
   "cell_type": "code",
   "execution_count": 77,
   "metadata": {
    "ExecuteTime": {
     "end_time": "2020-04-04T16:21:21.352162Z",
     "start_time": "2020-04-04T16:21:21.341871Z"
    }
   },
   "outputs": [
    {
     "name": "stdout",
     "output_type": "stream",
     "text": [
      "[0    MONDAY_EVENING\n",
      "Name: key, dtype: object, 0    WEDNESDAY_FORENOON\n",
      "Name: key, dtype: object, 0    WEDNESDAY_AFTERNOON\n",
      "Name: key, dtype: object, 0    THURSDAY_FORENOON\n",
      "Name: key, dtype: object, 0    THURSDAY_AFTERNOON\n",
      "Name: key, dtype: object, 0    FRIDAY_FORENOON\n",
      "Name: key, dtype: object, 0    SATURDAY_NIGHT\n",
      "Name: key, dtype: object, 0    SUNDAY_NIGHT\n",
      "Name: key, dtype: object]\n"
     ]
    }
   ],
   "source": [
    "print(list(cou[10]))"
   ]
  },
  {
   "cell_type": "markdown",
   "metadata": {},
   "source": [
    "## generate map"
   ]
  },
  {
   "cell_type": "code",
   "execution_count": 134,
   "metadata": {
    "ExecuteTime": {
     "end_time": "2020-04-04T18:50:08.479922Z",
     "start_time": "2020-04-04T18:50:07.922286Z"
    }
   },
   "outputs": [
    {
     "ename": "ValueError",
     "evalue": "Mime type rendering requires nbformat>=4.2.0 but it is not installed",
     "output_type": "error",
     "traceback": [
      "\u001b[0;31m\u001b[0m",
      "\u001b[0;31mValueError\u001b[0mTraceback (most recent call last)",
      "\u001b[0;32m<ipython-input-134-f54eb1f56ee3>\u001b[0m in \u001b[0;36m<module>\u001b[0;34m()\u001b[0m\n\u001b[1;32m     10\u001b[0m \u001b[0mfig\u001b[0m\u001b[0;34m.\u001b[0m\u001b[0mupdate_layout\u001b[0m\u001b[0;34m(\u001b[0m\u001b[0mmapbox_style\u001b[0m\u001b[0;34m=\u001b[0m\u001b[0;34m\"open-street-map\"\u001b[0m\u001b[0;34m)\u001b[0m\u001b[0;34m\u001b[0m\u001b[0m\n\u001b[1;32m     11\u001b[0m \u001b[0mfig\u001b[0m\u001b[0;34m.\u001b[0m\u001b[0mupdate_layout\u001b[0m\u001b[0;34m(\u001b[0m\u001b[0mmargin\u001b[0m\u001b[0;34m=\u001b[0m\u001b[0;34m{\u001b[0m\u001b[0;34m\"r\"\u001b[0m\u001b[0;34m:\u001b[0m\u001b[0;36m0\u001b[0m\u001b[0;34m,\u001b[0m\u001b[0;34m\"t\"\u001b[0m\u001b[0;34m:\u001b[0m\u001b[0;36m0\u001b[0m\u001b[0;34m,\u001b[0m\u001b[0;34m\"l\"\u001b[0m\u001b[0;34m:\u001b[0m\u001b[0;36m0\u001b[0m\u001b[0;34m,\u001b[0m\u001b[0;34m\"b\"\u001b[0m\u001b[0;34m:\u001b[0m\u001b[0;36m0\u001b[0m\u001b[0;34m}\u001b[0m\u001b[0;34m)\u001b[0m\u001b[0;34m\u001b[0m\u001b[0m\n\u001b[0;32m---> 12\u001b[0;31m \u001b[0mfig\u001b[0m\u001b[0;34m.\u001b[0m\u001b[0mshow\u001b[0m\u001b[0;34m(\u001b[0m\u001b[0;34m)\u001b[0m\u001b[0;34m\u001b[0m\u001b[0m\n\u001b[0m",
      "\u001b[0;32m/opt/conda/envs/python2/lib/python2.7/site-packages/plotly/basedatatypes.pyc\u001b[0m in \u001b[0;36mshow\u001b[0;34m(self, *args, **kwargs)\u001b[0m\n\u001b[1;32m   2792\u001b[0m         \u001b[0;32mimport\u001b[0m \u001b[0mplotly\u001b[0m\u001b[0;34m.\u001b[0m\u001b[0mio\u001b[0m \u001b[0;32mas\u001b[0m \u001b[0mpio\u001b[0m\u001b[0;34m\u001b[0m\u001b[0m\n\u001b[1;32m   2793\u001b[0m \u001b[0;34m\u001b[0m\u001b[0m\n\u001b[0;32m-> 2794\u001b[0;31m         \u001b[0;32mreturn\u001b[0m \u001b[0mpio\u001b[0m\u001b[0;34m.\u001b[0m\u001b[0mshow\u001b[0m\u001b[0;34m(\u001b[0m\u001b[0mself\u001b[0m\u001b[0;34m,\u001b[0m \u001b[0;34m*\u001b[0m\u001b[0margs\u001b[0m\u001b[0;34m,\u001b[0m \u001b[0;34m**\u001b[0m\u001b[0mkwargs\u001b[0m\u001b[0;34m)\u001b[0m\u001b[0;34m\u001b[0m\u001b[0m\n\u001b[0m\u001b[1;32m   2795\u001b[0m \u001b[0;34m\u001b[0m\u001b[0m\n\u001b[1;32m   2796\u001b[0m     \u001b[0;32mdef\u001b[0m \u001b[0mto_json\u001b[0m\u001b[0;34m(\u001b[0m\u001b[0mself\u001b[0m\u001b[0;34m,\u001b[0m \u001b[0;34m*\u001b[0m\u001b[0margs\u001b[0m\u001b[0;34m,\u001b[0m \u001b[0;34m**\u001b[0m\u001b[0mkwargs\u001b[0m\u001b[0;34m)\u001b[0m\u001b[0;34m:\u001b[0m\u001b[0;34m\u001b[0m\u001b[0m\n",
      "\u001b[0;32m/opt/conda/envs/python2/lib/python2.7/site-packages/plotly/io/_renderers.pyc\u001b[0m in \u001b[0;36mshow\u001b[0;34m(fig, renderer, validate, **kwargs)\u001b[0m\n\u001b[1;32m    383\u001b[0m         \u001b[0;32mif\u001b[0m \u001b[0;32mnot\u001b[0m \u001b[0mnbformat\u001b[0m \u001b[0;32mor\u001b[0m \u001b[0mLooseVersion\u001b[0m\u001b[0;34m(\u001b[0m\u001b[0mnbformat\u001b[0m\u001b[0;34m.\u001b[0m\u001b[0m__version__\u001b[0m\u001b[0;34m)\u001b[0m \u001b[0;34m<\u001b[0m \u001b[0mLooseVersion\u001b[0m\u001b[0;34m(\u001b[0m\u001b[0;34m\"4.2.0\"\u001b[0m\u001b[0;34m)\u001b[0m\u001b[0;34m:\u001b[0m\u001b[0;34m\u001b[0m\u001b[0m\n\u001b[1;32m    384\u001b[0m             raise ValueError(\n\u001b[0;32m--> 385\u001b[0;31m                 \u001b[0;34m\"Mime type rendering requires nbformat>=4.2.0 but it is not installed\"\u001b[0m\u001b[0;34m\u001b[0m\u001b[0m\n\u001b[0m\u001b[1;32m    386\u001b[0m             )\n\u001b[1;32m    387\u001b[0m \u001b[0;34m\u001b[0m\u001b[0m\n",
      "\u001b[0;31mValueError\u001b[0m: Mime type rendering requires nbformat>=4.2.0 but it is not installed"
     ]
    }
   ],
   "source": [
    "import pandas as pd\n",
    "import plotly.express as px\n",
    "us_cities = pd.read_csv(\"https://raw.githubusercontent.com/plotly/datasets/master/us-cities-top-1k.csv\")\n",
    "\n",
    "\n",
    "#fig = px.scatter_mapbox(us_cities, lat=\"lat\", lon=\"lon\", hover_name=\"City\", hover_data=[\"State\", \"Population\"],\n",
    "#                        color_discrete_sequence=[\"fuchsia\"], zoom=3, height=300)\n",
    "fig = px.scatter_mapbox(df, lat=\"lat\", lon=\"lon\", hover_name=\"PLZ\",\n",
    "                        color_discrete_sequence=[\"fuchsia\"], zoom=3, height=300)\n",
    "fig.update_layout(mapbox_style=\"open-street-map\")\n",
    "fig.update_layout(margin={\"r\":0,\"t\":0,\"l\":0,\"b\":0})\n",
    "fig.show()\n"
   ]
  },
  {
   "cell_type": "code",
   "execution_count": 128,
   "metadata": {
    "ExecuteTime": {
     "end_time": "2020-04-04T18:21:35.673067Z",
     "start_time": "2020-04-04T18:21:35.660553Z"
    },
    "scrolled": true
   },
   "outputs": [
    {
     "name": "stdout",
     "output_type": "stream",
     "text": [
      "0      48.051764\n",
      "1      33.782519\n",
      "2      41.499320\n",
      "3      42.262593\n",
      "4      34.000710\n",
      "5      41.558153\n",
      "6      44.804132\n",
      "7      42.473369\n",
      "8      30.224090\n",
      "9      43.618710\n",
      "10     41.681993\n",
      "11     33.867514\n",
      "12     33.952602\n",
      "13     39.518600\n",
      "14     26.715342\n",
      "15     42.519540\n",
      "16     41.760585\n",
      "17     39.115662\n",
      "18     25.819542\n",
      "19     33.751342\n",
      "20     33.577863\n",
      "21     38.982228\n",
      "22     32.298757\n",
      "23     35.262082\n",
      "24     29.210815\n",
      "25     39.099727\n",
      "26     33.744461\n",
      "27     44.767742\n",
      "28     32.902902\n",
      "29     33.394266\n",
      "         ...    \n",
      "970    29.187199\n",
      "971    34.023243\n",
      "972    42.011141\n",
      "973    43.208137\n",
      "974    47.037874\n",
      "975    33.660297\n",
      "976    27.800583\n",
      "977    42.776201\n",
      "978    41.999472\n",
      "979    42.373616\n",
      "980    33.538652\n",
      "981    33.802516\n",
      "982    33.018504\n",
      "983    41.523644\n",
      "984    26.368306\n",
      "985    41.661210\n",
      "986    42.497258\n",
      "987    41.520052\n",
      "988    45.500136\n",
      "989    26.140363\n",
      "990    36.304774\n",
      "991    37.354108\n",
      "992    33.195870\n",
      "993    33.646966\n",
      "994    42.480590\n",
      "995    40.787879\n",
      "996    42.408430\n",
      "997    40.622048\n",
      "998    35.595058\n",
      "999    33.895849\n",
      "Name: lat, Length: 1000, dtype: float64\n"
     ]
    }
   ],
   "source": [
    "print(us_cities[\"lat\"])"
   ]
  },
  {
   "cell_type": "code",
   "execution_count": 130,
   "metadata": {
    "ExecuteTime": {
     "end_time": "2020-04-04T18:22:35.222878Z",
     "start_time": "2020-04-04T18:22:35.211454Z"
    }
   },
   "outputs": [
    {
     "name": "stdout",
     "output_type": "stream",
     "text": [
      "0     57.254013\n",
      "1     67.857323\n",
      "2    -86.629925\n",
      "3     47.105000\n",
      "4     -7.279339\n",
      "5    -61.458959\n",
      "6     46.239000\n",
      "7     47.293000\n",
      "8     46.306000\n",
      "9    -89.544934\n",
      "10     5.347976\n",
      "11    56.010134\n",
      "12    69.891960\n",
      "13   -19.798765\n",
      "14   -47.336469\n",
      "15    63.961867\n",
      "16   -74.962654\n",
      "17    46.700000\n",
      "18    41.713063\n",
      "19   -36.910652\n",
      "20   -38.421659\n",
      "21   -70.076298\n",
      "22   -28.229461\n",
      "23    47.392000\n",
      "24    47.380000\n",
      "25    28.553265\n",
      "Name: latitude, dtype: float64\n"
     ]
    }
   ],
   "source": [
    "print(df[\"latitude\"])"
   ]
  },
  {
   "cell_type": "code",
   "execution_count": null,
   "metadata": {},
   "outputs": [],
   "source": []
  },
  {
   "cell_type": "code",
   "execution_count": null,
   "metadata": {},
   "outputs": [],
   "source": []
  },
  {
   "cell_type": "code",
   "execution_count": null,
   "metadata": {},
   "outputs": [],
   "source": []
  },
  {
   "cell_type": "code",
   "execution_count": null,
   "metadata": {
    "ExecuteTime": {
     "start_time": "2020-04-03T19:10:44.296Z"
    }
   },
   "outputs": [],
   "source": [
    "import matplotlib.pyplot as plt\n",
    "import cartopy.crs as ccrs\n",
    "\n",
    "fig = plt.figure(figsize=(15, 10))\n",
    "ax = fig.add_subplot(1, 1, 1, projection=ccrs.PlateCarree())\n",
    "\n",
    "    # make the map global rather than have it zoom in to\n",
    "    # the extents of any plotted data\n",
    "\n",
    "ax.set_extent((60, 150, 55, -25))\n",
    "\n",
    "ax.stock_img()\n",
    "ax.coastlines()\n",
    "\n",
    "ax.tissot(facecolor='purple', alpha=0.8)\n",
    "\n",
    "plt.show()"
   ]
  }
 ],
 "metadata": {
  "kernelspec": {
   "display_name": "Python 2",
   "language": "python",
   "name": "python2"
  },
  "language_info": {
   "codemirror_mode": {
    "name": "ipython",
    "version": 2
   },
   "file_extension": ".py",
   "mimetype": "text/x-python",
   "name": "python",
   "nbconvert_exporter": "python",
   "pygments_lexer": "ipython2",
   "version": "2.7.16"
  },
  "toc": {
   "base_numbering": 1,
   "nav_menu": {},
   "number_sections": true,
   "sideBar": true,
   "skip_h1_title": false,
   "title_cell": "Table of Contents",
   "title_sidebar": "Contents",
   "toc_cell": false,
   "toc_position": {},
   "toc_section_display": true,
   "toc_window_display": false
  },
  "varInspector": {
   "cols": {
    "lenName": 16,
    "lenType": 16,
    "lenVar": 40
   },
   "kernels_config": {
    "python": {
     "delete_cmd_postfix": "",
     "delete_cmd_prefix": "del ",
     "library": "var_list.py",
     "varRefreshCmd": "print(var_dic_list())"
    },
    "r": {
     "delete_cmd_postfix": ") ",
     "delete_cmd_prefix": "rm(",
     "library": "var_list.r",
     "varRefreshCmd": "cat(var_dic_list()) "
    }
   },
   "types_to_exclude": [
    "module",
    "function",
    "builtin_function_or_method",
    "instance",
    "_Feature"
   ],
   "window_display": false
  }
 },
 "nbformat": 4,
 "nbformat_minor": 2
}
