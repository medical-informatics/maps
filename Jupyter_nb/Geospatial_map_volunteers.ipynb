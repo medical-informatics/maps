{
 "cells": [
  {
   "cell_type": "markdown",
   "metadata": {},
   "source": [
    "# AIM: Visualize availability of volunteers on geographical map"
   ]
  },
  {
   "cell_type": "markdown",
   "metadata": {},
   "source": [
    "Background:\n",
    "- In crisis situation, organizations might require rapid and non-bureaucratic low-level support. This code aims at generating a geographical map with the available volunteers overlayed\n",
    "\n",
    "\n",
    "Requirements:\n",
    "- retrieve data via json API\n",
    "    table of anonymized volunteers with postcode (PLZ), weekday, type (time range)\n",
    "- PLZ coordinates in .xml downloaded from http://data.geo.admin.ch/ch.swisstopo-vd.ortschaftenverzeichnis_plz/data.zip (generalizeable to other countries??)\n",
    "\n",
    "\n"
   ]
  },
  {
   "cell_type": "markdown",
   "metadata": {
    "heading_collapsed": true
   },
   "source": [
    "# Initialization\n",
    "(install and import packages)"
   ]
  },
  {
   "cell_type": "markdown",
   "metadata": {
    "hidden": true
   },
   "source": [
    "matplotlib"
   ]
  },
  {
   "cell_type": "code",
   "execution_count": 1,
   "metadata": {
    "ExecuteTime": {
     "end_time": "2020-04-03T19:16:25.348639Z",
     "start_time": "2020-04-03T19:16:24.143301Z"
    },
    "collapsed": true,
    "hidden": true
   },
   "outputs": [
    {
     "name": "stdout",
     "output_type": "stream",
     "text": [
      "\u001b[33mDEPRECATION: Python 2.7 will reach the end of its life on January 1st, 2020. Please upgrade your Python as Python 2.7 won't be maintained after that date. A future version of pip will drop support for Python 2.7. More details about Python 2 support in pip, can be found at https://pip.pypa.io/en/latest/development/release-process/#python-2-support\u001b[0m\n",
      "Requirement already satisfied: matplotlib in /opt/conda/envs/python2/lib/python2.7/site-packages (2.2.5)\n",
      "Requirement already satisfied: python-dateutil>=2.1 in /opt/conda/envs/python2/lib/python2.7/site-packages (from matplotlib) (2.8.0)\n",
      "Requirement already satisfied: subprocess32 in /opt/conda/envs/python2/lib/python2.7/site-packages (from matplotlib) (3.5.4)\n",
      "Requirement already satisfied: cycler>=0.10 in /opt/conda/envs/python2/lib/python2.7/site-packages (from matplotlib) (0.10.0)\n",
      "Requirement already satisfied: six>=1.10 in /opt/conda/envs/python2/lib/python2.7/site-packages (from matplotlib) (1.12.0)\n",
      "Requirement already satisfied: backports.functools-lru-cache in /opt/conda/envs/python2/lib/python2.7/site-packages (from matplotlib) (1.6.1)\n",
      "Requirement already satisfied: pytz in /opt/conda/envs/python2/lib/python2.7/site-packages (from matplotlib) (2019.3)\n",
      "Requirement already satisfied: pyparsing!=2.0.4,!=2.1.2,!=2.1.6,>=2.0.1 in /opt/conda/envs/python2/lib/python2.7/site-packages (from matplotlib) (2.4.6)\n",
      "Requirement already satisfied: numpy>=1.7.1 in /opt/conda/envs/python2/lib/python2.7/site-packages (from matplotlib) (1.16.6)\n",
      "Requirement already satisfied: kiwisolver>=1.0.1 in /opt/conda/envs/python2/lib/python2.7/site-packages (from matplotlib) (1.1.0)\n",
      "Requirement already satisfied: setuptools in /opt/conda/envs/python2/lib/python2.7/site-packages (from kiwisolver>=1.0.1->matplotlib) (41.0.1)\n",
      "\u001b[33mWARNING: You are using pip version 19.2.3, however version 20.0.2 is available.\n",
      "You should consider upgrading via the 'pip install --upgrade pip' command.\u001b[0m\n"
     ]
    }
   ],
   "source": [
    "!pip install matplotlib"
   ]
  },
  {
   "cell_type": "markdown",
   "metadata": {
    "hidden": true
   },
   "source": [
    "cartopy [https://scitools.org.uk/cartopy/docs/latest/installing.html#installing]"
   ]
  },
  {
   "cell_type": "code",
   "execution_count": 2,
   "metadata": {
    "ExecuteTime": {
     "end_time": "2020-04-03T19:19:02.724620Z",
     "start_time": "2020-04-03T19:16:32.377368Z"
    },
    "collapsed": true,
    "hidden": true
   },
   "outputs": [
    {
     "name": "stdout",
     "output_type": "stream",
     "text": [
      "Collecting package metadata (current_repodata.json): done\n",
      "Solving environment: failed with initial frozen solve. Retrying with flexible solve.\n",
      "Solving environment: failed with repodata from current_repodata.json, will retry with next repodata source.\n",
      "Collecting package metadata (repodata.json): done\n",
      "Solving environment: done\n",
      "\n",
      "\n",
      "==> WARNING: A newer version of conda exists. <==\n",
      "  current version: 4.7.12\n",
      "  latest version: 4.8.3\n",
      "\n",
      "Please update conda by running\n",
      "\n",
      "    $ conda update -n base -c defaults conda\n",
      "\n",
      "\n",
      "\n",
      "## Package Plan ##\n",
      "\n",
      "  environment location: /opt/conda/envs/python2\n",
      "\n",
      "  added / updated specs:\n",
      "    - cartopy\n",
      "\n",
      "\n",
      "The following packages will be downloaded:\n",
      "\n",
      "    package                    |            build\n",
      "    ---------------------------|-----------------\n",
      "    aenum-2.2.0                |             py_0          79 KB  conda-forge\n",
      "    backports-1.0              |             py_2           4 KB  conda-forge\n",
      "    backports.functools_lru_cache-1.6.1|             py_0           8 KB  conda-forge\n",
      "    backports_abc-0.5          |             py_1           5 KB  conda-forge\n",
      "    cartopy-0.17.0             |py27h4331854_1006         1.8 MB  conda-forge\n",
      "    certifi-2019.11.28         |   py27h8c360ce_1         149 KB  conda-forge\n",
      "    cffi-1.14.0                |   py27hd463f26_0         217 KB  conda-forge\n",
      "    chardet-3.0.4              |py27h8c360ce_1006         180 KB  conda-forge\n",
      "    cryptography-2.8           |   py27h2c19f6a_2         609 KB  conda-forge\n",
      "    cycler-0.10.0              |             py_2           9 KB  conda-forge\n",
      "    dbus-1.13.6                |       he372182_0         602 KB  conda-forge\n",
      "    enum34-1.1.10              |   py27h8c360ce_1          49 KB  conda-forge\n",
      "    expat-2.2.9                |       he1b5a44_2         191 KB  conda-forge\n",
      "    fontconfig-2.13.1          |    he4413a7_1000         327 KB  conda-forge\n",
      "    freetype-2.10.1            |       he06d7ca_0         877 KB  conda-forge\n",
      "    functools32-3.2.3.2        |             py_3          15 KB  conda-forge\n",
      "    futures-3.3.0              |   py27h8c360ce_1          26 KB  conda-forge\n",
      "    geos-3.7.2                 |       he1b5a44_2         877 KB  conda-forge\n",
      "    gettext-0.19.8.1           |    hc5be6a0_1002         3.6 MB  conda-forge\n",
      "    glib-2.58.3                |py27he9b9f4b_1003         3.3 MB  conda-forge\n",
      "    gst-plugins-base-1.14.5    |       h0935bb2_2         6.8 MB  conda-forge\n",
      "    gstreamer-1.14.5           |       h36ae1b5_2         4.5 MB  conda-forge\n",
      "    icu-58.2                   |    hf484d3e_1000        22.6 MB  conda-forge\n",
      "    idna-2.9                   |             py_1          52 KB  conda-forge\n",
      "    ipaddress-1.0.23           |             py_0          19 KB  conda-forge\n",
      "    jpeg-9c                    |    h14c3975_1001         251 KB  conda-forge\n",
      "    kiwisolver-1.1.0           |   py27h9e3301b_1          88 KB  conda-forge\n",
      "    libblas-3.8.0              |      14_openblas          10 KB  conda-forge\n",
      "    libcblas-3.8.0             |      14_openblas          10 KB  conda-forge\n",
      "    libgfortran-ng-7.3.0       |       hdf63c60_5         1.7 MB  conda-forge\n",
      "    libiconv-1.15              |    h516909a_1006         2.0 MB  conda-forge\n",
      "    liblapack-3.8.0            |      14_openblas          10 KB  conda-forge\n",
      "    libopenblas-0.3.7          |       h5ec1e0e_6         7.6 MB  conda-forge\n",
      "    libpng-1.6.37              |       hed695b0_1         308 KB  conda-forge\n",
      "    libtiff-4.1.0              |       hc7e4089_6         668 KB  conda-forge\n",
      "    libuuid-2.32.1             |    h14c3975_1000          26 KB  conda-forge\n",
      "    libwebp-base-1.1.0         |       h516909a_3         845 KB  conda-forge\n",
      "    libxcb-1.13                |    h14c3975_1002         396 KB  conda-forge\n",
      "    libxml2-2.9.9              |       h13577e0_2         1.3 MB  conda-forge\n",
      "    lz4-c-1.8.3                |    he1b5a44_1001         187 KB  conda-forge\n",
      "    matplotlib-2.2.3           |   py27hb69df0a_0         4.8 MB  defaults\n",
      "    numpy-1.16.5               |   py27h95a1406_0         4.3 MB  conda-forge\n",
      "    olefile-0.46               |             py_0          31 KB  conda-forge\n",
      "    owslib-0.18.0              |             py_0         124 KB  conda-forge\n",
      "    pcre-8.44                  |       he1b5a44_0         261 KB  conda-forge\n",
      "    pillow-5.3.0               |py27h00a061d_1000         593 KB  conda-forge\n",
      "    proj4-6.1.1                |       hc80f0dc_1         9.8 MB  conda-forge\n",
      "    pthread-stubs-0.4          |    h14c3975_1001           5 KB  conda-forge\n",
      "    pycparser-2.20             |             py_0          89 KB  conda-forge\n",
      "    pykdtree-1.3.1             |py27hc1659b7_1002          69 KB  conda-forge\n",
      "    pyopenssl-19.1.0           |             py_1          47 KB  conda-forge\n",
      "    pyparsing-2.4.6            |             py_0          59 KB  conda-forge\n",
      "    pyproj-2.2.2               |   py27h2fd02e8_0         234 KB  conda-forge\n",
      "    pyqt-5.9.2                 |   py27hcca6a23_4         5.5 MB  conda-forge\n",
      "    pysocks-1.7.1              |   py27h8c360ce_1          26 KB  conda-forge\n",
      "    python-dateutil-2.8.1      |             py_0         220 KB  conda-forge\n",
      "    python_abi-2.7             |         1_cp27mu           4 KB  conda-forge\n",
      "    pytz-2019.3                |             py_0         237 KB  conda-forge\n",
      "    qt-5.9.7                   |       h52cfd70_2        85.9 MB  conda-forge\n",
      "    requests-2.23.0            |     pyh8c360ce_2          47 KB  conda-forge\n",
      "    scipy-1.2.1                |   py27h921218d_2        18.4 MB  conda-forge\n",
      "    shapely-1.6.4              |py27hec07ddf_1006         332 KB  conda-forge\n",
      "    singledispatch-3.4.0.3     |        py27_1000          15 KB  conda-forge\n",
      "    sip-4.19.8                 |py27hf484d3e_1000         290 KB  conda-forge\n",
      "    six-1.14.0                 |             py_1          13 KB  conda-forge\n",
      "    subprocess32-3.5.4         |   py27h516909a_0          46 KB  conda-forge\n",
      "    tornado-5.1.1              |py27h14c3975_1000         642 KB  conda-forge\n",
      "    urllib3-1.25.7             |   py27h8c360ce_1         158 KB  conda-forge\n",
      "    xorg-libxau-1.0.9          |       h14c3975_0          13 KB  conda-forge\n",
      "    xorg-libxdmcp-1.1.3        |       h516909a_0          18 KB  conda-forge\n",
      "    xz-5.2.4                   |    h516909a_1002         375 KB  conda-forge\n",
      "    zstd-1.4.4                 |       h3b9ef0a_2         982 KB  conda-forge\n",
      "    ------------------------------------------------------------\n",
      "                                           Total:       195.5 MB\n",
      "\n",
      "The following NEW packages will be INSTALLED:\n",
      "\n",
      "  aenum              conda-forge/noarch::aenum-2.2.0-py_0\n",
      "  backports          conda-forge/noarch::backports-1.0-py_2\n",
      "  backports.functoo~ conda-forge/noarch::backports.functools_lru_cache-1.6.1-py_0\n",
      "  backports_abc      conda-forge/noarch::backports_abc-0.5-py_1\n",
      "  cartopy            conda-forge/linux-64::cartopy-0.17.0-py27h4331854_1006\n",
      "  cffi               conda-forge/linux-64::cffi-1.14.0-py27hd463f26_0\n",
      "  chardet            conda-forge/linux-64::chardet-3.0.4-py27h8c360ce_1006\n",
      "  cryptography       conda-forge/linux-64::cryptography-2.8-py27h2c19f6a_2\n",
      "  cycler             conda-forge/noarch::cycler-0.10.0-py_2\n",
      "  dbus               conda-forge/linux-64::dbus-1.13.6-he372182_0\n",
      "  enum34             conda-forge/linux-64::enum34-1.1.10-py27h8c360ce_1\n",
      "  expat              conda-forge/linux-64::expat-2.2.9-he1b5a44_2\n",
      "  fontconfig         conda-forge/linux-64::fontconfig-2.13.1-he4413a7_1000\n",
      "  freetype           conda-forge/linux-64::freetype-2.10.1-he06d7ca_0\n",
      "  functools32        conda-forge/noarch::functools32-3.2.3.2-py_3\n",
      "  futures            conda-forge/linux-64::futures-3.3.0-py27h8c360ce_1\n",
      "  geos               conda-forge/linux-64::geos-3.7.2-he1b5a44_2\n",
      "  gettext            conda-forge/linux-64::gettext-0.19.8.1-hc5be6a0_1002\n",
      "  glib               conda-forge/linux-64::glib-2.58.3-py27he9b9f4b_1003\n",
      "  gst-plugins-base   conda-forge/linux-64::gst-plugins-base-1.14.5-h0935bb2_2\n",
      "  gstreamer          conda-forge/linux-64::gstreamer-1.14.5-h36ae1b5_2\n",
      "  icu                conda-forge/linux-64::icu-58.2-hf484d3e_1000\n",
      "  idna               conda-forge/noarch::idna-2.9-py_1\n",
      "  ipaddress          conda-forge/noarch::ipaddress-1.0.23-py_0\n",
      "  jpeg               conda-forge/linux-64::jpeg-9c-h14c3975_1001\n",
      "  kiwisolver         conda-forge/linux-64::kiwisolver-1.1.0-py27h9e3301b_1\n",
      "  libblas            conda-forge/linux-64::libblas-3.8.0-14_openblas\n",
      "  libcblas           conda-forge/linux-64::libcblas-3.8.0-14_openblas\n",
      "  libgfortran-ng     conda-forge/linux-64::libgfortran-ng-7.3.0-hdf63c60_5\n",
      "  libiconv           conda-forge/linux-64::libiconv-1.15-h516909a_1006\n",
      "  liblapack          conda-forge/linux-64::liblapack-3.8.0-14_openblas\n",
      "  libopenblas        conda-forge/linux-64::libopenblas-0.3.7-h5ec1e0e_6\n",
      "  libpng             conda-forge/linux-64::libpng-1.6.37-hed695b0_1\n",
      "  libtiff            conda-forge/linux-64::libtiff-4.1.0-hc7e4089_6\n",
      "  libuuid            conda-forge/linux-64::libuuid-2.32.1-h14c3975_1000\n",
      "  libwebp-base       conda-forge/linux-64::libwebp-base-1.1.0-h516909a_3\n",
      "  libxcb             conda-forge/linux-64::libxcb-1.13-h14c3975_1002\n",
      "  libxml2            conda-forge/linux-64::libxml2-2.9.9-h13577e0_2\n",
      "  lz4-c              conda-forge/linux-64::lz4-c-1.8.3-he1b5a44_1001\n",
      "  matplotlib         pkgs/main/linux-64::matplotlib-2.2.3-py27hb69df0a_0\n",
      "  numpy              conda-forge/linux-64::numpy-1.16.5-py27h95a1406_0\n",
      "  olefile            conda-forge/noarch::olefile-0.46-py_0\n",
      "  owslib             conda-forge/noarch::owslib-0.18.0-py_0\n",
      "  pcre               conda-forge/linux-64::pcre-8.44-he1b5a44_0\n",
      "  pillow             conda-forge/linux-64::pillow-5.3.0-py27h00a061d_1000\n",
      "  proj4              conda-forge/linux-64::proj4-6.1.1-hc80f0dc_1\n",
      "  pthread-stubs      conda-forge/linux-64::pthread-stubs-0.4-h14c3975_1001\n",
      "  pycparser          conda-forge/noarch::pycparser-2.20-py_0\n",
      "  pyepsg             conda-forge/noarch::pyepsg-0.4.0-py_0\n",
      "  pykdtree           conda-forge/linux-64::pykdtree-1.3.1-py27hc1659b7_1002\n",
      "  pyopenssl          conda-forge/noarch::pyopenssl-19.1.0-py_1\n",
      "  pyparsing          conda-forge/noarch::pyparsing-2.4.6-py_0\n",
      "  pyproj             conda-forge/linux-64::pyproj-2.2.2-py27h2fd02e8_0\n",
      "  pyqt               conda-forge/linux-64::pyqt-5.9.2-py27hcca6a23_4\n",
      "  pyshp              conda-forge/noarch::pyshp-2.1.0-py_0\n",
      "  pysocks            conda-forge/linux-64::pysocks-1.7.1-py27h8c360ce_1\n",
      "  python-dateutil    conda-forge/noarch::python-dateutil-2.8.1-py_0\n",
      "  python_abi         conda-forge/linux-64::python_abi-2.7-1_cp27mu\n",
      "  pytz               conda-forge/noarch::pytz-2019.3-py_0\n",
      "  qt                 conda-forge/linux-64::qt-5.9.7-h52cfd70_2\n",
      "  requests           conda-forge/noarch::requests-2.23.0-pyh8c360ce_2\n",
      "  scipy              conda-forge/linux-64::scipy-1.2.1-py27h921218d_2\n",
      "  shapely            conda-forge/linux-64::shapely-1.6.4-py27hec07ddf_1006\n",
      "  singledispatch     conda-forge/linux-64::singledispatch-3.4.0.3-py27_1000\n",
      "  sip                conda-forge/linux-64::sip-4.19.8-py27hf484d3e_1000\n",
      "  six                conda-forge/noarch::six-1.14.0-py_1\n",
      "  subprocess32       conda-forge/linux-64::subprocess32-3.5.4-py27h516909a_0\n",
      "  tornado            conda-forge/linux-64::tornado-5.1.1-py27h14c3975_1000\n",
      "  urllib3            conda-forge/linux-64::urllib3-1.25.7-py27h8c360ce_1\n",
      "  xorg-libxau        conda-forge/linux-64::xorg-libxau-1.0.9-h14c3975_0\n",
      "  xorg-libxdmcp      conda-forge/linux-64::xorg-libxdmcp-1.1.3-h516909a_0\n",
      "  xz                 conda-forge/linux-64::xz-5.2.4-h516909a_1002\n",
      "  zstd               conda-forge/linux-64::zstd-1.4.4-h3b9ef0a_2\n",
      "\n",
      "The following packages will be UPDATED:\n",
      "\n",
      "  ca-certificates    pkgs/main::ca-certificates-2019.5.15-1 --> conda-forge::ca-certificates-2019.11.28-hecc5488_0\n",
      "  certifi               pkgs/main::certifi-2019.6.16-py27_1 --> conda-forge::certifi-2019.11.28-py27h8c360ce_1\n",
      "  openssl              pkgs/main::openssl-1.1.1d-h7b6447c_1 --> conda-forge::openssl-1.1.1f-h516909a_0\n",
      "\n",
      "\n",
      "\n",
      "Downloading and Extracting Packages\n"
     ]
    },
    {
     "name": "stdout",
     "output_type": "stream",
     "text": [
      "aenum-2.2.0          | 79 KB     | ##################################### | 100% \n",
      "libwebp-base-1.1.0   | 845 KB    | ##################################### | 100% \n",
      "backports-1.0        | 4 KB      | ##################################### | 100% \n",
      "icu-58.2             | 22.6 MB   | ##################################### | 100% \n",
      "sip-4.19.8           | 290 KB    | ##################################### | 100% \n",
      "xorg-libxdmcp-1.1.3  | 18 KB     | ##################################### | 100% \n",
      "zstd-1.4.4           | 982 KB    | ##################################### | 100% \n",
      "libopenblas-0.3.7    | 7.6 MB    | ##################################### | 100% \n",
      "libtiff-4.1.0        | 668 KB    | ##################################### | 100% \n",
      "certifi-2019.11.28   | 149 KB    | ##################################### | 100% \n",
      "libpng-1.6.37        | 308 KB    | ##################################### | 100% \n",
      "backports.functools_ | 8 KB      | ##################################### | 100% \n",
      "futures-3.3.0        | 26 KB     | ##################################### | 100% \n",
      "pytz-2019.3          | 237 KB    | ##################################### | 100% \n",
      "python_abi-2.7       | 4 KB      | ##################################### | 100% \n",
      "jpeg-9c              | 251 KB    | ##################################### | 100% \n",
      "ipaddress-1.0.23     | 19 KB     | ##################################### | 100% \n",
      "lz4-c-1.8.3          | 187 KB    | ##################################### | 100% \n",
      "libxml2-2.9.9        | 1.3 MB    | ##################################### | 100% \n",
      "freetype-2.10.1      | 877 KB    | ##################################### | 100% \n",
      "cycler-0.10.0        | 9 KB      | ##################################### | 100% \n",
      "libiconv-1.15        | 2.0 MB    | ##################################### | 100% \n",
      "libxcb-1.13          | 396 KB    | ##################################### | 100% \n",
      "proj4-6.1.1          | 9.8 MB    | ##################################### | 100% \n",
      "pyproj-2.2.2         | 234 KB    | ##################################### | 100% \n",
      "urllib3-1.25.7       | 158 KB    | ##################################### | 100% \n",
      "scipy-1.2.1          | 18.4 MB   | ##################################### | 100% \n",
      "tornado-5.1.1        | 642 KB    | ##################################### | 100% \n",
      "requests-2.23.0      | 47 KB     | ##################################### | 100% \n",
      "six-1.14.0           | 13 KB     | ##################################### | 100% \n",
      "python-dateutil-2.8. | 220 KB    | ##################################### | 100% \n",
      "gettext-0.19.8.1     | 3.6 MB    | ##################################### | 100% \n",
      "xz-5.2.4             | 375 KB    | ##################################### | 100% \n",
      "enum34-1.1.10        | 49 KB     | ##################################### | 100% \n",
      "pysocks-1.7.1        | 26 KB     | ##################################### | 100% \n",
      "dbus-1.13.6          | 602 KB    | ##################################### | 100% \n",
      "pyopenssl-19.1.0     | 47 KB     | ##################################### | 100% \n",
      "pthread-stubs-0.4    | 5 KB      | ##################################### | 100% \n",
      "idna-2.9             | 52 KB     | ##################################### | 100% \n",
      "matplotlib-2.2.3     | 4.8 MB    | ##################################### | 100% \n",
      "chardet-3.0.4        | 180 KB    | ##################################### | 100% \n",
      "cartopy-0.17.0       | 1.8 MB    | ##################################### | 100% \n",
      "libuuid-2.32.1       | 26 KB     | ##################################### | 100% \n",
      "cffi-1.14.0          | 217 KB    | ##################################### | 100% \n",
      "cryptography-2.8     | 609 KB    | ##################################### | 100% \n",
      "olefile-0.46         | 31 KB     | ##################################### | 100% \n",
      "libcblas-3.8.0       | 10 KB     | ##################################### | 100% \n",
      "pillow-5.3.0         | 593 KB    | ##################################### | 100% \n",
      "kiwisolver-1.1.0     | 88 KB     | ##################################### | 100% \n",
      "libblas-3.8.0        | 10 KB     | ##################################### | 100% \n",
      "pcre-8.44            | 261 KB    | ##################################### | 100% \n",
      "pyqt-5.9.2           | 5.5 MB    | ##################################### | 100% \n",
      "libgfortran-ng-7.3.0 | 1.7 MB    | ##################################### | 100% \n",
      "xorg-libxau-1.0.9    | 13 KB     | ##################################### | 100% \n",
      "fontconfig-2.13.1    | 327 KB    | ##################################### | 100% \n",
      "pykdtree-1.3.1       | 69 KB     | ##################################### | 100% \n",
      "functools32-3.2.3.2  | 15 KB     | ##################################### | 100% \n",
      "geos-3.7.2           | 877 KB    | ##################################### | 100% \n",
      "gstreamer-1.14.5     | 4.5 MB    | ##################################### | 100% \n",
      "numpy-1.16.5         | 4.3 MB    | ##################################### | 100% \n",
      "expat-2.2.9          | 191 KB    | ##################################### | 100% \n",
      "gst-plugins-base-1.1 | 6.8 MB    | ##################################### | 100% \n",
      "pycparser-2.20       | 89 KB     | ##################################### | 100% \n",
      "qt-5.9.7             | 85.9 MB   | ##################################### | 100% \n",
      "owslib-0.18.0        | 124 KB    | ##################################### | 100% \n",
      "liblapack-3.8.0      | 10 KB     | ##################################### | 100% \n",
      "singledispatch-3.4.0 | 15 KB     | ##################################### | 100% \n",
      "shapely-1.6.4        | 332 KB    | ##################################### | 100% \n",
      "glib-2.58.3          | 3.3 MB    | ##################################### | 100% \n",
      "backports_abc-0.5    | 5 KB      | ##################################### | 100% \n",
      "subprocess32-3.5.4   | 46 KB     | ##################################### | 100% \n",
      "pyparsing-2.4.6      | 59 KB     | ##################################### | 100% \n",
      "Preparing transaction: done\n",
      "Verifying transaction: done\n",
      "Executing transaction: done\n"
     ]
    }
   ],
   "source": [
    "!conda install --yes -c conda-forge cartopy"
   ]
  },
  {
   "cell_type": "code",
   "execution_count": null,
   "metadata": {
    "hidden": true
   },
   "outputs": [],
   "source": [
    "geopandas "
   ]
  },
  {
   "cell_type": "code",
   "execution_count": 10,
   "metadata": {
    "ExecuteTime": {
     "end_time": "2020-04-03T19:52:42.573098Z",
     "start_time": "2020-04-03T19:52:31.532192Z"
    },
    "collapsed": true,
    "hidden": true
   },
   "outputs": [
    {
     "name": "stdout",
     "output_type": "stream",
     "text": [
      "\u001b[33mDEPRECATION: Python 2.7 will reach the end of its life on January 1st, 2020. Please upgrade your Python as Python 2.7 won't be maintained after that date. A future version of pip will drop support for Python 2.7. More details about Python 2 support in pip, can be found at https://pip.pypa.io/en/latest/development/release-process/#python-2-support\u001b[0m\n",
      "Collecting geopandas\n",
      "\u001b[?25l  Downloading https://files.pythonhosted.org/packages/52/4f/6440a63c9367d981a91de458467eed4a8e259a26f24158071b610a1ed1dd/geopandas-0.6.3-py2.py3-none-any.whl (920kB)\n",
      "\u001b[K     |████████████████████████████████| 921kB 2.7MB/s eta 0:00:01\n",
      "\u001b[?25hRequirement already satisfied: pyproj in /opt/conda/envs/python2/lib/python2.7/site-packages (from geopandas) (2.2.2)\n",
      "Requirement already satisfied: shapely in /opt/conda/envs/python2/lib/python2.7/site-packages (from geopandas) (1.6.4.post2)\n",
      "Collecting pandas>=0.23.0 (from geopandas)\n",
      "\u001b[?25l  Downloading https://files.pythonhosted.org/packages/db/83/7d4008ffc2988066ff37f6a0bb6d7b60822367dcb36ba5e39aa7801fda54/pandas-0.24.2-cp27-cp27mu-manylinux1_x86_64.whl (10.1MB)\n",
      "\u001b[K     |████████████████████████████████| 10.1MB 3.0MB/s eta 0:00:01\n",
      "\u001b[?25hCollecting fiona (from geopandas)\n",
      "\u001b[?25l  Downloading https://files.pythonhosted.org/packages/7d/3f/98f46f69bb14fe3811b446f8a54ff1ed54e53b07bb9dce3aae68252e5600/Fiona-1.8.13.post1-cp27-cp27mu-manylinux1_x86_64.whl (14.7MB)\n",
      "\u001b[K     |████████████████████████████████| 14.7MB 4.4MB/s eta 0:00:01\n",
      "\u001b[?25hRequirement already satisfied: aenum; python_version < \"3.6\" in /opt/conda/envs/python2/lib/python2.7/site-packages (from pyproj->geopandas) (2.2.0)\n",
      "Requirement already satisfied: pytz>=2011k in /opt/conda/envs/python2/lib/python2.7/site-packages (from pandas>=0.23.0->geopandas) (2019.3)\n",
      "Requirement already satisfied: numpy>=1.12.0 in /opt/conda/envs/python2/lib/python2.7/site-packages (from pandas>=0.23.0->geopandas) (1.16.6)\n",
      "Requirement already satisfied: python-dateutil>=2.5.0 in /opt/conda/envs/python2/lib/python2.7/site-packages (from pandas>=0.23.0->geopandas) (2.8.1)\n",
      "Collecting attrs>=17 (from fiona->geopandas)\n",
      "  Downloading https://files.pythonhosted.org/packages/a2/db/4313ab3be961f7a763066401fb77f7748373b6094076ae2bda2806988af6/attrs-19.3.0-py2.py3-none-any.whl\n",
      "Collecting click-plugins>=1.0 (from fiona->geopandas)\n",
      "  Downloading https://files.pythonhosted.org/packages/e9/da/824b92d9942f4e472702488857914bdd50f73021efea15b4cad9aca8ecef/click_plugins-1.1.1-py2.py3-none-any.whl\n",
      "Collecting munch (from fiona->geopandas)\n",
      "  Downloading https://files.pythonhosted.org/packages/cc/ab/85d8da5c9a45e072301beb37ad7f833cd344e04c817d97e0cc75681d248f/munch-2.5.0-py2.py3-none-any.whl\n",
      "Collecting cligj>=0.5 (from fiona->geopandas)\n",
      "  Downloading https://files.pythonhosted.org/packages/b7/61/83f3b3d57313f17250263f03cf1631d68c9f4267ce69059063bf8f73d7f4/cligj-0.5.0-py2-none-any.whl\n",
      "Requirement already satisfied: enum34; python_version < \"3.4\" in /opt/conda/envs/python2/lib/python2.7/site-packages (from fiona->geopandas) (1.1.10)\n",
      "Collecting click<8,>=4.0 (from fiona->geopandas)\n",
      "\u001b[?25l  Downloading https://files.pythonhosted.org/packages/dd/c0/4d8f43a9b16e289f36478422031b8a63b54b6ac3b1ba605d602f10dd54d6/click-7.1.1-py2.py3-none-any.whl (82kB)\n",
      "\u001b[K     |████████████████████████████████| 92kB 5.1MB/s eta 0:00:01\n",
      "\u001b[?25hRequirement already satisfied: six>=1.7 in /opt/conda/envs/python2/lib/python2.7/site-packages (from fiona->geopandas) (1.14.0)\n",
      "Installing collected packages: pandas, attrs, click, click-plugins, munch, cligj, fiona, geopandas\n",
      "Successfully installed attrs-19.3.0 click-7.1.1 click-plugins-1.1.1 cligj-0.5.0 fiona-1.8.13.post1 geopandas-0.6.3 munch-2.5.0 pandas-0.24.2\n",
      "\u001b[33mWARNING: You are using pip version 19.2.3, however version 20.0.2 is available.\n",
      "You should consider upgrading via the 'pip install --upgrade pip' command.\u001b[0m\n"
     ]
    }
   ],
   "source": [
    "!pip install geopandas"
   ]
  },
  {
   "cell_type": "markdown",
   "metadata": {
    "hidden": true
   },
   "source": [
    "## list python modules with version"
   ]
  },
  {
   "cell_type": "code",
   "execution_count": null,
   "metadata": {
    "hidden": true
   },
   "outputs": [],
   "source": [
    "!pip freeze"
   ]
  },
  {
   "cell_type": "markdown",
   "metadata": {},
   "source": [
    "# code"
   ]
  },
  {
   "cell_type": "markdown",
   "metadata": {},
   "source": [
    "## reformat PLZ coordinates from .xml into centroid "
   ]
  },
  {
   "cell_type": "code",
   "execution_count": null,
   "metadata": {},
   "outputs": [],
   "source": [
    "def construct_poly(row):\n",
    "    lest_x = row['Lest_X']\n",
    "    lest_y = row['Lest_Y']\n",
    "    splitted_x_list = lest_x.split(\"-\")\n",
    "    splitted_y_list = lest_y.split(\"-\")\n",
    "    lower_y = int(splitted_y_list[0])\n",
    "    upper_y = int(splitted_y_list[1]) + 1\n",
    "    lower_x = int(splitted_x_list[0])\n",
    "    upper_x = int(splitted_x_list[1]) + 1\n",
    "    lower_left_corner = (lower_y, lower_x)\n",
    "    lower_right_corner = (lower_y, upper_x)\n",
    "    upper_right_corner = (upper_y, upper_x)\n",
    "    upper_left_corner = (upper_y, lower_x)\n",
    "    poly = Polygon([lower_left_corner, lower_right_corner, upper_right_corner, upper_left_corner, lower_left_corner])\n",
    "return poly\n",
    "\n",
    "# import xml with PLZ coordinates into dataframe\n",
    "df <- xml\n",
    "\n",
    "df['geometry'] = df.apply(construct_poly, axis=1)\n",
    "\n",
    "gdf_poly['centroids'] = gdf_poly.centroid"
   ]
  },
  {
   "cell_type": "markdown",
   "metadata": {},
   "source": [
    "## read volunteer data via API .json"
   ]
  },
  {
   "cell_type": "code",
   "execution_count": null,
   "metadata": {},
   "outputs": [],
   "source": [
    "import requests\n",
    "import json\n",
    "\n",
    "url = 'https://...'\n",
    "r = requests.get(url)\n",
    "# fake example:\n",
    "print(json.loads(r.content))\n",
    "4056   5   MONDAY     AFTERNOON\n",
    "6010   0   WEDNESDAY  MORNING\n"
   ]
  },
  {
   "cell_type": "markdown",
   "metadata": {},
   "source": [
    "## pre-processing: convert postcode to coordinates, normalization (?) and convert to color scale"
   ]
  },
  {
   "cell_type": "code",
   "execution_count": null,
   "metadata": {},
   "outputs": [],
   "source": []
  },
  {
   "cell_type": "markdown",
   "metadata": {},
   "source": [
    "## generate map"
   ]
  },
  {
   "cell_type": "code",
   "execution_count": 44,
   "metadata": {
    "ExecuteTime": {
     "end_time": "2020-04-04T08:09:15.653781Z",
     "start_time": "2020-04-04T08:09:15.222833Z"
    }
   },
   "outputs": [
    {
     "data": {
      "image/png": "[encoded data removed]",
      "text/plain": [
       "<Figure size 1080x720 with 1 Axes>"
      ]
     },
     "metadata": {
      "needs_background": "light"
     },
     "output_type": "display_data"
    }
   ],
   "source": [
    "import pandas as pd\n",
    "import geopandas as gpd\n",
    "import numpy as np\n",
    "import matplotlib.pyplot as plt\n",
    "import cartopy.crs as ccrs\n",
    "from cartopy.io import shapereader\n",
    "from shapely.geometry import box, Polygon\n",
    "\n",
    "# get natural earth data (http://www.naturalearthdata.com/)\n",
    "\n",
    "# get country borders\n",
    "resolution = '10m'\n",
    "category = 'cultural'\n",
    "name = 'admin_0_countries'\n",
    "\n",
    "shpfilename = shapereader.natural_earth(resolution, category, name)\n",
    "\n",
    "# read the shapefile using geopandas\n",
    "df = geopandas.read_file(shpfilename)\n",
    "\n",
    "# read the Swiss borders\n",
    "poly = df.loc[df['ADMIN'] == 'Switzerland']['geometry']\n",
    "# read the german borders\n",
    "#poly = df.loc[df['ADMIN'] == 'Germany']['geometry'].values[0]\n",
    "\n",
    "# create a geodataframe from our dataframe \n",
    "# gdf_poly = gpd.GeoDataFrame(df, geometry='geometry', crs=from_epsg(3301))\n",
    "# Create an empty geopandas GeoDataFrame\n",
    "gdf_centroids = gpd.GeoDataFrame()\n",
    "gdf_centroids['geometry'] = Polygon([(24.950899, 46.169158),(24.950899, 46.169158),(24.950899, 46.169158)])\n",
    "\n",
    "fig = plt.figure(figsize=(15, 10))\n",
    "ax = plt.axes(projection=ccrs.PlateCarree())\n",
    "\n",
    "ax.add_geometries(poly, crs=ccrs.PlateCarree(), facecolor='none', \n",
    "                  edgecolor='0.5')\n",
    "#ax.add_geometries(gdf_centroids)\n",
    "\n",
    "ax.set_extent([5.5, 11, 45.5, 48], crs=ccrs.PlateCarree())\n",
    "\n",
    "\n",
    "plt.show()"
   ]
  },
  {
   "cell_type": "code",
   "execution_count": 42,
   "metadata": {
    "ExecuteTime": {
     "end_time": "2020-04-04T08:06:47.296220Z",
     "start_time": "2020-04-04T08:06:47.290393Z"
    }
   },
   "outputs": [
    {
     "name": "stdout",
     "output_type": "stream",
     "text": [
      "POLYGON ((24.950899 46.169158, 24.950899 46.169158, 24.950899 46.169158, 24.950899 46.169158))\n"
     ]
    }
   ],
   "source": [
    "print(Polygon([(24.950899, 46.169158),(24.950899, 46.169158),(24.950899, 46.169158)]))"
   ]
  },
  {
   "cell_type": "code",
   "execution_count": null,
   "metadata": {},
   "outputs": [],
   "source": []
  }
 ],
 "metadata": {
  "kernelspec": {
   "display_name": "Python 2",
   "language": "python",
   "name": "python2"
  },
  "language_info": {
   "codemirror_mode": {
    "name": "ipython",
    "version": 2
   },
   "file_extension": ".py",
   "mimetype": "text/x-python",
   "name": "python",
   "nbconvert_exporter": "python",
   "pygments_lexer": "ipython2",
   "version": "2.7.16"
  },
  "toc": {
   "base_numbering": 1,
   "nav_menu": {},
   "number_sections": true,
   "sideBar": true,
   "skip_h1_title": false,
   "title_cell": "Table of Contents",
   "title_sidebar": "Contents",
   "toc_cell": false,
   "toc_position": {},
   "toc_section_display": true,
   "toc_window_display": false
  },
  "varInspector": {
   "cols": {
    "lenName": 16,
    "lenType": 16,
    "lenVar": 40
   },
   "kernels_config": {
    "python": {
     "delete_cmd_postfix": "",
     "delete_cmd_prefix": "del ",
     "library": "var_list.py",
     "varRefreshCmd": "print(var_dic_list())"
    },
    "r": {
     "delete_cmd_postfix": ") ",
     "delete_cmd_prefix": "rm(",
     "library": "var_list.r",
     "varRefreshCmd": "cat(var_dic_list()) "
    }
   },
   "types_to_exclude": [
    "module",
    "function",
    "builtin_function_or_method",
    "instance",
    "_Feature"
   ],
   "window_display": false
  }
 },
 "nbformat": 4,
 "nbformat_minor": 2
}
